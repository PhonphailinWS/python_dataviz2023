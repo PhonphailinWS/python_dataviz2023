{
  "nbformat": 4,
  "nbformat_minor": 0,
  "metadata": {
    "colab": {
      "name": "Python101.ipynb",
      "provenance": [],
      "include_colab_link": true
    },
    "kernelspec": {
      "name": "python3",
      "display_name": "Python 3"
    },
    "language_info": {
      "name": "python"
    }
  },
  "cells": [
    {
      "cell_type": "markdown",
      "metadata": {
        "id": "view-in-github",
        "colab_type": "text"
      },
      "source": [
        "<a href=\"https://colab.research.google.com/github/PhonphailinWS/python_dataviz2023/blob/main/Python101.ipynb\" target=\"_parent\"><img src=\"https://colab.research.google.com/assets/colab-badge.svg\" alt=\"Open In Colab\"/></a>"
      ]
    },
    {
      "cell_type": "markdown",
      "source": [
        "ข้อความในช่อง text เป็นภาษา Markdown (https://www.markdownguide.org/cheat-sheet/)"
      ],
      "metadata": {
        "id": "2wZDJQl9Im3N"
      }
    },
    {
      "cell_type": "markdown",
      "source": [
        "# การจัดการข้อความในการเเสดงผล (Print)\n"
      ],
      "metadata": {
        "id": "0_qKwmkbJc4L"
      }
    },
    {
      "cell_type": "markdown",
      "source": [
        "## ข้อความ (string)\n",
        "### test heading 3"
      ],
      "metadata": {
        "id": "KOiORbW3OpDm"
      }
    },
    {
      "cell_type": "code",
      "source": [
        "'สถิติ' # ' เรียกว่า  quote"
      ],
      "metadata": {
        "colab": {
          "base_uri": "https://localhost:8080/",
          "height": 35
        },
        "id": "tviuJDsJK9zF",
        "outputId": "2c154dcd-33a2-4290-b08d-4dfab136bae8"
      },
      "execution_count": null,
      "outputs": [
        {
          "output_type": "execute_result",
          "data": {
            "application/vnd.google.colaboratory.intrinsic+json": {
              "type": "string"
            },
            "text/plain": [
              "'สถิติ'"
            ]
          },
          "metadata": {},
          "execution_count": 1
        }
      ]
    },
    {
      "cell_type": "code",
      "source": [
        "\"สถิติ\" # \" เรียกว่า double quote"
      ],
      "metadata": {
        "colab": {
          "base_uri": "https://localhost:8080/",
          "height": 35
        },
        "id": "f0BRzSvzLOQ0",
        "outputId": "2f63e467-4bee-45dd-96cf-e4cc1629ca15"
      },
      "execution_count": null,
      "outputs": [
        {
          "output_type": "execute_result",
          "data": {
            "application/vnd.google.colaboratory.intrinsic+json": {
              "type": "string"
            },
            "text/plain": [
              "'สถิติ'"
            ]
          },
          "metadata": {},
          "execution_count": 2
        }
      ]
    },
    {
      "cell_type": "code",
      "source": [
        "11 + 3  # ถ้าเป็นตัวเลขสามารถบวก ลบ ได้เป็นปกติ"
      ],
      "metadata": {
        "colab": {
          "base_uri": "https://localhost:8080/"
        },
        "id": "NTDUpk8gLyX0",
        "outputId": "6f677a92-9662-43f1-e53c-3f5a9a856673"
      },
      "execution_count": null,
      "outputs": [
        {
          "output_type": "execute_result",
          "data": {
            "text/plain": [
              "14"
            ]
          },
          "metadata": {},
          "execution_count": 3
        }
      ]
    },
    {
      "cell_type": "code",
      "source": [
        "'1' + '3' # ถ้าเป็นข้อความนำมาบวกกัน จะนำมาต่อกัน # string + string คือ การต่อ string"
      ],
      "metadata": {
        "colab": {
          "base_uri": "https://localhost:8080/",
          "height": 35
        },
        "id": "iOT7s-e8L1G7",
        "outputId": "ad501d25-bbe5-41f5-adfb-f2b61150807c"
      },
      "execution_count": null,
      "outputs": [
        {
          "output_type": "execute_result",
          "data": {
            "application/vnd.google.colaboratory.intrinsic+json": {
              "type": "string"
            },
            "text/plain": [
              "'13'"
            ]
          },
          "metadata": {},
          "execution_count": 4
        }
      ]
    },
    {
      "cell_type": "code",
      "source": [
        "1 - 3 # ถ้าเป็นตัวเลขสามารถบวก ลบ ได้เป็นปกติ"
      ],
      "metadata": {
        "colab": {
          "base_uri": "https://localhost:8080/"
        },
        "id": "8qimKfh0MEoz",
        "outputId": "0353b780-99cd-4048-9422-a03a5079f07d"
      },
      "execution_count": null,
      "outputs": [
        {
          "output_type": "execute_result",
          "data": {
            "text/plain": [
              "-2"
            ]
          },
          "metadata": {},
          "execution_count": 5
        }
      ]
    },
    {
      "cell_type": "code",
      "source": [
        "'1' - '3' # error เพราะไม่สามารถนำข้อความมาต่อกันได้ # - string ไม่สามารถทำได้"
      ],
      "metadata": {
        "colab": {
          "base_uri": "https://localhost:8080/",
          "height": 165
        },
        "id": "W-63BPs_L7yT",
        "outputId": "ce44120b-5d6b-4b08-9de6-f49cd6ee2065"
      },
      "execution_count": null,
      "outputs": [
        {
          "output_type": "error",
          "ename": "TypeError",
          "evalue": "ignored",
          "traceback": [
            "\u001b[0;31m---------------------------------------------------------------------------\u001b[0m",
            "\u001b[0;31mTypeError\u001b[0m                                 Traceback (most recent call last)",
            "\u001b[0;32m<ipython-input-7-7a0c37000aef>\u001b[0m in \u001b[0;36m<module>\u001b[0;34m()\u001b[0m\n\u001b[0;32m----> 1\u001b[0;31m \u001b[0;34m'1'\u001b[0m \u001b[0;34m-\u001b[0m \u001b[0;34m'3'\u001b[0m \u001b[0;31m# error เพราะไม่สามารถนำข้อความมาต่อกันได้ # - string ไม่สามารถทำได้\u001b[0m\u001b[0;34m\u001b[0m\u001b[0;34m\u001b[0m\u001b[0m\n\u001b[0m",
            "\u001b[0;31mTypeError\u001b[0m: unsupported operand type(s) for -: 'str' and 'str'"
          ]
        }
      ]
    },
    {
      "cell_type": "markdown",
      "source": [
        "## print(ข้อความ)\n",
        "`print(ข้อความ)`"
      ],
      "metadata": {
        "id": "uDd_xdlQNE8b"
      }
    },
    {
      "cell_type": "code",
      "execution_count": null,
      "metadata": {
        "colab": {
          "base_uri": "https://localhost:8080/"
        },
        "id": "yebGhek0INBO",
        "outputId": "f91b3b23-a371-41f3-81cd-c6e6570684e8"
      },
      "outputs": [
        {
          "output_type": "stream",
          "name": "stdout",
          "text": [
            "ข้อความที่อยากให้ print\n"
          ]
        }
      ],
      "source": [
        "print('ข้อความที่อยากให้ print') # เเสดง output ออกมาที่หน้าจอ"
      ]
    },
    {
      "cell_type": "markdown",
      "source": [
        "# ตัวแปร (Variables)"
      ],
      "metadata": {
        "id": "dvj7y7zmKCu0"
      }
    },
    {
      "cell_type": "code",
      "source": [
        "vartest1 = 1+3 # การตั้งตัวเเปรไว้"
      ],
      "metadata": {
        "id": "A6rvPytoKGVA"
      },
      "execution_count": null,
      "outputs": []
    },
    {
      "cell_type": "code",
      "source": [
        "vartest1 # เเสดงค่าของตัวเเปร"
      ],
      "metadata": {
        "colab": {
          "base_uri": "https://localhost:8080/"
        },
        "id": "mDAL-utDN3Pk",
        "outputId": "aaec23c2-67b5-4081-8ab2-76f2459ebab9"
      },
      "execution_count": null,
      "outputs": [
        {
          "output_type": "execute_result",
          "data": {
            "text/plain": [
              "4"
            ]
          },
          "metadata": {},
          "execution_count": 10
        }
      ]
    },
    {
      "cell_type": "code",
      "source": [
        "print(vartest1) # เเสดง output ออกมา"
      ],
      "metadata": {
        "colab": {
          "base_uri": "https://localhost:8080/"
        },
        "id": "1VJfnVPFN_AU",
        "outputId": "405e8414-5c5d-4228-92d8-5c8c261b5d0d"
      },
      "execution_count": null,
      "outputs": [
        {
          "output_type": "stream",
          "name": "stdout",
          "text": [
            "4\n"
          ]
        }
      ]
    },
    {
      "cell_type": "code",
      "source": [
        "vartest2 = '1' + '3' # ตั้งตัวเเปรไว้"
      ],
      "metadata": {
        "id": "ymUgIYFGOEJE"
      },
      "execution_count": null,
      "outputs": []
    },
    {
      "cell_type": "code",
      "source": [
        "vartest2 # เเสดงค่าของตัวเเปร"
      ],
      "metadata": {
        "colab": {
          "base_uri": "https://localhost:8080/",
          "height": 35
        },
        "id": "fizC3osKOJIJ",
        "outputId": "6a561348-a192-4b3e-b4aa-ef290bbee354"
      },
      "execution_count": null,
      "outputs": [
        {
          "output_type": "execute_result",
          "data": {
            "application/vnd.google.colaboratory.intrinsic+json": {
              "type": "string"
            },
            "text/plain": [
              "'13'"
            ]
          },
          "metadata": {},
          "execution_count": 13
        }
      ]
    },
    {
      "cell_type": "code",
      "source": [
        "print(vartest2)  # เเสดง output ออกมา"
      ],
      "metadata": {
        "colab": {
          "base_uri": "https://localhost:8080/"
        },
        "id": "nt_KO2ZYOPKZ",
        "outputId": "fd6186eb-8dcd-498c-e493-0d91ed8ae2d8"
      },
      "execution_count": null,
      "outputs": [
        {
          "output_type": "stream",
          "name": "stdout",
          "text": [
            "13\n"
          ]
        }
      ]
    },
    {
      "cell_type": "markdown",
      "source": [
        "## ข้อกำหนดในการตั้งชื่อตัวแปร\n",
        "\n",
        "1. ตั้งให้สื่อความหมาย\n",
        "\n",
        "2. ต้องเป็นภาษาอังกฤษ\n",
        "\n",
        "3. ใช้ตัวเลขผสมกับตัวหนังสือได้ เเต่ห้ามขึ้นต้นด้วยตัวเลข\n",
        "\n",
        "4. ห้ามมีเว้นวรรคในชื่อตัวเเปร\n",
        "\n",
        "5. ตัวใหญ่กับตัวเล็ก ค่าไม่เท่ากัน"
      ],
      "metadata": {
        "id": "tv4o-uzmCDot"
      }
    },
    {
      "cell_type": "markdown",
      "source": [
        "## Advanced Printing\n",
        "เราสามารถ print code ร่วมกับข้อความได้\n",
        "\n",
        "```python\n",
        "print(f'ข้อความ{code}')\n",
        "```\n",
        "\n"
      ],
      "metadata": {
        "id": "6vF9c6blQAIK"
      }
    },
    {
      "cell_type": "code",
      "source": [
        "print(f'หนึ่ง บวก สอง (1+2) เท่ากับ สาม ({1+2})') # {} เรียกว่า  Curly Brackets"
      ],
      "metadata": {
        "colab": {
          "base_uri": "https://localhost:8080/"
        },
        "id": "j4ZWaEM-PebC",
        "outputId": "291ce10c-801c-47bf-d8be-c78181d4615d"
      },
      "execution_count": null,
      "outputs": [
        {
          "output_type": "stream",
          "name": "stdout",
          "text": [
            "หนึ่ง บวก สอง (1+2) เท่ากับ สาม (3)\n"
          ]
        }
      ]
    },
    {
      "cell_type": "code",
      "source": [
        "print(f'ตัวแปร c = {c}')"
      ],
      "metadata": {
        "id": "CXxCSW4KCu1c",
        "outputId": "ea6d7e7a-56ad-495e-8f18-12878dc3c1b4",
        "colab": {
          "base_uri": "https://localhost:8080/"
        }
      },
      "execution_count": 25,
      "outputs": [
        {
          "output_type": "stream",
          "name": "stdout",
          "text": [
            "ตัวแปร c = 9.23076923076923\n"
          ]
        }
      ]
    },
    {
      "cell_type": "code",
      "source": [
        "a = 1\n",
        "b = 2\n",
        "print(f'หนึ่ง บวก สอง ({a}+{b}) เท่ากับ สาม ({a+b})') # สามารถกำหนดตัวเเปรมาใส่ในข้อความได้"
      ],
      "metadata": {
        "colab": {
          "base_uri": "https://localhost:8080/"
        },
        "id": "sDUlxRFmRVeH",
        "outputId": "14c6b1bf-4810-4ed7-927f-411d0ba6531d"
      },
      "execution_count": null,
      "outputs": [
        {
          "output_type": "stream",
          "name": "stdout",
          "text": [
            "หนึ่ง บวก สอง (1+2) เท่ากับ สาม (3)\n"
          ]
        }
      ]
    },
    {
      "cell_type": "code",
      "source": [
        "a = 5\n",
        "b = 2"
      ],
      "metadata": {
        "id": "gtYGpGgLRmT6"
      },
      "execution_count": null,
      "outputs": []
    },
    {
      "cell_type": "code",
      "source": [
        "print(f'{a}+{b} = {a+b}')"
      ],
      "metadata": {
        "colab": {
          "base_uri": "https://localhost:8080/"
        },
        "id": "w6fiBEQbRs4D",
        "outputId": "bf3c753d-74d0-4788-b6a6-e84329ff51d7"
      },
      "execution_count": null,
      "outputs": [
        {
          "output_type": "stream",
          "name": "stdout",
          "text": [
            "5+2 = 7\n"
          ]
        }
      ]
    },
    {
      "cell_type": "code",
      "source": [
        "print(f'{a}+{b} = {a+b}')"
      ],
      "metadata": {
        "colab": {
          "base_uri": "https://localhost:8080/"
        },
        "id": "fLl-RvcxTfPu",
        "outputId": "ef97e387-b412-495b-e009-5b6d3de99924"
      },
      "execution_count": null,
      "outputs": [
        {
          "output_type": "stream",
          "name": "stdout",
          "text": [
            "5+2 = 7\n"
          ]
        }
      ]
    },
    {
      "cell_type": "markdown",
      "source": [
        "decimal places (ทศนิยมกี่ตำแหน่ง) || digit\n"
      ],
      "metadata": {
        "id": "snNMV0csDuUx"
      }
    },
    {
      "cell_type": "markdown",
      "source": [
        "decimal places"
      ],
      "metadata": {
        "id": "9LH-ZAQxEWbl"
      }
    },
    {
      "cell_type": "code",
      "source": [
        "f'{1.009:.2f}'"
      ],
      "metadata": {
        "id": "47ZBzQN2DtNL",
        "outputId": "39b8e25d-44e4-4fc8-de12-43c001a72bd5",
        "colab": {
          "base_uri": "https://localhost:8080/",
          "height": 35
        }
      },
      "execution_count": 27,
      "outputs": [
        {
          "output_type": "execute_result",
          "data": {
            "text/plain": [
              "'1.01'"
            ],
            "application/vnd.google.colaboratory.intrinsic+json": {
              "type": "string"
            }
          },
          "metadata": {},
          "execution_count": 27
        }
      ]
    },
    {
      "cell_type": "code",
      "source": [
        "f'{c:.2f}'"
      ],
      "metadata": {
        "id": "Oi9jwWUqF1uq",
        "outputId": "3e2dc1d3-988e-42a1-bd52-68ca90310f1f",
        "colab": {
          "base_uri": "https://localhost:8080/",
          "height": 35
        }
      },
      "execution_count": 30,
      "outputs": [
        {
          "output_type": "execute_result",
          "data": {
            "text/plain": [
              "'9.23'"
            ],
            "application/vnd.google.colaboratory.intrinsic+json": {
              "type": "string"
            }
          },
          "metadata": {},
          "execution_count": 30
        }
      ]
    },
    {
      "cell_type": "code",
      "source": [
        "f'{1:03d}'"
      ],
      "metadata": {
        "id": "MqZy8cc0FguU",
        "outputId": "9828b7ab-fdfe-4281-9cc0-0474b2e6e299",
        "colab": {
          "base_uri": "https://localhost:8080/",
          "height": 35
        }
      },
      "execution_count": 29,
      "outputs": [
        {
          "output_type": "execute_result",
          "data": {
            "text/plain": [
              "'001'"
            ],
            "application/vnd.google.colaboratory.intrinsic+json": {
              "type": "string"
            }
          },
          "metadata": {},
          "execution_count": 29
        }
      ]
    },
    {
      "cell_type": "code",
      "source": [],
      "metadata": {
        "id": "dbZeeKIsFgzk"
      },
      "execution_count": null,
      "outputs": []
    },
    {
      "cell_type": "code",
      "source": [
        "a = -1\n",
        "b = 11"
      ],
      "metadata": {
        "id": "5vSnpKe7R2E0"
      },
      "execution_count": null,
      "outputs": []
    },
    {
      "cell_type": "markdown",
      "source": [
        "## ชนิดของตัวแปร"
      ],
      "metadata": {
        "id": "WLExg3fxUV16"
      }
    },
    {
      "cell_type": "code",
      "source": [
        "5*'6'"
      ],
      "metadata": {
        "colab": {
          "base_uri": "https://localhost:8080/",
          "height": 35
        },
        "id": "U75mVku232iz",
        "outputId": "003477c4-790b-4fac-835c-199f2043b88b"
      },
      "execution_count": 23,
      "outputs": [
        {
          "output_type": "execute_result",
          "data": {
            "text/plain": [
              "'66666'"
            ],
            "application/vnd.google.colaboratory.intrinsic+json": {
              "type": "string"
            }
          },
          "metadata": {},
          "execution_count": 23
        }
      ]
    },
    {
      "cell_type": "markdown",
      "source": [
        "# Quiz 1\n",
        "print มากที่มี ก.ไก่ 100ตัว\n"
      ],
      "metadata": {
        "id": "0A4toQEg47t5"
      }
    },
    {
      "cell_type": "code",
      "source": [
        "'มาก'+100*'ก'"
      ],
      "metadata": {
        "colab": {
          "base_uri": "https://localhost:8080/",
          "height": 35
        },
        "id": "LbqNu9PO32gp",
        "outputId": "eb2c54d5-d79f-4dc6-ca9b-4a565eaafdb5"
      },
      "execution_count": 24,
      "outputs": [
        {
          "output_type": "execute_result",
          "data": {
            "text/plain": [
              "'มากกกกกกกกกกกกกกกกกกกกกกกกกกกกกกกกกกกกกกกกกกกกกกกกกกกกกกกกกกกกกกกกกกกกกกกกกกกกกกกกกกกกกกกกกกกกกกกกกกกกก'"
            ],
            "application/vnd.google.colaboratory.intrinsic+json": {
              "type": "string"
            }
          },
          "metadata": {},
          "execution_count": 24
        }
      ]
    }
  ]
}