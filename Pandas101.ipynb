{
  "nbformat": 4,
  "nbformat_minor": 0,
  "metadata": {
    "colab": {
      "name": " Pandas101.ipynb",
      "provenance": [],
      "include_colab_link": true
    },
    "kernelspec": {
      "name": "python3",
      "display_name": "Python 3"
    }
  },
  "cells": [
    {
      "cell_type": "markdown",
      "metadata": {
        "id": "view-in-github",
        "colab_type": "text"
      },
      "source": [
        "<a href=\"https://colab.research.google.com/github/PhonphailinWS/python_dataviz2023/blob/main/Pandas101.ipynb\" target=\"_parent\"><img src=\"https://colab.research.google.com/assets/colab-badge.svg\" alt=\"Open In Colab\"/></a>"
      ]
    },
    {
      "cell_type": "code",
      "metadata": {
        "id": "-db5CJRNlwyL"
      },
      "source": [
        "import pandas as pd"
      ],
      "execution_count": 9,
      "outputs": []
    },
    {
      "cell_type": "markdown",
      "source": [
        "## Meta data = Data that describtion data\n",
        "\n",
        "ใช้อธิบายช้อมูล\n",
        "\n",
        "## CSV = Comma Separated Values\n",
        "ในการจะใส่ค่าแต่ละค่า จะใช้  comma ในการแย่ง"
      ],
      "metadata": {
        "id": "RuhVtlerGS4Q"
      }
    },
    {
      "cell_type": "markdown",
      "source": [
        ".csv = Comma Separated Values"
      ],
      "metadata": {
        "id": "nG20ex-3NX6H"
      }
    },
    {
      "cell_type": "markdown",
      "source": [
        "data.go.th"
      ],
      "metadata": {
        "id": "AyRXEjDINX3K"
      }
    },
    {
      "cell_type": "markdown",
      "source": [
        "# นำ Data เข้า\n",
        "- upload to colab  # กรณีใช้เเค่ครั้งเดียว\n",
        "- link with google drive"
      ],
      "metadata": {
        "id": "_rHnnYlYIGsG"
      }
    },
    {
      "cell_type": "markdown",
      "source": [
        "## upload to colab"
      ],
      "metadata": {
        "id": "9qyXeNjjJpaF"
      }
    },
    {
      "cell_type": "code",
      "source": [
        "data0 = pd.read_csv('/csv.csv')"
      ],
      "metadata": {
        "id": "baOzFVR9JqwU",
        "colab": {
          "base_uri": "https://localhost:8080/",
          "height": 341
        },
        "outputId": "c1d62598-fa71-483e-caac-408d7357ad7f"
      },
      "execution_count": 10,
      "outputs": [
        {
          "output_type": "error",
          "ename": "FileNotFoundError",
          "evalue": "ignored",
          "traceback": [
            "\u001b[0;31m---------------------------------------------------------------------------\u001b[0m",
            "\u001b[0;31mFileNotFoundError\u001b[0m                         Traceback (most recent call last)",
            "\u001b[0;32m<ipython-input-10-fd568a010d40>\u001b[0m in \u001b[0;36m<cell line: 1>\u001b[0;34m()\u001b[0m\n\u001b[0;32m----> 1\u001b[0;31m \u001b[0mdata0\u001b[0m \u001b[0;34m=\u001b[0m \u001b[0mpd\u001b[0m\u001b[0;34m.\u001b[0m\u001b[0mread_csv\u001b[0m\u001b[0;34m(\u001b[0m\u001b[0;34m'/csv.csv'\u001b[0m\u001b[0;34m)\u001b[0m\u001b[0;34m\u001b[0m\u001b[0;34m\u001b[0m\u001b[0m\n\u001b[0m",
            "\u001b[0;32m/usr/local/lib/python3.10/dist-packages/pandas/util/_decorators.py\u001b[0m in \u001b[0;36mwrapper\u001b[0;34m(*args, **kwargs)\u001b[0m\n\u001b[1;32m    209\u001b[0m                 \u001b[0;32melse\u001b[0m\u001b[0;34m:\u001b[0m\u001b[0;34m\u001b[0m\u001b[0;34m\u001b[0m\u001b[0m\n\u001b[1;32m    210\u001b[0m                     \u001b[0mkwargs\u001b[0m\u001b[0;34m[\u001b[0m\u001b[0mnew_arg_name\u001b[0m\u001b[0;34m]\u001b[0m \u001b[0;34m=\u001b[0m \u001b[0mnew_arg_value\u001b[0m\u001b[0;34m\u001b[0m\u001b[0;34m\u001b[0m\u001b[0m\n\u001b[0;32m--> 211\u001b[0;31m             \u001b[0;32mreturn\u001b[0m \u001b[0mfunc\u001b[0m\u001b[0;34m(\u001b[0m\u001b[0;34m*\u001b[0m\u001b[0margs\u001b[0m\u001b[0;34m,\u001b[0m \u001b[0;34m**\u001b[0m\u001b[0mkwargs\u001b[0m\u001b[0;34m)\u001b[0m\u001b[0;34m\u001b[0m\u001b[0;34m\u001b[0m\u001b[0m\n\u001b[0m\u001b[1;32m    212\u001b[0m \u001b[0;34m\u001b[0m\u001b[0m\n\u001b[1;32m    213\u001b[0m         \u001b[0;32mreturn\u001b[0m \u001b[0mcast\u001b[0m\u001b[0;34m(\u001b[0m\u001b[0mF\u001b[0m\u001b[0;34m,\u001b[0m \u001b[0mwrapper\u001b[0m\u001b[0;34m)\u001b[0m\u001b[0;34m\u001b[0m\u001b[0;34m\u001b[0m\u001b[0m\n",
            "\u001b[0;32m/usr/local/lib/python3.10/dist-packages/pandas/util/_decorators.py\u001b[0m in \u001b[0;36mwrapper\u001b[0;34m(*args, **kwargs)\u001b[0m\n\u001b[1;32m    329\u001b[0m                     \u001b[0mstacklevel\u001b[0m\u001b[0;34m=\u001b[0m\u001b[0mfind_stack_level\u001b[0m\u001b[0;34m(\u001b[0m\u001b[0;34m)\u001b[0m\u001b[0;34m,\u001b[0m\u001b[0;34m\u001b[0m\u001b[0;34m\u001b[0m\u001b[0m\n\u001b[1;32m    330\u001b[0m                 )\n\u001b[0;32m--> 331\u001b[0;31m             \u001b[0;32mreturn\u001b[0m \u001b[0mfunc\u001b[0m\u001b[0;34m(\u001b[0m\u001b[0;34m*\u001b[0m\u001b[0margs\u001b[0m\u001b[0;34m,\u001b[0m \u001b[0;34m**\u001b[0m\u001b[0mkwargs\u001b[0m\u001b[0;34m)\u001b[0m\u001b[0;34m\u001b[0m\u001b[0;34m\u001b[0m\u001b[0m\n\u001b[0m\u001b[1;32m    332\u001b[0m \u001b[0;34m\u001b[0m\u001b[0m\n\u001b[1;32m    333\u001b[0m         \u001b[0;31m# error: \"Callable[[VarArg(Any), KwArg(Any)], Any]\" has no\u001b[0m\u001b[0;34m\u001b[0m\u001b[0;34m\u001b[0m\u001b[0m\n",
            "\u001b[0;32m/usr/local/lib/python3.10/dist-packages/pandas/io/parsers/readers.py\u001b[0m in \u001b[0;36mread_csv\u001b[0;34m(filepath_or_buffer, sep, delimiter, header, names, index_col, usecols, squeeze, prefix, mangle_dupe_cols, dtype, engine, converters, true_values, false_values, skipinitialspace, skiprows, skipfooter, nrows, na_values, keep_default_na, na_filter, verbose, skip_blank_lines, parse_dates, infer_datetime_format, keep_date_col, date_parser, dayfirst, cache_dates, iterator, chunksize, compression, thousands, decimal, lineterminator, quotechar, quoting, doublequote, escapechar, comment, encoding, encoding_errors, dialect, error_bad_lines, warn_bad_lines, on_bad_lines, delim_whitespace, low_memory, memory_map, float_precision, storage_options)\u001b[0m\n\u001b[1;32m    948\u001b[0m     \u001b[0mkwds\u001b[0m\u001b[0;34m.\u001b[0m\u001b[0mupdate\u001b[0m\u001b[0;34m(\u001b[0m\u001b[0mkwds_defaults\u001b[0m\u001b[0;34m)\u001b[0m\u001b[0;34m\u001b[0m\u001b[0;34m\u001b[0m\u001b[0m\n\u001b[1;32m    949\u001b[0m \u001b[0;34m\u001b[0m\u001b[0m\n\u001b[0;32m--> 950\u001b[0;31m     \u001b[0;32mreturn\u001b[0m \u001b[0m_read\u001b[0m\u001b[0;34m(\u001b[0m\u001b[0mfilepath_or_buffer\u001b[0m\u001b[0;34m,\u001b[0m \u001b[0mkwds\u001b[0m\u001b[0;34m)\u001b[0m\u001b[0;34m\u001b[0m\u001b[0;34m\u001b[0m\u001b[0m\n\u001b[0m\u001b[1;32m    951\u001b[0m \u001b[0;34m\u001b[0m\u001b[0m\n\u001b[1;32m    952\u001b[0m \u001b[0;34m\u001b[0m\u001b[0m\n",
            "\u001b[0;32m/usr/local/lib/python3.10/dist-packages/pandas/io/parsers/readers.py\u001b[0m in \u001b[0;36m_read\u001b[0;34m(filepath_or_buffer, kwds)\u001b[0m\n\u001b[1;32m    603\u001b[0m \u001b[0;34m\u001b[0m\u001b[0m\n\u001b[1;32m    604\u001b[0m     \u001b[0;31m# Create the parser.\u001b[0m\u001b[0;34m\u001b[0m\u001b[0;34m\u001b[0m\u001b[0m\n\u001b[0;32m--> 605\u001b[0;31m     \u001b[0mparser\u001b[0m \u001b[0;34m=\u001b[0m \u001b[0mTextFileReader\u001b[0m\u001b[0;34m(\u001b[0m\u001b[0mfilepath_or_buffer\u001b[0m\u001b[0;34m,\u001b[0m \u001b[0;34m**\u001b[0m\u001b[0mkwds\u001b[0m\u001b[0;34m)\u001b[0m\u001b[0;34m\u001b[0m\u001b[0;34m\u001b[0m\u001b[0m\n\u001b[0m\u001b[1;32m    606\u001b[0m \u001b[0;34m\u001b[0m\u001b[0m\n\u001b[1;32m    607\u001b[0m     \u001b[0;32mif\u001b[0m \u001b[0mchunksize\u001b[0m \u001b[0;32mor\u001b[0m \u001b[0miterator\u001b[0m\u001b[0;34m:\u001b[0m\u001b[0;34m\u001b[0m\u001b[0;34m\u001b[0m\u001b[0m\n",
            "\u001b[0;32m/usr/local/lib/python3.10/dist-packages/pandas/io/parsers/readers.py\u001b[0m in \u001b[0;36m__init__\u001b[0;34m(self, f, engine, **kwds)\u001b[0m\n\u001b[1;32m   1440\u001b[0m \u001b[0;34m\u001b[0m\u001b[0m\n\u001b[1;32m   1441\u001b[0m         \u001b[0mself\u001b[0m\u001b[0;34m.\u001b[0m\u001b[0mhandles\u001b[0m\u001b[0;34m:\u001b[0m \u001b[0mIOHandles\u001b[0m \u001b[0;34m|\u001b[0m \u001b[0;32mNone\u001b[0m \u001b[0;34m=\u001b[0m \u001b[0;32mNone\u001b[0m\u001b[0;34m\u001b[0m\u001b[0;34m\u001b[0m\u001b[0m\n\u001b[0;32m-> 1442\u001b[0;31m         \u001b[0mself\u001b[0m\u001b[0;34m.\u001b[0m\u001b[0m_engine\u001b[0m \u001b[0;34m=\u001b[0m \u001b[0mself\u001b[0m\u001b[0;34m.\u001b[0m\u001b[0m_make_engine\u001b[0m\u001b[0;34m(\u001b[0m\u001b[0mf\u001b[0m\u001b[0;34m,\u001b[0m \u001b[0mself\u001b[0m\u001b[0;34m.\u001b[0m\u001b[0mengine\u001b[0m\u001b[0;34m)\u001b[0m\u001b[0;34m\u001b[0m\u001b[0;34m\u001b[0m\u001b[0m\n\u001b[0m\u001b[1;32m   1443\u001b[0m \u001b[0;34m\u001b[0m\u001b[0m\n\u001b[1;32m   1444\u001b[0m     \u001b[0;32mdef\u001b[0m \u001b[0mclose\u001b[0m\u001b[0;34m(\u001b[0m\u001b[0mself\u001b[0m\u001b[0;34m)\u001b[0m \u001b[0;34m->\u001b[0m \u001b[0;32mNone\u001b[0m\u001b[0;34m:\u001b[0m\u001b[0;34m\u001b[0m\u001b[0;34m\u001b[0m\u001b[0m\n",
            "\u001b[0;32m/usr/local/lib/python3.10/dist-packages/pandas/io/parsers/readers.py\u001b[0m in \u001b[0;36m_make_engine\u001b[0;34m(self, f, engine)\u001b[0m\n\u001b[1;32m   1733\u001b[0m                 \u001b[0;32mif\u001b[0m \u001b[0;34m\"b\"\u001b[0m \u001b[0;32mnot\u001b[0m \u001b[0;32min\u001b[0m \u001b[0mmode\u001b[0m\u001b[0;34m:\u001b[0m\u001b[0;34m\u001b[0m\u001b[0;34m\u001b[0m\u001b[0m\n\u001b[1;32m   1734\u001b[0m                     \u001b[0mmode\u001b[0m \u001b[0;34m+=\u001b[0m \u001b[0;34m\"b\"\u001b[0m\u001b[0;34m\u001b[0m\u001b[0;34m\u001b[0m\u001b[0m\n\u001b[0;32m-> 1735\u001b[0;31m             self.handles = get_handle(\n\u001b[0m\u001b[1;32m   1736\u001b[0m                 \u001b[0mf\u001b[0m\u001b[0;34m,\u001b[0m\u001b[0;34m\u001b[0m\u001b[0;34m\u001b[0m\u001b[0m\n\u001b[1;32m   1737\u001b[0m                 \u001b[0mmode\u001b[0m\u001b[0;34m,\u001b[0m\u001b[0;34m\u001b[0m\u001b[0;34m\u001b[0m\u001b[0m\n",
            "\u001b[0;32m/usr/local/lib/python3.10/dist-packages/pandas/io/common.py\u001b[0m in \u001b[0;36mget_handle\u001b[0;34m(path_or_buf, mode, encoding, compression, memory_map, is_text, errors, storage_options)\u001b[0m\n\u001b[1;32m    854\u001b[0m         \u001b[0;32mif\u001b[0m \u001b[0mioargs\u001b[0m\u001b[0;34m.\u001b[0m\u001b[0mencoding\u001b[0m \u001b[0;32mand\u001b[0m \u001b[0;34m\"b\"\u001b[0m \u001b[0;32mnot\u001b[0m \u001b[0;32min\u001b[0m \u001b[0mioargs\u001b[0m\u001b[0;34m.\u001b[0m\u001b[0mmode\u001b[0m\u001b[0;34m:\u001b[0m\u001b[0;34m\u001b[0m\u001b[0;34m\u001b[0m\u001b[0m\n\u001b[1;32m    855\u001b[0m             \u001b[0;31m# Encoding\u001b[0m\u001b[0;34m\u001b[0m\u001b[0;34m\u001b[0m\u001b[0m\n\u001b[0;32m--> 856\u001b[0;31m             handle = open(\n\u001b[0m\u001b[1;32m    857\u001b[0m                 \u001b[0mhandle\u001b[0m\u001b[0;34m,\u001b[0m\u001b[0;34m\u001b[0m\u001b[0;34m\u001b[0m\u001b[0m\n\u001b[1;32m    858\u001b[0m                 \u001b[0mioargs\u001b[0m\u001b[0;34m.\u001b[0m\u001b[0mmode\u001b[0m\u001b[0;34m,\u001b[0m\u001b[0;34m\u001b[0m\u001b[0;34m\u001b[0m\u001b[0m\n",
            "\u001b[0;31mFileNotFoundError\u001b[0m: [Errno 2] No such file or directory: '/csv.csv'"
          ]
        }
      ]
    },
    {
      "cell_type": "code",
      "source": [
        "from google.colab import drive\n",
        "drive.mount('/content/drive')"
      ],
      "metadata": {
        "id": "Z946Gcz40PVQ"
      },
      "execution_count": null,
      "outputs": []
    },
    {
      "cell_type": "code",
      "source": [
        "data0.head()"
      ],
      "metadata": {
        "id": "cUr1kbUXK8L8"
      },
      "execution_count": null,
      "outputs": []
    },
    {
      "cell_type": "code",
      "source": [
        "data0.tail()"
      ],
      "metadata": {
        "id": "96rZij3uJ9ra"
      },
      "execution_count": null,
      "outputs": []
    },
    {
      "cell_type": "code",
      "source": [
        "data0.shape"
      ],
      "metadata": {
        "id": "E4JAt7jcKQp7"
      },
      "execution_count": null,
      "outputs": []
    },
    {
      "cell_type": "code",
      "source": [
        "data0.describe()"
      ],
      "metadata": {
        "id": "8960Oh47Kl1n"
      },
      "execution_count": null,
      "outputs": []
    },
    {
      "cell_type": "markdown",
      "source": [
        " NaH = Not a number\n"
      ],
      "metadata": {
        "id": "yG0JOaAyLvGW"
      }
    },
    {
      "cell_type": "markdown",
      "source": [
        "## link with google drive"
      ],
      "metadata": {
        "id": "CgUMNJxVO9FV"
      }
    },
    {
      "cell_type": "code",
      "metadata": {
        "id": "RwYRFJocm086"
      },
      "source": [
        "from google.colab import drive\n",
        "drive.mount('/content/drive')  # mount =  เชื่อมไดร์ฟ"
      ],
      "execution_count": null,
      "outputs": []
    },
    {
      "cell_type": "code",
      "source": [
        "data1 = pd.read_csv('/content/drive/MyDrive/DataViz23Data/csv.csv')\n",
        "data1.head()"
      ],
      "metadata": {
        "id": "PSxrUlEWPjHE"
      },
      "execution_count": null,
      "outputs": []
    },
    {
      "cell_type": "code",
      "source": [
        "data1.head(10)  # ดูหัวตาราง จากแถวบน 10 แถวแรก นับจาก 0-9"
      ],
      "metadata": {
        "id": "x2yBLVzVQZp0",
        "colab": {
          "base_uri": "https://localhost:8080/",
          "height": 933
        },
        "outputId": "670e4e93-38ef-4c0d-a758-e33bf84771a9"
      },
      "execution_count": 11,
      "outputs": [
        {
          "output_type": "execute_result",
          "data": {
            "text/plain": [
              "  Budget_resource  Issue_No  Fiscal_year  Department_code          Department  \\\n",
              "0       งบประจำปี         0           62         11000000    สำนักการระบายน้ำ   \n",
              "1       งบประจำปี         0           62         11000000    สำนักการระบายน้ำ   \n",
              "2       งบประจำปี         0           62         11000000    สำนักการระบายน้ำ   \n",
              "3       งบประจำปี         0           62         11000000    สำนักการระบายน้ำ   \n",
              "4       งบประจำปี         0           62         11000000    สำนักการระบายน้ำ   \n",
              "5       งบประจำปี         0           62         11000000    สำนักการระบายน้ำ   \n",
              "6       งบประจำปี         0           62         50130000  สำนักงานเขตมีนบุรี   \n",
              "7       งบประจำปี         0           62         50130000  สำนักงานเขตมีนบุรี   \n",
              "8       งบประจำปี         0           62         50150000  สำนักงานเขตหนองจอก   \n",
              "9       งบประจำปี         0           62         50150000  สำนักงานเขตหนองจอก   \n",
              "\n",
              "                                    Core_budget_code Expenditure_category  \\\n",
              "0  12-เงินสำรองจ่ายทั่วไป กรณีค่าใช้จ่ายต่างๆ เกี...              งบลงทุน   \n",
              "1  12-เงินสำรองจ่ายทั่วไป กรณีค่าใช้จ่ายต่างๆ เกี...              งบลงทุน   \n",
              "2  12-เงินสำรองจ่ายทั่วไป กรณีค่าใช้จ่ายต่างๆ เกี...              งบลงทุน   \n",
              "3  12-เงินสำรองจ่ายทั่วไป กรณีค่าใช้จ่ายต่างๆ เกี...              งบลงทุน   \n",
              "4  12-เงินสำรองจ่ายทั่วไป กรณีค่าใช้จ่ายต่างๆ เกี...              งบลงทุน   \n",
              "5  12-เงินสำรองจ่ายทั่วไป กรณีค่าใช้จ่ายต่างๆ เกี...              งบลงทุน   \n",
              "6  12-เงินสำรองจ่ายทั่วไป กรณีค่าใช้จ่ายต่างๆ เกี...              งบลงทุน   \n",
              "7  12-เงินสำรองจ่ายทั่วไป กรณีค่าใช้จ่ายต่างๆ เกี...              งบลงทุน   \n",
              "8               28-เงินสำรองค่าใช้จ่าย ในการพัฒนาเขต              งบลงทุน   \n",
              "9               28-เงินสำรองค่าใช้จ่าย ในการพัฒนาเขต              งบลงทุน   \n",
              "\n",
              "                                           Item_name  Approved_buget  \n",
              "0        ขุดลอกคลองบางกะปิจากคลองสามเสนถึงคลองแสนแสบ         1193000  \n",
              "1  ขุดลอกคลองทรงกระเทียมจากคลองลาดพร้าวถึงถนนโชคช...         1100000  \n",
              "2          ขุดลอกคลองเป้งจากคลองแสนแสบถึงซอยเจริญสุข         3075000  \n",
              "3  ขุดลอกคลองลำพังพวยจากถนนศรีบูรพาถึงสถานีสูบน้ำ...         6240000  \n",
              "4  ขุดลอกบึงรางเข้จากคลองพระยาราชมนตรีถึงถนนบางขุ...         2685000  \n",
              "5  ขุดลอกคลองราษฎร์สามัคคีจากคลองทวีวัฒนาถึงคลองม...         1207000  \n",
              "6  ขุดลอกลำรางโต๊ะรอด ตั้งแต่คลองสองต้นนุ่นถึงระย...          225400  \n",
              "7  ขุดลอกลำรางเลียบคลองบึงขวาง ตั้งแต่คลองบึงขวาง...          452500  \n",
              "8  ขุดลอกคลองลำแขก จากคลองลำปลาทิว \\nถึงคลองลำตาเ...          447000  \n",
              "9  ขุดลอกคลองอู่ตะเภา จากคลองลำนกแขวก\\nถึงคลองลำม...          497000  "
            ],
            "text/html": [
              "\n",
              "\n",
              "  <div id=\"df-5115485f-7585-4734-a3f0-0a162691e3e7\">\n",
              "    <div class=\"colab-df-container\">\n",
              "      <div>\n",
              "<style scoped>\n",
              "    .dataframe tbody tr th:only-of-type {\n",
              "        vertical-align: middle;\n",
              "    }\n",
              "\n",
              "    .dataframe tbody tr th {\n",
              "        vertical-align: top;\n",
              "    }\n",
              "\n",
              "    .dataframe thead th {\n",
              "        text-align: right;\n",
              "    }\n",
              "</style>\n",
              "<table border=\"1\" class=\"dataframe\">\n",
              "  <thead>\n",
              "    <tr style=\"text-align: right;\">\n",
              "      <th></th>\n",
              "      <th>Budget_resource</th>\n",
              "      <th>Issue_No</th>\n",
              "      <th>Fiscal_year</th>\n",
              "      <th>Department_code</th>\n",
              "      <th>Department</th>\n",
              "      <th>Core_budget_code</th>\n",
              "      <th>Expenditure_category</th>\n",
              "      <th>Item_name</th>\n",
              "      <th>Approved_buget</th>\n",
              "    </tr>\n",
              "  </thead>\n",
              "  <tbody>\n",
              "    <tr>\n",
              "      <th>0</th>\n",
              "      <td>งบประจำปี</td>\n",
              "      <td>0</td>\n",
              "      <td>62</td>\n",
              "      <td>11000000</td>\n",
              "      <td>สำนักการระบายน้ำ</td>\n",
              "      <td>12-เงินสำรองจ่ายทั่วไป กรณีค่าใช้จ่ายต่างๆ เกี...</td>\n",
              "      <td>งบลงทุน</td>\n",
              "      <td>ขุดลอกคลองบางกะปิจากคลองสามเสนถึงคลองแสนแสบ</td>\n",
              "      <td>1193000</td>\n",
              "    </tr>\n",
              "    <tr>\n",
              "      <th>1</th>\n",
              "      <td>งบประจำปี</td>\n",
              "      <td>0</td>\n",
              "      <td>62</td>\n",
              "      <td>11000000</td>\n",
              "      <td>สำนักการระบายน้ำ</td>\n",
              "      <td>12-เงินสำรองจ่ายทั่วไป กรณีค่าใช้จ่ายต่างๆ เกี...</td>\n",
              "      <td>งบลงทุน</td>\n",
              "      <td>ขุดลอกคลองทรงกระเทียมจากคลองลาดพร้าวถึงถนนโชคช...</td>\n",
              "      <td>1100000</td>\n",
              "    </tr>\n",
              "    <tr>\n",
              "      <th>2</th>\n",
              "      <td>งบประจำปี</td>\n",
              "      <td>0</td>\n",
              "      <td>62</td>\n",
              "      <td>11000000</td>\n",
              "      <td>สำนักการระบายน้ำ</td>\n",
              "      <td>12-เงินสำรองจ่ายทั่วไป กรณีค่าใช้จ่ายต่างๆ เกี...</td>\n",
              "      <td>งบลงทุน</td>\n",
              "      <td>ขุดลอกคลองเป้งจากคลองแสนแสบถึงซอยเจริญสุข</td>\n",
              "      <td>3075000</td>\n",
              "    </tr>\n",
              "    <tr>\n",
              "      <th>3</th>\n",
              "      <td>งบประจำปี</td>\n",
              "      <td>0</td>\n",
              "      <td>62</td>\n",
              "      <td>11000000</td>\n",
              "      <td>สำนักการระบายน้ำ</td>\n",
              "      <td>12-เงินสำรองจ่ายทั่วไป กรณีค่าใช้จ่ายต่างๆ เกี...</td>\n",
              "      <td>งบลงทุน</td>\n",
              "      <td>ขุดลอกคลองลำพังพวยจากถนนศรีบูรพาถึงสถานีสูบน้ำ...</td>\n",
              "      <td>6240000</td>\n",
              "    </tr>\n",
              "    <tr>\n",
              "      <th>4</th>\n",
              "      <td>งบประจำปี</td>\n",
              "      <td>0</td>\n",
              "      <td>62</td>\n",
              "      <td>11000000</td>\n",
              "      <td>สำนักการระบายน้ำ</td>\n",
              "      <td>12-เงินสำรองจ่ายทั่วไป กรณีค่าใช้จ่ายต่างๆ เกี...</td>\n",
              "      <td>งบลงทุน</td>\n",
              "      <td>ขุดลอกบึงรางเข้จากคลองพระยาราชมนตรีถึงถนนบางขุ...</td>\n",
              "      <td>2685000</td>\n",
              "    </tr>\n",
              "    <tr>\n",
              "      <th>5</th>\n",
              "      <td>งบประจำปี</td>\n",
              "      <td>0</td>\n",
              "      <td>62</td>\n",
              "      <td>11000000</td>\n",
              "      <td>สำนักการระบายน้ำ</td>\n",
              "      <td>12-เงินสำรองจ่ายทั่วไป กรณีค่าใช้จ่ายต่างๆ เกี...</td>\n",
              "      <td>งบลงทุน</td>\n",
              "      <td>ขุดลอกคลองราษฎร์สามัคคีจากคลองทวีวัฒนาถึงคลองม...</td>\n",
              "      <td>1207000</td>\n",
              "    </tr>\n",
              "    <tr>\n",
              "      <th>6</th>\n",
              "      <td>งบประจำปี</td>\n",
              "      <td>0</td>\n",
              "      <td>62</td>\n",
              "      <td>50130000</td>\n",
              "      <td>สำนักงานเขตมีนบุรี</td>\n",
              "      <td>12-เงินสำรองจ่ายทั่วไป กรณีค่าใช้จ่ายต่างๆ เกี...</td>\n",
              "      <td>งบลงทุน</td>\n",
              "      <td>ขุดลอกลำรางโต๊ะรอด ตั้งแต่คลองสองต้นนุ่นถึงระย...</td>\n",
              "      <td>225400</td>\n",
              "    </tr>\n",
              "    <tr>\n",
              "      <th>7</th>\n",
              "      <td>งบประจำปี</td>\n",
              "      <td>0</td>\n",
              "      <td>62</td>\n",
              "      <td>50130000</td>\n",
              "      <td>สำนักงานเขตมีนบุรี</td>\n",
              "      <td>12-เงินสำรองจ่ายทั่วไป กรณีค่าใช้จ่ายต่างๆ เกี...</td>\n",
              "      <td>งบลงทุน</td>\n",
              "      <td>ขุดลอกลำรางเลียบคลองบึงขวาง ตั้งแต่คลองบึงขวาง...</td>\n",
              "      <td>452500</td>\n",
              "    </tr>\n",
              "    <tr>\n",
              "      <th>8</th>\n",
              "      <td>งบประจำปี</td>\n",
              "      <td>0</td>\n",
              "      <td>62</td>\n",
              "      <td>50150000</td>\n",
              "      <td>สำนักงานเขตหนองจอก</td>\n",
              "      <td>28-เงินสำรองค่าใช้จ่าย ในการพัฒนาเขต</td>\n",
              "      <td>งบลงทุน</td>\n",
              "      <td>ขุดลอกคลองลำแขก จากคลองลำปลาทิว \\nถึงคลองลำตาเ...</td>\n",
              "      <td>447000</td>\n",
              "    </tr>\n",
              "    <tr>\n",
              "      <th>9</th>\n",
              "      <td>งบประจำปี</td>\n",
              "      <td>0</td>\n",
              "      <td>62</td>\n",
              "      <td>50150000</td>\n",
              "      <td>สำนักงานเขตหนองจอก</td>\n",
              "      <td>28-เงินสำรองค่าใช้จ่าย ในการพัฒนาเขต</td>\n",
              "      <td>งบลงทุน</td>\n",
              "      <td>ขุดลอกคลองอู่ตะเภา จากคลองลำนกแขวก\\nถึงคลองลำม...</td>\n",
              "      <td>497000</td>\n",
              "    </tr>\n",
              "  </tbody>\n",
              "</table>\n",
              "</div>\n",
              "      <button class=\"colab-df-convert\" onclick=\"convertToInteractive('df-5115485f-7585-4734-a3f0-0a162691e3e7')\"\n",
              "              title=\"Convert this dataframe to an interactive table.\"\n",
              "              style=\"display:none;\">\n",
              "\n",
              "  <svg xmlns=\"http://www.w3.org/2000/svg\" height=\"24px\"viewBox=\"0 0 24 24\"\n",
              "       width=\"24px\">\n",
              "    <path d=\"M0 0h24v24H0V0z\" fill=\"none\"/>\n",
              "    <path d=\"M18.56 5.44l.94 2.06.94-2.06 2.06-.94-2.06-.94-.94-2.06-.94 2.06-2.06.94zm-11 1L8.5 8.5l.94-2.06 2.06-.94-2.06-.94L8.5 2.5l-.94 2.06-2.06.94zm10 10l.94 2.06.94-2.06 2.06-.94-2.06-.94-.94-2.06-.94 2.06-2.06.94z\"/><path d=\"M17.41 7.96l-1.37-1.37c-.4-.4-.92-.59-1.43-.59-.52 0-1.04.2-1.43.59L10.3 9.45l-7.72 7.72c-.78.78-.78 2.05 0 2.83L4 21.41c.39.39.9.59 1.41.59.51 0 1.02-.2 1.41-.59l7.78-7.78 2.81-2.81c.8-.78.8-2.07 0-2.86zM5.41 20L4 18.59l7.72-7.72 1.47 1.35L5.41 20z\"/>\n",
              "  </svg>\n",
              "      </button>\n",
              "\n",
              "\n",
              "\n",
              "    <div id=\"df-6a34c2b9-e037-4212-986b-f04ab77e7fec\">\n",
              "      <button class=\"colab-df-quickchart\" onclick=\"quickchart('df-6a34c2b9-e037-4212-986b-f04ab77e7fec')\"\n",
              "              title=\"Suggest charts.\"\n",
              "              style=\"display:none;\">\n",
              "\n",
              "<svg xmlns=\"http://www.w3.org/2000/svg\" height=\"24px\"viewBox=\"0 0 24 24\"\n",
              "     width=\"24px\">\n",
              "    <g>\n",
              "        <path d=\"M19 3H5c-1.1 0-2 .9-2 2v14c0 1.1.9 2 2 2h14c1.1 0 2-.9 2-2V5c0-1.1-.9-2-2-2zM9 17H7v-7h2v7zm4 0h-2V7h2v10zm4 0h-2v-4h2v4z\"/>\n",
              "    </g>\n",
              "</svg>\n",
              "      </button>\n",
              "    </div>\n",
              "\n",
              "<style>\n",
              "  .colab-df-quickchart {\n",
              "    background-color: #E8F0FE;\n",
              "    border: none;\n",
              "    border-radius: 50%;\n",
              "    cursor: pointer;\n",
              "    display: none;\n",
              "    fill: #1967D2;\n",
              "    height: 32px;\n",
              "    padding: 0 0 0 0;\n",
              "    width: 32px;\n",
              "  }\n",
              "\n",
              "  .colab-df-quickchart:hover {\n",
              "    background-color: #E2EBFA;\n",
              "    box-shadow: 0px 1px 2px rgba(60, 64, 67, 0.3), 0px 1px 3px 1px rgba(60, 64, 67, 0.15);\n",
              "    fill: #174EA6;\n",
              "  }\n",
              "\n",
              "  [theme=dark] .colab-df-quickchart {\n",
              "    background-color: #3B4455;\n",
              "    fill: #D2E3FC;\n",
              "  }\n",
              "\n",
              "  [theme=dark] .colab-df-quickchart:hover {\n",
              "    background-color: #434B5C;\n",
              "    box-shadow: 0px 1px 3px 1px rgba(0, 0, 0, 0.15);\n",
              "    filter: drop-shadow(0px 1px 2px rgba(0, 0, 0, 0.3));\n",
              "    fill: #FFFFFF;\n",
              "  }\n",
              "</style>\n",
              "\n",
              "    <script>\n",
              "      async function quickchart(key) {\n",
              "        const containerElement = document.querySelector('#' + key);\n",
              "        const charts = await google.colab.kernel.invokeFunction(\n",
              "            'suggestCharts', [key], {});\n",
              "      }\n",
              "    </script>\n",
              "\n",
              "      <script>\n",
              "\n",
              "function displayQuickchartButton(domScope) {\n",
              "  let quickchartButtonEl =\n",
              "    domScope.querySelector('#df-6a34c2b9-e037-4212-986b-f04ab77e7fec button.colab-df-quickchart');\n",
              "  quickchartButtonEl.style.display =\n",
              "    google.colab.kernel.accessAllowed ? 'block' : 'none';\n",
              "}\n",
              "\n",
              "        displayQuickchartButton(document);\n",
              "      </script>\n",
              "      <style>\n",
              "    .colab-df-container {\n",
              "      display:flex;\n",
              "      flex-wrap:wrap;\n",
              "      gap: 12px;\n",
              "    }\n",
              "\n",
              "    .colab-df-convert {\n",
              "      background-color: #E8F0FE;\n",
              "      border: none;\n",
              "      border-radius: 50%;\n",
              "      cursor: pointer;\n",
              "      display: none;\n",
              "      fill: #1967D2;\n",
              "      height: 32px;\n",
              "      padding: 0 0 0 0;\n",
              "      width: 32px;\n",
              "    }\n",
              "\n",
              "    .colab-df-convert:hover {\n",
              "      background-color: #E2EBFA;\n",
              "      box-shadow: 0px 1px 2px rgba(60, 64, 67, 0.3), 0px 1px 3px 1px rgba(60, 64, 67, 0.15);\n",
              "      fill: #174EA6;\n",
              "    }\n",
              "\n",
              "    [theme=dark] .colab-df-convert {\n",
              "      background-color: #3B4455;\n",
              "      fill: #D2E3FC;\n",
              "    }\n",
              "\n",
              "    [theme=dark] .colab-df-convert:hover {\n",
              "      background-color: #434B5C;\n",
              "      box-shadow: 0px 1px 3px 1px rgba(0, 0, 0, 0.15);\n",
              "      filter: drop-shadow(0px 1px 2px rgba(0, 0, 0, 0.3));\n",
              "      fill: #FFFFFF;\n",
              "    }\n",
              "  </style>\n",
              "\n",
              "      <script>\n",
              "        const buttonEl =\n",
              "          document.querySelector('#df-5115485f-7585-4734-a3f0-0a162691e3e7 button.colab-df-convert');\n",
              "        buttonEl.style.display =\n",
              "          google.colab.kernel.accessAllowed ? 'block' : 'none';\n",
              "\n",
              "        async function convertToInteractive(key) {\n",
              "          const element = document.querySelector('#df-5115485f-7585-4734-a3f0-0a162691e3e7');\n",
              "          const dataTable =\n",
              "            await google.colab.kernel.invokeFunction('convertToInteractive',\n",
              "                                                     [key], {});\n",
              "          if (!dataTable) return;\n",
              "\n",
              "          const docLinkHtml = 'Like what you see? Visit the ' +\n",
              "            '<a target=\"_blank\" href=https://colab.research.google.com/notebooks/data_table.ipynb>data table notebook</a>'\n",
              "            + ' to learn more about interactive tables.';\n",
              "          element.innerHTML = '';\n",
              "          dataTable['output_type'] = 'display_data';\n",
              "          await google.colab.output.renderOutput(dataTable, element);\n",
              "          const docLink = document.createElement('div');\n",
              "          docLink.innerHTML = docLinkHtml;\n",
              "          element.appendChild(docLink);\n",
              "        }\n",
              "      </script>\n",
              "    </div>\n",
              "  </div>\n"
            ]
          },
          "metadata": {},
          "execution_count": 11
        }
      ]
    },
    {
      "cell_type": "code",
      "source": [
        "data1.tail(10) # ดูท้ายตาราง จากข้างล่าง"
      ],
      "metadata": {
        "id": "ekG57u89QWrH",
        "colab": {
          "base_uri": "https://localhost:8080/",
          "height": 678
        },
        "outputId": "0002e21b-df02-40a6-bdb8-f11e003f7c2a"
      },
      "execution_count": 12,
      "outputs": [
        {
          "output_type": "execute_result",
          "data": {
            "text/plain": [
              "    Budget_resource  Issue_No  Fiscal_year  Department_code  \\\n",
              "682     งบเพิ่มเติม         1           66         50460000   \n",
              "683     งบเพิ่มเติม         1           66         50460000   \n",
              "684     งบเพิ่มเติม         1           66         50460000   \n",
              "685     งบเพิ่มเติม         1           66         50460000   \n",
              "686     งบเพิ่มเติม         1           66         50460000   \n",
              "687     งบเพิ่มเติม         1           66         50460000   \n",
              "688     งบเพิ่มเติม         1           66         50460000   \n",
              "689     งบเพิ่มเติม         1           66         50460000   \n",
              "690     งบเพิ่มเติม         1           66         50460000   \n",
              "691     งบเพิ่มเติม         1           66         50500000   \n",
              "\n",
              "               Department Core_budget_code Expenditure_category  \\\n",
              "682  สำนักงานเขตคลองสามวา              NaN              งบลงทุน   \n",
              "683  สำนักงานเขตคลองสามวา              NaN              งบลงทุน   \n",
              "684  สำนักงานเขตคลองสามวา              NaN              งบลงทุน   \n",
              "685  สำนักงานเขตคลองสามวา              NaN              งบลงทุน   \n",
              "686  สำนักงานเขตคลองสามวา              NaN              งบลงทุน   \n",
              "687  สำนักงานเขตคลองสามวา              NaN              งบลงทุน   \n",
              "688  สำนักงานเขตคลองสามวา              NaN              งบลงทุน   \n",
              "689  สำนักงานเขตคลองสามวา              NaN              งบลงทุน   \n",
              "690  สำนักงานเขตคลองสามวา              NaN              งบลงทุน   \n",
              "691     สำนักงานเขตบางบอน              NaN              งบลงทุน   \n",
              "\n",
              "                                     Item_name  Approved_buget  \n",
              "682                      ขุดลอกลำรางไทยเอราวัณ         3494000  \n",
              "683                     ขุดลอกคลองหนึ่งตะวันตก         4330000  \n",
              "684                       ขุดลอกคลองสองตะวันตก         9832000  \n",
              "685                           ขุดลอกคลองกีบหมู         2925000  \n",
              "686                         ขุดลอกคลองลำกะโหลก         3875000  \n",
              "687                         ขุดลอกคลองผักกะเฉด         3686000  \n",
              "688                    ขุดลอกคลองบึงทรายกองดิน         2575000  \n",
              "689                          ขุดลอกลำรางซาฟารี          689000  \n",
              "690                        ขุดลอกลำรางตาจันทร์          464000  \n",
              "691  ขุดลอกคลองบางบอนต่อจากของเดิมถึงคลองนายผล         7578000  "
            ],
            "text/html": [
              "\n",
              "\n",
              "  <div id=\"df-b04a1821-469f-4d08-aa89-a16b4fa0028d\">\n",
              "    <div class=\"colab-df-container\">\n",
              "      <div>\n",
              "<style scoped>\n",
              "    .dataframe tbody tr th:only-of-type {\n",
              "        vertical-align: middle;\n",
              "    }\n",
              "\n",
              "    .dataframe tbody tr th {\n",
              "        vertical-align: top;\n",
              "    }\n",
              "\n",
              "    .dataframe thead th {\n",
              "        text-align: right;\n",
              "    }\n",
              "</style>\n",
              "<table border=\"1\" class=\"dataframe\">\n",
              "  <thead>\n",
              "    <tr style=\"text-align: right;\">\n",
              "      <th></th>\n",
              "      <th>Budget_resource</th>\n",
              "      <th>Issue_No</th>\n",
              "      <th>Fiscal_year</th>\n",
              "      <th>Department_code</th>\n",
              "      <th>Department</th>\n",
              "      <th>Core_budget_code</th>\n",
              "      <th>Expenditure_category</th>\n",
              "      <th>Item_name</th>\n",
              "      <th>Approved_buget</th>\n",
              "    </tr>\n",
              "  </thead>\n",
              "  <tbody>\n",
              "    <tr>\n",
              "      <th>682</th>\n",
              "      <td>งบเพิ่มเติม</td>\n",
              "      <td>1</td>\n",
              "      <td>66</td>\n",
              "      <td>50460000</td>\n",
              "      <td>สำนักงานเขตคลองสามวา</td>\n",
              "      <td>NaN</td>\n",
              "      <td>งบลงทุน</td>\n",
              "      <td>ขุดลอกลำรางไทยเอราวัณ</td>\n",
              "      <td>3494000</td>\n",
              "    </tr>\n",
              "    <tr>\n",
              "      <th>683</th>\n",
              "      <td>งบเพิ่มเติม</td>\n",
              "      <td>1</td>\n",
              "      <td>66</td>\n",
              "      <td>50460000</td>\n",
              "      <td>สำนักงานเขตคลองสามวา</td>\n",
              "      <td>NaN</td>\n",
              "      <td>งบลงทุน</td>\n",
              "      <td>ขุดลอกคลองหนึ่งตะวันตก</td>\n",
              "      <td>4330000</td>\n",
              "    </tr>\n",
              "    <tr>\n",
              "      <th>684</th>\n",
              "      <td>งบเพิ่มเติม</td>\n",
              "      <td>1</td>\n",
              "      <td>66</td>\n",
              "      <td>50460000</td>\n",
              "      <td>สำนักงานเขตคลองสามวา</td>\n",
              "      <td>NaN</td>\n",
              "      <td>งบลงทุน</td>\n",
              "      <td>ขุดลอกคลองสองตะวันตก</td>\n",
              "      <td>9832000</td>\n",
              "    </tr>\n",
              "    <tr>\n",
              "      <th>685</th>\n",
              "      <td>งบเพิ่มเติม</td>\n",
              "      <td>1</td>\n",
              "      <td>66</td>\n",
              "      <td>50460000</td>\n",
              "      <td>สำนักงานเขตคลองสามวา</td>\n",
              "      <td>NaN</td>\n",
              "      <td>งบลงทุน</td>\n",
              "      <td>ขุดลอกคลองกีบหมู</td>\n",
              "      <td>2925000</td>\n",
              "    </tr>\n",
              "    <tr>\n",
              "      <th>686</th>\n",
              "      <td>งบเพิ่มเติม</td>\n",
              "      <td>1</td>\n",
              "      <td>66</td>\n",
              "      <td>50460000</td>\n",
              "      <td>สำนักงานเขตคลองสามวา</td>\n",
              "      <td>NaN</td>\n",
              "      <td>งบลงทุน</td>\n",
              "      <td>ขุดลอกคลองลำกะโหลก</td>\n",
              "      <td>3875000</td>\n",
              "    </tr>\n",
              "    <tr>\n",
              "      <th>687</th>\n",
              "      <td>งบเพิ่มเติม</td>\n",
              "      <td>1</td>\n",
              "      <td>66</td>\n",
              "      <td>50460000</td>\n",
              "      <td>สำนักงานเขตคลองสามวา</td>\n",
              "      <td>NaN</td>\n",
              "      <td>งบลงทุน</td>\n",
              "      <td>ขุดลอกคลองผักกะเฉด</td>\n",
              "      <td>3686000</td>\n",
              "    </tr>\n",
              "    <tr>\n",
              "      <th>688</th>\n",
              "      <td>งบเพิ่มเติม</td>\n",
              "      <td>1</td>\n",
              "      <td>66</td>\n",
              "      <td>50460000</td>\n",
              "      <td>สำนักงานเขตคลองสามวา</td>\n",
              "      <td>NaN</td>\n",
              "      <td>งบลงทุน</td>\n",
              "      <td>ขุดลอกคลองบึงทรายกองดิน</td>\n",
              "      <td>2575000</td>\n",
              "    </tr>\n",
              "    <tr>\n",
              "      <th>689</th>\n",
              "      <td>งบเพิ่มเติม</td>\n",
              "      <td>1</td>\n",
              "      <td>66</td>\n",
              "      <td>50460000</td>\n",
              "      <td>สำนักงานเขตคลองสามวา</td>\n",
              "      <td>NaN</td>\n",
              "      <td>งบลงทุน</td>\n",
              "      <td>ขุดลอกลำรางซาฟารี</td>\n",
              "      <td>689000</td>\n",
              "    </tr>\n",
              "    <tr>\n",
              "      <th>690</th>\n",
              "      <td>งบเพิ่มเติม</td>\n",
              "      <td>1</td>\n",
              "      <td>66</td>\n",
              "      <td>50460000</td>\n",
              "      <td>สำนักงานเขตคลองสามวา</td>\n",
              "      <td>NaN</td>\n",
              "      <td>งบลงทุน</td>\n",
              "      <td>ขุดลอกลำรางตาจันทร์</td>\n",
              "      <td>464000</td>\n",
              "    </tr>\n",
              "    <tr>\n",
              "      <th>691</th>\n",
              "      <td>งบเพิ่มเติม</td>\n",
              "      <td>1</td>\n",
              "      <td>66</td>\n",
              "      <td>50500000</td>\n",
              "      <td>สำนักงานเขตบางบอน</td>\n",
              "      <td>NaN</td>\n",
              "      <td>งบลงทุน</td>\n",
              "      <td>ขุดลอกคลองบางบอนต่อจากของเดิมถึงคลองนายผล</td>\n",
              "      <td>7578000</td>\n",
              "    </tr>\n",
              "  </tbody>\n",
              "</table>\n",
              "</div>\n",
              "      <button class=\"colab-df-convert\" onclick=\"convertToInteractive('df-b04a1821-469f-4d08-aa89-a16b4fa0028d')\"\n",
              "              title=\"Convert this dataframe to an interactive table.\"\n",
              "              style=\"display:none;\">\n",
              "\n",
              "  <svg xmlns=\"http://www.w3.org/2000/svg\" height=\"24px\"viewBox=\"0 0 24 24\"\n",
              "       width=\"24px\">\n",
              "    <path d=\"M0 0h24v24H0V0z\" fill=\"none\"/>\n",
              "    <path d=\"M18.56 5.44l.94 2.06.94-2.06 2.06-.94-2.06-.94-.94-2.06-.94 2.06-2.06.94zm-11 1L8.5 8.5l.94-2.06 2.06-.94-2.06-.94L8.5 2.5l-.94 2.06-2.06.94zm10 10l.94 2.06.94-2.06 2.06-.94-2.06-.94-.94-2.06-.94 2.06-2.06.94z\"/><path d=\"M17.41 7.96l-1.37-1.37c-.4-.4-.92-.59-1.43-.59-.52 0-1.04.2-1.43.59L10.3 9.45l-7.72 7.72c-.78.78-.78 2.05 0 2.83L4 21.41c.39.39.9.59 1.41.59.51 0 1.02-.2 1.41-.59l7.78-7.78 2.81-2.81c.8-.78.8-2.07 0-2.86zM5.41 20L4 18.59l7.72-7.72 1.47 1.35L5.41 20z\"/>\n",
              "  </svg>\n",
              "      </button>\n",
              "\n",
              "\n",
              "\n",
              "    <div id=\"df-88a0deb2-1b2e-45e7-95f3-f0dbcf68a6d8\">\n",
              "      <button class=\"colab-df-quickchart\" onclick=\"quickchart('df-88a0deb2-1b2e-45e7-95f3-f0dbcf68a6d8')\"\n",
              "              title=\"Suggest charts.\"\n",
              "              style=\"display:none;\">\n",
              "\n",
              "<svg xmlns=\"http://www.w3.org/2000/svg\" height=\"24px\"viewBox=\"0 0 24 24\"\n",
              "     width=\"24px\">\n",
              "    <g>\n",
              "        <path d=\"M19 3H5c-1.1 0-2 .9-2 2v14c0 1.1.9 2 2 2h14c1.1 0 2-.9 2-2V5c0-1.1-.9-2-2-2zM9 17H7v-7h2v7zm4 0h-2V7h2v10zm4 0h-2v-4h2v4z\"/>\n",
              "    </g>\n",
              "</svg>\n",
              "      </button>\n",
              "    </div>\n",
              "\n",
              "<style>\n",
              "  .colab-df-quickchart {\n",
              "    background-color: #E8F0FE;\n",
              "    border: none;\n",
              "    border-radius: 50%;\n",
              "    cursor: pointer;\n",
              "    display: none;\n",
              "    fill: #1967D2;\n",
              "    height: 32px;\n",
              "    padding: 0 0 0 0;\n",
              "    width: 32px;\n",
              "  }\n",
              "\n",
              "  .colab-df-quickchart:hover {\n",
              "    background-color: #E2EBFA;\n",
              "    box-shadow: 0px 1px 2px rgba(60, 64, 67, 0.3), 0px 1px 3px 1px rgba(60, 64, 67, 0.15);\n",
              "    fill: #174EA6;\n",
              "  }\n",
              "\n",
              "  [theme=dark] .colab-df-quickchart {\n",
              "    background-color: #3B4455;\n",
              "    fill: #D2E3FC;\n",
              "  }\n",
              "\n",
              "  [theme=dark] .colab-df-quickchart:hover {\n",
              "    background-color: #434B5C;\n",
              "    box-shadow: 0px 1px 3px 1px rgba(0, 0, 0, 0.15);\n",
              "    filter: drop-shadow(0px 1px 2px rgba(0, 0, 0, 0.3));\n",
              "    fill: #FFFFFF;\n",
              "  }\n",
              "</style>\n",
              "\n",
              "    <script>\n",
              "      async function quickchart(key) {\n",
              "        const containerElement = document.querySelector('#' + key);\n",
              "        const charts = await google.colab.kernel.invokeFunction(\n",
              "            'suggestCharts', [key], {});\n",
              "      }\n",
              "    </script>\n",
              "\n",
              "      <script>\n",
              "\n",
              "function displayQuickchartButton(domScope) {\n",
              "  let quickchartButtonEl =\n",
              "    domScope.querySelector('#df-88a0deb2-1b2e-45e7-95f3-f0dbcf68a6d8 button.colab-df-quickchart');\n",
              "  quickchartButtonEl.style.display =\n",
              "    google.colab.kernel.accessAllowed ? 'block' : 'none';\n",
              "}\n",
              "\n",
              "        displayQuickchartButton(document);\n",
              "      </script>\n",
              "      <style>\n",
              "    .colab-df-container {\n",
              "      display:flex;\n",
              "      flex-wrap:wrap;\n",
              "      gap: 12px;\n",
              "    }\n",
              "\n",
              "    .colab-df-convert {\n",
              "      background-color: #E8F0FE;\n",
              "      border: none;\n",
              "      border-radius: 50%;\n",
              "      cursor: pointer;\n",
              "      display: none;\n",
              "      fill: #1967D2;\n",
              "      height: 32px;\n",
              "      padding: 0 0 0 0;\n",
              "      width: 32px;\n",
              "    }\n",
              "\n",
              "    .colab-df-convert:hover {\n",
              "      background-color: #E2EBFA;\n",
              "      box-shadow: 0px 1px 2px rgba(60, 64, 67, 0.3), 0px 1px 3px 1px rgba(60, 64, 67, 0.15);\n",
              "      fill: #174EA6;\n",
              "    }\n",
              "\n",
              "    [theme=dark] .colab-df-convert {\n",
              "      background-color: #3B4455;\n",
              "      fill: #D2E3FC;\n",
              "    }\n",
              "\n",
              "    [theme=dark] .colab-df-convert:hover {\n",
              "      background-color: #434B5C;\n",
              "      box-shadow: 0px 1px 3px 1px rgba(0, 0, 0, 0.15);\n",
              "      filter: drop-shadow(0px 1px 2px rgba(0, 0, 0, 0.3));\n",
              "      fill: #FFFFFF;\n",
              "    }\n",
              "  </style>\n",
              "\n",
              "      <script>\n",
              "        const buttonEl =\n",
              "          document.querySelector('#df-b04a1821-469f-4d08-aa89-a16b4fa0028d button.colab-df-convert');\n",
              "        buttonEl.style.display =\n",
              "          google.colab.kernel.accessAllowed ? 'block' : 'none';\n",
              "\n",
              "        async function convertToInteractive(key) {\n",
              "          const element = document.querySelector('#df-b04a1821-469f-4d08-aa89-a16b4fa0028d');\n",
              "          const dataTable =\n",
              "            await google.colab.kernel.invokeFunction('convertToInteractive',\n",
              "                                                     [key], {});\n",
              "          if (!dataTable) return;\n",
              "\n",
              "          const docLinkHtml = 'Like what you see? Visit the ' +\n",
              "            '<a target=\"_blank\" href=https://colab.research.google.com/notebooks/data_table.ipynb>data table notebook</a>'\n",
              "            + ' to learn more about interactive tables.';\n",
              "          element.innerHTML = '';\n",
              "          dataTable['output_type'] = 'display_data';\n",
              "          await google.colab.output.renderOutput(dataTable, element);\n",
              "          const docLink = document.createElement('div');\n",
              "          docLink.innerHTML = docLinkHtml;\n",
              "          element.appendChild(docLink);\n",
              "        }\n",
              "      </script>\n",
              "    </div>\n",
              "  </div>\n"
            ]
          },
          "metadata": {},
          "execution_count": 12
        }
      ]
    },
    {
      "cell_type": "code",
      "source": [
        "data1.shape # ดูขนาด กี่เเถวกี่หลัก"
      ],
      "metadata": {
        "id": "QQMkd0xvQhvJ",
        "colab": {
          "base_uri": "https://localhost:8080/"
        },
        "outputId": "49717694-16c8-4e94-fad2-c087d0acf79a"
      },
      "execution_count": 13,
      "outputs": [
        {
          "output_type": "execute_result",
          "data": {
            "text/plain": [
              "(692, 9)"
            ]
          },
          "metadata": {},
          "execution_count": 13
        }
      ]
    },
    {
      "cell_type": "code",
      "source": [
        "data1.describe()"
      ],
      "metadata": {
        "colab": {
          "base_uri": "https://localhost:8080/",
          "height": 297
        },
        "id": "nTnEhgEnTMSX",
        "outputId": "a728aa5a-6dd5-4ded-8504-29370b87c169"
      },
      "execution_count": 14,
      "outputs": [
        {
          "output_type": "execute_result",
          "data": {
            "text/plain": [
              "         Issue_No  Fiscal_year  Department_code  Approved_buget\n",
              "count  692.000000   692.000000     6.920000e+02    6.920000e+02\n",
              "mean     0.333815    64.543353     4.534202e+07    1.482811e+06\n",
              "std      0.474972     1.476149     1.303279e+07    2.464625e+06\n",
              "min      0.000000    62.000000     1.100000e+07    0.000000e+00\n",
              "25%      0.000000    63.000000     5.013000e+07    4.100000e+05\n",
              "50%      0.000000    65.000000     5.023000e+07    5.980000e+05\n",
              "75%      1.000000    66.000000     5.036000e+07    1.628250e+06\n",
              "max      2.000000    66.000000     5.050000e+07    2.850000e+07"
            ],
            "text/html": [
              "\n",
              "\n",
              "  <div id=\"df-1b751786-cec9-4f6b-bf15-e50e9d595bc1\">\n",
              "    <div class=\"colab-df-container\">\n",
              "      <div>\n",
              "<style scoped>\n",
              "    .dataframe tbody tr th:only-of-type {\n",
              "        vertical-align: middle;\n",
              "    }\n",
              "\n",
              "    .dataframe tbody tr th {\n",
              "        vertical-align: top;\n",
              "    }\n",
              "\n",
              "    .dataframe thead th {\n",
              "        text-align: right;\n",
              "    }\n",
              "</style>\n",
              "<table border=\"1\" class=\"dataframe\">\n",
              "  <thead>\n",
              "    <tr style=\"text-align: right;\">\n",
              "      <th></th>\n",
              "      <th>Issue_No</th>\n",
              "      <th>Fiscal_year</th>\n",
              "      <th>Department_code</th>\n",
              "      <th>Approved_buget</th>\n",
              "    </tr>\n",
              "  </thead>\n",
              "  <tbody>\n",
              "    <tr>\n",
              "      <th>count</th>\n",
              "      <td>692.000000</td>\n",
              "      <td>692.000000</td>\n",
              "      <td>6.920000e+02</td>\n",
              "      <td>6.920000e+02</td>\n",
              "    </tr>\n",
              "    <tr>\n",
              "      <th>mean</th>\n",
              "      <td>0.333815</td>\n",
              "      <td>64.543353</td>\n",
              "      <td>4.534202e+07</td>\n",
              "      <td>1.482811e+06</td>\n",
              "    </tr>\n",
              "    <tr>\n",
              "      <th>std</th>\n",
              "      <td>0.474972</td>\n",
              "      <td>1.476149</td>\n",
              "      <td>1.303279e+07</td>\n",
              "      <td>2.464625e+06</td>\n",
              "    </tr>\n",
              "    <tr>\n",
              "      <th>min</th>\n",
              "      <td>0.000000</td>\n",
              "      <td>62.000000</td>\n",
              "      <td>1.100000e+07</td>\n",
              "      <td>0.000000e+00</td>\n",
              "    </tr>\n",
              "    <tr>\n",
              "      <th>25%</th>\n",
              "      <td>0.000000</td>\n",
              "      <td>63.000000</td>\n",
              "      <td>5.013000e+07</td>\n",
              "      <td>4.100000e+05</td>\n",
              "    </tr>\n",
              "    <tr>\n",
              "      <th>50%</th>\n",
              "      <td>0.000000</td>\n",
              "      <td>65.000000</td>\n",
              "      <td>5.023000e+07</td>\n",
              "      <td>5.980000e+05</td>\n",
              "    </tr>\n",
              "    <tr>\n",
              "      <th>75%</th>\n",
              "      <td>1.000000</td>\n",
              "      <td>66.000000</td>\n",
              "      <td>5.036000e+07</td>\n",
              "      <td>1.628250e+06</td>\n",
              "    </tr>\n",
              "    <tr>\n",
              "      <th>max</th>\n",
              "      <td>2.000000</td>\n",
              "      <td>66.000000</td>\n",
              "      <td>5.050000e+07</td>\n",
              "      <td>2.850000e+07</td>\n",
              "    </tr>\n",
              "  </tbody>\n",
              "</table>\n",
              "</div>\n",
              "      <button class=\"colab-df-convert\" onclick=\"convertToInteractive('df-1b751786-cec9-4f6b-bf15-e50e9d595bc1')\"\n",
              "              title=\"Convert this dataframe to an interactive table.\"\n",
              "              style=\"display:none;\">\n",
              "\n",
              "  <svg xmlns=\"http://www.w3.org/2000/svg\" height=\"24px\"viewBox=\"0 0 24 24\"\n",
              "       width=\"24px\">\n",
              "    <path d=\"M0 0h24v24H0V0z\" fill=\"none\"/>\n",
              "    <path d=\"M18.56 5.44l.94 2.06.94-2.06 2.06-.94-2.06-.94-.94-2.06-.94 2.06-2.06.94zm-11 1L8.5 8.5l.94-2.06 2.06-.94-2.06-.94L8.5 2.5l-.94 2.06-2.06.94zm10 10l.94 2.06.94-2.06 2.06-.94-2.06-.94-.94-2.06-.94 2.06-2.06.94z\"/><path d=\"M17.41 7.96l-1.37-1.37c-.4-.4-.92-.59-1.43-.59-.52 0-1.04.2-1.43.59L10.3 9.45l-7.72 7.72c-.78.78-.78 2.05 0 2.83L4 21.41c.39.39.9.59 1.41.59.51 0 1.02-.2 1.41-.59l7.78-7.78 2.81-2.81c.8-.78.8-2.07 0-2.86zM5.41 20L4 18.59l7.72-7.72 1.47 1.35L5.41 20z\"/>\n",
              "  </svg>\n",
              "      </button>\n",
              "\n",
              "\n",
              "\n",
              "    <div id=\"df-90069d07-4a3a-471c-a4d2-dfe85aa8be5e\">\n",
              "      <button class=\"colab-df-quickchart\" onclick=\"quickchart('df-90069d07-4a3a-471c-a4d2-dfe85aa8be5e')\"\n",
              "              title=\"Suggest charts.\"\n",
              "              style=\"display:none;\">\n",
              "\n",
              "<svg xmlns=\"http://www.w3.org/2000/svg\" height=\"24px\"viewBox=\"0 0 24 24\"\n",
              "     width=\"24px\">\n",
              "    <g>\n",
              "        <path d=\"M19 3H5c-1.1 0-2 .9-2 2v14c0 1.1.9 2 2 2h14c1.1 0 2-.9 2-2V5c0-1.1-.9-2-2-2zM9 17H7v-7h2v7zm4 0h-2V7h2v10zm4 0h-2v-4h2v4z\"/>\n",
              "    </g>\n",
              "</svg>\n",
              "      </button>\n",
              "    </div>\n",
              "\n",
              "<style>\n",
              "  .colab-df-quickchart {\n",
              "    background-color: #E8F0FE;\n",
              "    border: none;\n",
              "    border-radius: 50%;\n",
              "    cursor: pointer;\n",
              "    display: none;\n",
              "    fill: #1967D2;\n",
              "    height: 32px;\n",
              "    padding: 0 0 0 0;\n",
              "    width: 32px;\n",
              "  }\n",
              "\n",
              "  .colab-df-quickchart:hover {\n",
              "    background-color: #E2EBFA;\n",
              "    box-shadow: 0px 1px 2px rgba(60, 64, 67, 0.3), 0px 1px 3px 1px rgba(60, 64, 67, 0.15);\n",
              "    fill: #174EA6;\n",
              "  }\n",
              "\n",
              "  [theme=dark] .colab-df-quickchart {\n",
              "    background-color: #3B4455;\n",
              "    fill: #D2E3FC;\n",
              "  }\n",
              "\n",
              "  [theme=dark] .colab-df-quickchart:hover {\n",
              "    background-color: #434B5C;\n",
              "    box-shadow: 0px 1px 3px 1px rgba(0, 0, 0, 0.15);\n",
              "    filter: drop-shadow(0px 1px 2px rgba(0, 0, 0, 0.3));\n",
              "    fill: #FFFFFF;\n",
              "  }\n",
              "</style>\n",
              "\n",
              "    <script>\n",
              "      async function quickchart(key) {\n",
              "        const containerElement = document.querySelector('#' + key);\n",
              "        const charts = await google.colab.kernel.invokeFunction(\n",
              "            'suggestCharts', [key], {});\n",
              "      }\n",
              "    </script>\n",
              "\n",
              "      <script>\n",
              "\n",
              "function displayQuickchartButton(domScope) {\n",
              "  let quickchartButtonEl =\n",
              "    domScope.querySelector('#df-90069d07-4a3a-471c-a4d2-dfe85aa8be5e button.colab-df-quickchart');\n",
              "  quickchartButtonEl.style.display =\n",
              "    google.colab.kernel.accessAllowed ? 'block' : 'none';\n",
              "}\n",
              "\n",
              "        displayQuickchartButton(document);\n",
              "      </script>\n",
              "      <style>\n",
              "    .colab-df-container {\n",
              "      display:flex;\n",
              "      flex-wrap:wrap;\n",
              "      gap: 12px;\n",
              "    }\n",
              "\n",
              "    .colab-df-convert {\n",
              "      background-color: #E8F0FE;\n",
              "      border: none;\n",
              "      border-radius: 50%;\n",
              "      cursor: pointer;\n",
              "      display: none;\n",
              "      fill: #1967D2;\n",
              "      height: 32px;\n",
              "      padding: 0 0 0 0;\n",
              "      width: 32px;\n",
              "    }\n",
              "\n",
              "    .colab-df-convert:hover {\n",
              "      background-color: #E2EBFA;\n",
              "      box-shadow: 0px 1px 2px rgba(60, 64, 67, 0.3), 0px 1px 3px 1px rgba(60, 64, 67, 0.15);\n",
              "      fill: #174EA6;\n",
              "    }\n",
              "\n",
              "    [theme=dark] .colab-df-convert {\n",
              "      background-color: #3B4455;\n",
              "      fill: #D2E3FC;\n",
              "    }\n",
              "\n",
              "    [theme=dark] .colab-df-convert:hover {\n",
              "      background-color: #434B5C;\n",
              "      box-shadow: 0px 1px 3px 1px rgba(0, 0, 0, 0.15);\n",
              "      filter: drop-shadow(0px 1px 2px rgba(0, 0, 0, 0.3));\n",
              "      fill: #FFFFFF;\n",
              "    }\n",
              "  </style>\n",
              "\n",
              "      <script>\n",
              "        const buttonEl =\n",
              "          document.querySelector('#df-1b751786-cec9-4f6b-bf15-e50e9d595bc1 button.colab-df-convert');\n",
              "        buttonEl.style.display =\n",
              "          google.colab.kernel.accessAllowed ? 'block' : 'none';\n",
              "\n",
              "        async function convertToInteractive(key) {\n",
              "          const element = document.querySelector('#df-1b751786-cec9-4f6b-bf15-e50e9d595bc1');\n",
              "          const dataTable =\n",
              "            await google.colab.kernel.invokeFunction('convertToInteractive',\n",
              "                                                     [key], {});\n",
              "          if (!dataTable) return;\n",
              "\n",
              "          const docLinkHtml = 'Like what you see? Visit the ' +\n",
              "            '<a target=\"_blank\" href=https://colab.research.google.com/notebooks/data_table.ipynb>data table notebook</a>'\n",
              "            + ' to learn more about interactive tables.';\n",
              "          element.innerHTML = '';\n",
              "          dataTable['output_type'] = 'display_data';\n",
              "          await google.colab.output.renderOutput(dataTable, element);\n",
              "          const docLink = document.createElement('div');\n",
              "          docLink.innerHTML = docLinkHtml;\n",
              "          element.appendChild(docLink);\n",
              "        }\n",
              "      </script>\n",
              "    </div>\n",
              "  </div>\n"
            ]
          },
          "metadata": {},
          "execution_count": 14
        }
      ]
    },
    {
      "cell_type": "markdown",
      "source": [
        "NaN = Not a Number"
      ],
      "metadata": {
        "id": "4GLanX2ocuyZ"
      }
    },
    {
      "cell_type": "markdown",
      "source": [
        "DF คือ Datafrem เป็น Data Structure ที่ Pandas ใช้"
      ],
      "metadata": {
        "id": "5VE1DkAe3dz2"
      }
    },
    {
      "cell_type": "markdown",
      "source": [
        "# ชี้ค่าในตาราง (indexing)\n",
        "ชี้ค่าติดลบไม่ได้"
      ],
      "metadata": {
        "id": "GYQmkd9IdAKj"
      }
    },
    {
      "cell_type": "markdown",
      "source": [
        "มุมมองตาราง df[columns][rows]"
      ],
      "metadata": {
        "id": "8l39Oc2K3bvW"
      }
    },
    {
      "cell_type": "code",
      "source": [
        "data1['Budget_resource'][690]"
      ],
      "metadata": {
        "colab": {
          "base_uri": "https://localhost:8080/",
          "height": 38
        },
        "id": "0AFYyNv-dJEg",
        "outputId": "42a19037-6f99-4463-85a8-465375bd7aa7"
      },
      "execution_count": 15,
      "outputs": [
        {
          "output_type": "execute_result",
          "data": {
            "text/plain": [
              "'งบเพิ่มเติม'"
            ],
            "application/vnd.google.colaboratory.intrinsic+json": {
              "type": "string"
            }
          },
          "metadata": {},
          "execution_count": 15
        }
      ]
    },
    {
      "cell_type": "code",
      "source": [
        "data1.columns"
      ],
      "metadata": {
        "colab": {
          "base_uri": "https://localhost:8080/"
        },
        "id": "MSE2Kqu-2lmt",
        "outputId": "70b41d7c-ad4a-4dd0-fabc-48152a451b27"
      },
      "execution_count": 16,
      "outputs": [
        {
          "output_type": "execute_result",
          "data": {
            "text/plain": [
              "Index(['Budget_resource', 'Issue_No', 'Fiscal_year', 'Department_code',\n",
              "       'Department', 'Core_budget_code', 'Expenditure_category', 'Item_name',\n",
              "       'Approved_buget'],\n",
              "      dtype='object')"
            ]
          },
          "metadata": {},
          "execution_count": 16
        }
      ]
    },
    {
      "cell_type": "code",
      "source": [
        "data1[['Approved_buget','Item_name','Department']][6:11]"
      ],
      "metadata": {
        "colab": {
          "base_uri": "https://localhost:8080/",
          "height": 204
        },
        "id": "tS5lZmwu2qnd",
        "outputId": "91ab40ba-89b6-434f-8eb5-2cdb1b831838"
      },
      "execution_count": 17,
      "outputs": [
        {
          "output_type": "execute_result",
          "data": {
            "text/plain": [
              "    Approved_buget                                          Item_name  \\\n",
              "6           225400  ขุดลอกลำรางโต๊ะรอด ตั้งแต่คลองสองต้นนุ่นถึงระย...   \n",
              "7           452500  ขุดลอกลำรางเลียบคลองบึงขวาง ตั้งแต่คลองบึงขวาง...   \n",
              "8           447000  ขุดลอกคลองลำแขก จากคลองลำปลาทิว \\nถึงคลองลำตาเ...   \n",
              "9           497000  ขุดลอกคลองอู่ตะเภา จากคลองลำนกแขวก\\nถึงคลองลำม...   \n",
              "10          189500                ขุดลอกลำกระโดงตรงข้ามซอยเพชรเกษม 50   \n",
              "\n",
              "              Department  \n",
              "6     สำนักงานเขตมีนบุรี  \n",
              "7     สำนักงานเขตมีนบุรี  \n",
              "8     สำนักงานเขตหนองจอก  \n",
              "9     สำนักงานเขตหนองจอก  \n",
              "10  สำนักงานเขตภาษีเจริญ  "
            ],
            "text/html": [
              "\n",
              "\n",
              "  <div id=\"df-9716f92f-a3b0-4202-a0a9-23e3da5b9c6e\">\n",
              "    <div class=\"colab-df-container\">\n",
              "      <div>\n",
              "<style scoped>\n",
              "    .dataframe tbody tr th:only-of-type {\n",
              "        vertical-align: middle;\n",
              "    }\n",
              "\n",
              "    .dataframe tbody tr th {\n",
              "        vertical-align: top;\n",
              "    }\n",
              "\n",
              "    .dataframe thead th {\n",
              "        text-align: right;\n",
              "    }\n",
              "</style>\n",
              "<table border=\"1\" class=\"dataframe\">\n",
              "  <thead>\n",
              "    <tr style=\"text-align: right;\">\n",
              "      <th></th>\n",
              "      <th>Approved_buget</th>\n",
              "      <th>Item_name</th>\n",
              "      <th>Department</th>\n",
              "    </tr>\n",
              "  </thead>\n",
              "  <tbody>\n",
              "    <tr>\n",
              "      <th>6</th>\n",
              "      <td>225400</td>\n",
              "      <td>ขุดลอกลำรางโต๊ะรอด ตั้งแต่คลองสองต้นนุ่นถึงระย...</td>\n",
              "      <td>สำนักงานเขตมีนบุรี</td>\n",
              "    </tr>\n",
              "    <tr>\n",
              "      <th>7</th>\n",
              "      <td>452500</td>\n",
              "      <td>ขุดลอกลำรางเลียบคลองบึงขวาง ตั้งแต่คลองบึงขวาง...</td>\n",
              "      <td>สำนักงานเขตมีนบุรี</td>\n",
              "    </tr>\n",
              "    <tr>\n",
              "      <th>8</th>\n",
              "      <td>447000</td>\n",
              "      <td>ขุดลอกคลองลำแขก จากคลองลำปลาทิว \\nถึงคลองลำตาเ...</td>\n",
              "      <td>สำนักงานเขตหนองจอก</td>\n",
              "    </tr>\n",
              "    <tr>\n",
              "      <th>9</th>\n",
              "      <td>497000</td>\n",
              "      <td>ขุดลอกคลองอู่ตะเภา จากคลองลำนกแขวก\\nถึงคลองลำม...</td>\n",
              "      <td>สำนักงานเขตหนองจอก</td>\n",
              "    </tr>\n",
              "    <tr>\n",
              "      <th>10</th>\n",
              "      <td>189500</td>\n",
              "      <td>ขุดลอกลำกระโดงตรงข้ามซอยเพชรเกษม 50</td>\n",
              "      <td>สำนักงานเขตภาษีเจริญ</td>\n",
              "    </tr>\n",
              "  </tbody>\n",
              "</table>\n",
              "</div>\n",
              "      <button class=\"colab-df-convert\" onclick=\"convertToInteractive('df-9716f92f-a3b0-4202-a0a9-23e3da5b9c6e')\"\n",
              "              title=\"Convert this dataframe to an interactive table.\"\n",
              "              style=\"display:none;\">\n",
              "\n",
              "  <svg xmlns=\"http://www.w3.org/2000/svg\" height=\"24px\"viewBox=\"0 0 24 24\"\n",
              "       width=\"24px\">\n",
              "    <path d=\"M0 0h24v24H0V0z\" fill=\"none\"/>\n",
              "    <path d=\"M18.56 5.44l.94 2.06.94-2.06 2.06-.94-2.06-.94-.94-2.06-.94 2.06-2.06.94zm-11 1L8.5 8.5l.94-2.06 2.06-.94-2.06-.94L8.5 2.5l-.94 2.06-2.06.94zm10 10l.94 2.06.94-2.06 2.06-.94-2.06-.94-.94-2.06-.94 2.06-2.06.94z\"/><path d=\"M17.41 7.96l-1.37-1.37c-.4-.4-.92-.59-1.43-.59-.52 0-1.04.2-1.43.59L10.3 9.45l-7.72 7.72c-.78.78-.78 2.05 0 2.83L4 21.41c.39.39.9.59 1.41.59.51 0 1.02-.2 1.41-.59l7.78-7.78 2.81-2.81c.8-.78.8-2.07 0-2.86zM5.41 20L4 18.59l7.72-7.72 1.47 1.35L5.41 20z\"/>\n",
              "  </svg>\n",
              "      </button>\n",
              "\n",
              "\n",
              "\n",
              "    <div id=\"df-2502cf94-7a78-4388-97ff-03406baec8ea\">\n",
              "      <button class=\"colab-df-quickchart\" onclick=\"quickchart('df-2502cf94-7a78-4388-97ff-03406baec8ea')\"\n",
              "              title=\"Suggest charts.\"\n",
              "              style=\"display:none;\">\n",
              "\n",
              "<svg xmlns=\"http://www.w3.org/2000/svg\" height=\"24px\"viewBox=\"0 0 24 24\"\n",
              "     width=\"24px\">\n",
              "    <g>\n",
              "        <path d=\"M19 3H5c-1.1 0-2 .9-2 2v14c0 1.1.9 2 2 2h14c1.1 0 2-.9 2-2V5c0-1.1-.9-2-2-2zM9 17H7v-7h2v7zm4 0h-2V7h2v10zm4 0h-2v-4h2v4z\"/>\n",
              "    </g>\n",
              "</svg>\n",
              "      </button>\n",
              "    </div>\n",
              "\n",
              "<style>\n",
              "  .colab-df-quickchart {\n",
              "    background-color: #E8F0FE;\n",
              "    border: none;\n",
              "    border-radius: 50%;\n",
              "    cursor: pointer;\n",
              "    display: none;\n",
              "    fill: #1967D2;\n",
              "    height: 32px;\n",
              "    padding: 0 0 0 0;\n",
              "    width: 32px;\n",
              "  }\n",
              "\n",
              "  .colab-df-quickchart:hover {\n",
              "    background-color: #E2EBFA;\n",
              "    box-shadow: 0px 1px 2px rgba(60, 64, 67, 0.3), 0px 1px 3px 1px rgba(60, 64, 67, 0.15);\n",
              "    fill: #174EA6;\n",
              "  }\n",
              "\n",
              "  [theme=dark] .colab-df-quickchart {\n",
              "    background-color: #3B4455;\n",
              "    fill: #D2E3FC;\n",
              "  }\n",
              "\n",
              "  [theme=dark] .colab-df-quickchart:hover {\n",
              "    background-color: #434B5C;\n",
              "    box-shadow: 0px 1px 3px 1px rgba(0, 0, 0, 0.15);\n",
              "    filter: drop-shadow(0px 1px 2px rgba(0, 0, 0, 0.3));\n",
              "    fill: #FFFFFF;\n",
              "  }\n",
              "</style>\n",
              "\n",
              "    <script>\n",
              "      async function quickchart(key) {\n",
              "        const containerElement = document.querySelector('#' + key);\n",
              "        const charts = await google.colab.kernel.invokeFunction(\n",
              "            'suggestCharts', [key], {});\n",
              "      }\n",
              "    </script>\n",
              "\n",
              "      <script>\n",
              "\n",
              "function displayQuickchartButton(domScope) {\n",
              "  let quickchartButtonEl =\n",
              "    domScope.querySelector('#df-2502cf94-7a78-4388-97ff-03406baec8ea button.colab-df-quickchart');\n",
              "  quickchartButtonEl.style.display =\n",
              "    google.colab.kernel.accessAllowed ? 'block' : 'none';\n",
              "}\n",
              "\n",
              "        displayQuickchartButton(document);\n",
              "      </script>\n",
              "      <style>\n",
              "    .colab-df-container {\n",
              "      display:flex;\n",
              "      flex-wrap:wrap;\n",
              "      gap: 12px;\n",
              "    }\n",
              "\n",
              "    .colab-df-convert {\n",
              "      background-color: #E8F0FE;\n",
              "      border: none;\n",
              "      border-radius: 50%;\n",
              "      cursor: pointer;\n",
              "      display: none;\n",
              "      fill: #1967D2;\n",
              "      height: 32px;\n",
              "      padding: 0 0 0 0;\n",
              "      width: 32px;\n",
              "    }\n",
              "\n",
              "    .colab-df-convert:hover {\n",
              "      background-color: #E2EBFA;\n",
              "      box-shadow: 0px 1px 2px rgba(60, 64, 67, 0.3), 0px 1px 3px 1px rgba(60, 64, 67, 0.15);\n",
              "      fill: #174EA6;\n",
              "    }\n",
              "\n",
              "    [theme=dark] .colab-df-convert {\n",
              "      background-color: #3B4455;\n",
              "      fill: #D2E3FC;\n",
              "    }\n",
              "\n",
              "    [theme=dark] .colab-df-convert:hover {\n",
              "      background-color: #434B5C;\n",
              "      box-shadow: 0px 1px 3px 1px rgba(0, 0, 0, 0.15);\n",
              "      filter: drop-shadow(0px 1px 2px rgba(0, 0, 0, 0.3));\n",
              "      fill: #FFFFFF;\n",
              "    }\n",
              "  </style>\n",
              "\n",
              "      <script>\n",
              "        const buttonEl =\n",
              "          document.querySelector('#df-9716f92f-a3b0-4202-a0a9-23e3da5b9c6e button.colab-df-convert');\n",
              "        buttonEl.style.display =\n",
              "          google.colab.kernel.accessAllowed ? 'block' : 'none';\n",
              "\n",
              "        async function convertToInteractive(key) {\n",
              "          const element = document.querySelector('#df-9716f92f-a3b0-4202-a0a9-23e3da5b9c6e');\n",
              "          const dataTable =\n",
              "            await google.colab.kernel.invokeFunction('convertToInteractive',\n",
              "                                                     [key], {});\n",
              "          if (!dataTable) return;\n",
              "\n",
              "          const docLinkHtml = 'Like what you see? Visit the ' +\n",
              "            '<a target=\"_blank\" href=https://colab.research.google.com/notebooks/data_table.ipynb>data table notebook</a>'\n",
              "            + ' to learn more about interactive tables.';\n",
              "          element.innerHTML = '';\n",
              "          dataTable['output_type'] = 'display_data';\n",
              "          await google.colab.output.renderOutput(dataTable, element);\n",
              "          const docLink = document.createElement('div');\n",
              "          docLink.innerHTML = docLinkHtml;\n",
              "          element.appendChild(docLink);\n",
              "        }\n",
              "      </script>\n",
              "    </div>\n",
              "  </div>\n"
            ]
          },
          "metadata": {},
          "execution_count": 17
        }
      ]
    },
    {
      "cell_type": "markdown",
      "source": [
        "## มุมมองแบบ Array"
      ],
      "metadata": {
        "id": "ueQ1eaFv3zT9"
      }
    },
    {
      "cell_type": "code",
      "source": [
        " data1.iloc[0,0] # .iloc เปลี่ยนมุมมองเป็น np.arry  ชี้เป็นเเถว คอลัม ติดลบ สไลด์ได้"
      ],
      "metadata": {
        "colab": {
          "base_uri": "https://localhost:8080/",
          "height": 38
        },
        "id": "g1CFntgVeC8v",
        "outputId": "c0143787-0ec7-4f08-ec91-f5e18fc9a1b4"
      },
      "execution_count": 18,
      "outputs": [
        {
          "output_type": "execute_result",
          "data": {
            "text/plain": [
              "'งบประจำปี'"
            ],
            "application/vnd.google.colaboratory.intrinsic+json": {
              "type": "string"
            }
          },
          "metadata": {},
          "execution_count": 18
        }
      ]
    },
    {
      "cell_type": "code",
      "source": [
        " data1.iloc[-6,5]"
      ],
      "metadata": {
        "colab": {
          "base_uri": "https://localhost:8080/"
        },
        "id": "Rob2z77HeqMx",
        "outputId": "f24ee37e-7306-4c3d-f2fc-714f0fda288e"
      },
      "execution_count": 19,
      "outputs": [
        {
          "output_type": "execute_result",
          "data": {
            "text/plain": [
              "nan"
            ]
          },
          "metadata": {},
          "execution_count": 19
        }
      ]
    },
    {
      "cell_type": "code",
      "source": [
        "data1.tail(7)"
      ],
      "metadata": {
        "colab": {
          "base_uri": "https://localhost:8080/",
          "height": 517
        },
        "id": "X3xrbVeK3NlO",
        "outputId": "a8ca354d-0a86-49cb-fcad-5c061e4d1a2e"
      },
      "execution_count": 20,
      "outputs": [
        {
          "output_type": "execute_result",
          "data": {
            "text/plain": [
              "    Budget_resource  Issue_No  Fiscal_year  Department_code  \\\n",
              "685     งบเพิ่มเติม         1           66         50460000   \n",
              "686     งบเพิ่มเติม         1           66         50460000   \n",
              "687     งบเพิ่มเติม         1           66         50460000   \n",
              "688     งบเพิ่มเติม         1           66         50460000   \n",
              "689     งบเพิ่มเติม         1           66         50460000   \n",
              "690     งบเพิ่มเติม         1           66         50460000   \n",
              "691     งบเพิ่มเติม         1           66         50500000   \n",
              "\n",
              "               Department Core_budget_code Expenditure_category  \\\n",
              "685  สำนักงานเขตคลองสามวา              NaN              งบลงทุน   \n",
              "686  สำนักงานเขตคลองสามวา              NaN              งบลงทุน   \n",
              "687  สำนักงานเขตคลองสามวา              NaN              งบลงทุน   \n",
              "688  สำนักงานเขตคลองสามวา              NaN              งบลงทุน   \n",
              "689  สำนักงานเขตคลองสามวา              NaN              งบลงทุน   \n",
              "690  สำนักงานเขตคลองสามวา              NaN              งบลงทุน   \n",
              "691     สำนักงานเขตบางบอน              NaN              งบลงทุน   \n",
              "\n",
              "                                     Item_name  Approved_buget  \n",
              "685                           ขุดลอกคลองกีบหมู         2925000  \n",
              "686                         ขุดลอกคลองลำกะโหลก         3875000  \n",
              "687                         ขุดลอกคลองผักกะเฉด         3686000  \n",
              "688                    ขุดลอกคลองบึงทรายกองดิน         2575000  \n",
              "689                          ขุดลอกลำรางซาฟารี          689000  \n",
              "690                        ขุดลอกลำรางตาจันทร์          464000  \n",
              "691  ขุดลอกคลองบางบอนต่อจากของเดิมถึงคลองนายผล         7578000  "
            ],
            "text/html": [
              "\n",
              "\n",
              "  <div id=\"df-92d6d115-6688-49b6-ab88-dcc4ee55adca\">\n",
              "    <div class=\"colab-df-container\">\n",
              "      <div>\n",
              "<style scoped>\n",
              "    .dataframe tbody tr th:only-of-type {\n",
              "        vertical-align: middle;\n",
              "    }\n",
              "\n",
              "    .dataframe tbody tr th {\n",
              "        vertical-align: top;\n",
              "    }\n",
              "\n",
              "    .dataframe thead th {\n",
              "        text-align: right;\n",
              "    }\n",
              "</style>\n",
              "<table border=\"1\" class=\"dataframe\">\n",
              "  <thead>\n",
              "    <tr style=\"text-align: right;\">\n",
              "      <th></th>\n",
              "      <th>Budget_resource</th>\n",
              "      <th>Issue_No</th>\n",
              "      <th>Fiscal_year</th>\n",
              "      <th>Department_code</th>\n",
              "      <th>Department</th>\n",
              "      <th>Core_budget_code</th>\n",
              "      <th>Expenditure_category</th>\n",
              "      <th>Item_name</th>\n",
              "      <th>Approved_buget</th>\n",
              "    </tr>\n",
              "  </thead>\n",
              "  <tbody>\n",
              "    <tr>\n",
              "      <th>685</th>\n",
              "      <td>งบเพิ่มเติม</td>\n",
              "      <td>1</td>\n",
              "      <td>66</td>\n",
              "      <td>50460000</td>\n",
              "      <td>สำนักงานเขตคลองสามวา</td>\n",
              "      <td>NaN</td>\n",
              "      <td>งบลงทุน</td>\n",
              "      <td>ขุดลอกคลองกีบหมู</td>\n",
              "      <td>2925000</td>\n",
              "    </tr>\n",
              "    <tr>\n",
              "      <th>686</th>\n",
              "      <td>งบเพิ่มเติม</td>\n",
              "      <td>1</td>\n",
              "      <td>66</td>\n",
              "      <td>50460000</td>\n",
              "      <td>สำนักงานเขตคลองสามวา</td>\n",
              "      <td>NaN</td>\n",
              "      <td>งบลงทุน</td>\n",
              "      <td>ขุดลอกคลองลำกะโหลก</td>\n",
              "      <td>3875000</td>\n",
              "    </tr>\n",
              "    <tr>\n",
              "      <th>687</th>\n",
              "      <td>งบเพิ่มเติม</td>\n",
              "      <td>1</td>\n",
              "      <td>66</td>\n",
              "      <td>50460000</td>\n",
              "      <td>สำนักงานเขตคลองสามวา</td>\n",
              "      <td>NaN</td>\n",
              "      <td>งบลงทุน</td>\n",
              "      <td>ขุดลอกคลองผักกะเฉด</td>\n",
              "      <td>3686000</td>\n",
              "    </tr>\n",
              "    <tr>\n",
              "      <th>688</th>\n",
              "      <td>งบเพิ่มเติม</td>\n",
              "      <td>1</td>\n",
              "      <td>66</td>\n",
              "      <td>50460000</td>\n",
              "      <td>สำนักงานเขตคลองสามวา</td>\n",
              "      <td>NaN</td>\n",
              "      <td>งบลงทุน</td>\n",
              "      <td>ขุดลอกคลองบึงทรายกองดิน</td>\n",
              "      <td>2575000</td>\n",
              "    </tr>\n",
              "    <tr>\n",
              "      <th>689</th>\n",
              "      <td>งบเพิ่มเติม</td>\n",
              "      <td>1</td>\n",
              "      <td>66</td>\n",
              "      <td>50460000</td>\n",
              "      <td>สำนักงานเขตคลองสามวา</td>\n",
              "      <td>NaN</td>\n",
              "      <td>งบลงทุน</td>\n",
              "      <td>ขุดลอกลำรางซาฟารี</td>\n",
              "      <td>689000</td>\n",
              "    </tr>\n",
              "    <tr>\n",
              "      <th>690</th>\n",
              "      <td>งบเพิ่มเติม</td>\n",
              "      <td>1</td>\n",
              "      <td>66</td>\n",
              "      <td>50460000</td>\n",
              "      <td>สำนักงานเขตคลองสามวา</td>\n",
              "      <td>NaN</td>\n",
              "      <td>งบลงทุน</td>\n",
              "      <td>ขุดลอกลำรางตาจันทร์</td>\n",
              "      <td>464000</td>\n",
              "    </tr>\n",
              "    <tr>\n",
              "      <th>691</th>\n",
              "      <td>งบเพิ่มเติม</td>\n",
              "      <td>1</td>\n",
              "      <td>66</td>\n",
              "      <td>50500000</td>\n",
              "      <td>สำนักงานเขตบางบอน</td>\n",
              "      <td>NaN</td>\n",
              "      <td>งบลงทุน</td>\n",
              "      <td>ขุดลอกคลองบางบอนต่อจากของเดิมถึงคลองนายผล</td>\n",
              "      <td>7578000</td>\n",
              "    </tr>\n",
              "  </tbody>\n",
              "</table>\n",
              "</div>\n",
              "      <button class=\"colab-df-convert\" onclick=\"convertToInteractive('df-92d6d115-6688-49b6-ab88-dcc4ee55adca')\"\n",
              "              title=\"Convert this dataframe to an interactive table.\"\n",
              "              style=\"display:none;\">\n",
              "\n",
              "  <svg xmlns=\"http://www.w3.org/2000/svg\" height=\"24px\"viewBox=\"0 0 24 24\"\n",
              "       width=\"24px\">\n",
              "    <path d=\"M0 0h24v24H0V0z\" fill=\"none\"/>\n",
              "    <path d=\"M18.56 5.44l.94 2.06.94-2.06 2.06-.94-2.06-.94-.94-2.06-.94 2.06-2.06.94zm-11 1L8.5 8.5l.94-2.06 2.06-.94-2.06-.94L8.5 2.5l-.94 2.06-2.06.94zm10 10l.94 2.06.94-2.06 2.06-.94-2.06-.94-.94-2.06-.94 2.06-2.06.94z\"/><path d=\"M17.41 7.96l-1.37-1.37c-.4-.4-.92-.59-1.43-.59-.52 0-1.04.2-1.43.59L10.3 9.45l-7.72 7.72c-.78.78-.78 2.05 0 2.83L4 21.41c.39.39.9.59 1.41.59.51 0 1.02-.2 1.41-.59l7.78-7.78 2.81-2.81c.8-.78.8-2.07 0-2.86zM5.41 20L4 18.59l7.72-7.72 1.47 1.35L5.41 20z\"/>\n",
              "  </svg>\n",
              "      </button>\n",
              "\n",
              "\n",
              "\n",
              "    <div id=\"df-1efbc6f4-4b1c-430a-908a-2e0e75b2c3b4\">\n",
              "      <button class=\"colab-df-quickchart\" onclick=\"quickchart('df-1efbc6f4-4b1c-430a-908a-2e0e75b2c3b4')\"\n",
              "              title=\"Suggest charts.\"\n",
              "              style=\"display:none;\">\n",
              "\n",
              "<svg xmlns=\"http://www.w3.org/2000/svg\" height=\"24px\"viewBox=\"0 0 24 24\"\n",
              "     width=\"24px\">\n",
              "    <g>\n",
              "        <path d=\"M19 3H5c-1.1 0-2 .9-2 2v14c0 1.1.9 2 2 2h14c1.1 0 2-.9 2-2V5c0-1.1-.9-2-2-2zM9 17H7v-7h2v7zm4 0h-2V7h2v10zm4 0h-2v-4h2v4z\"/>\n",
              "    </g>\n",
              "</svg>\n",
              "      </button>\n",
              "    </div>\n",
              "\n",
              "<style>\n",
              "  .colab-df-quickchart {\n",
              "    background-color: #E8F0FE;\n",
              "    border: none;\n",
              "    border-radius: 50%;\n",
              "    cursor: pointer;\n",
              "    display: none;\n",
              "    fill: #1967D2;\n",
              "    height: 32px;\n",
              "    padding: 0 0 0 0;\n",
              "    width: 32px;\n",
              "  }\n",
              "\n",
              "  .colab-df-quickchart:hover {\n",
              "    background-color: #E2EBFA;\n",
              "    box-shadow: 0px 1px 2px rgba(60, 64, 67, 0.3), 0px 1px 3px 1px rgba(60, 64, 67, 0.15);\n",
              "    fill: #174EA6;\n",
              "  }\n",
              "\n",
              "  [theme=dark] .colab-df-quickchart {\n",
              "    background-color: #3B4455;\n",
              "    fill: #D2E3FC;\n",
              "  }\n",
              "\n",
              "  [theme=dark] .colab-df-quickchart:hover {\n",
              "    background-color: #434B5C;\n",
              "    box-shadow: 0px 1px 3px 1px rgba(0, 0, 0, 0.15);\n",
              "    filter: drop-shadow(0px 1px 2px rgba(0, 0, 0, 0.3));\n",
              "    fill: #FFFFFF;\n",
              "  }\n",
              "</style>\n",
              "\n",
              "    <script>\n",
              "      async function quickchart(key) {\n",
              "        const containerElement = document.querySelector('#' + key);\n",
              "        const charts = await google.colab.kernel.invokeFunction(\n",
              "            'suggestCharts', [key], {});\n",
              "      }\n",
              "    </script>\n",
              "\n",
              "      <script>\n",
              "\n",
              "function displayQuickchartButton(domScope) {\n",
              "  let quickchartButtonEl =\n",
              "    domScope.querySelector('#df-1efbc6f4-4b1c-430a-908a-2e0e75b2c3b4 button.colab-df-quickchart');\n",
              "  quickchartButtonEl.style.display =\n",
              "    google.colab.kernel.accessAllowed ? 'block' : 'none';\n",
              "}\n",
              "\n",
              "        displayQuickchartButton(document);\n",
              "      </script>\n",
              "      <style>\n",
              "    .colab-df-container {\n",
              "      display:flex;\n",
              "      flex-wrap:wrap;\n",
              "      gap: 12px;\n",
              "    }\n",
              "\n",
              "    .colab-df-convert {\n",
              "      background-color: #E8F0FE;\n",
              "      border: none;\n",
              "      border-radius: 50%;\n",
              "      cursor: pointer;\n",
              "      display: none;\n",
              "      fill: #1967D2;\n",
              "      height: 32px;\n",
              "      padding: 0 0 0 0;\n",
              "      width: 32px;\n",
              "    }\n",
              "\n",
              "    .colab-df-convert:hover {\n",
              "      background-color: #E2EBFA;\n",
              "      box-shadow: 0px 1px 2px rgba(60, 64, 67, 0.3), 0px 1px 3px 1px rgba(60, 64, 67, 0.15);\n",
              "      fill: #174EA6;\n",
              "    }\n",
              "\n",
              "    [theme=dark] .colab-df-convert {\n",
              "      background-color: #3B4455;\n",
              "      fill: #D2E3FC;\n",
              "    }\n",
              "\n",
              "    [theme=dark] .colab-df-convert:hover {\n",
              "      background-color: #434B5C;\n",
              "      box-shadow: 0px 1px 3px 1px rgba(0, 0, 0, 0.15);\n",
              "      filter: drop-shadow(0px 1px 2px rgba(0, 0, 0, 0.3));\n",
              "      fill: #FFFFFF;\n",
              "    }\n",
              "  </style>\n",
              "\n",
              "      <script>\n",
              "        const buttonEl =\n",
              "          document.querySelector('#df-92d6d115-6688-49b6-ab88-dcc4ee55adca button.colab-df-convert');\n",
              "        buttonEl.style.display =\n",
              "          google.colab.kernel.accessAllowed ? 'block' : 'none';\n",
              "\n",
              "        async function convertToInteractive(key) {\n",
              "          const element = document.querySelector('#df-92d6d115-6688-49b6-ab88-dcc4ee55adca');\n",
              "          const dataTable =\n",
              "            await google.colab.kernel.invokeFunction('convertToInteractive',\n",
              "                                                     [key], {});\n",
              "          if (!dataTable) return;\n",
              "\n",
              "          const docLinkHtml = 'Like what you see? Visit the ' +\n",
              "            '<a target=\"_blank\" href=https://colab.research.google.com/notebooks/data_table.ipynb>data table notebook</a>'\n",
              "            + ' to learn more about interactive tables.';\n",
              "          element.innerHTML = '';\n",
              "          dataTable['output_type'] = 'display_data';\n",
              "          await google.colab.output.renderOutput(dataTable, element);\n",
              "          const docLink = document.createElement('div');\n",
              "          docLink.innerHTML = docLinkHtml;\n",
              "          element.appendChild(docLink);\n",
              "        }\n",
              "      </script>\n",
              "    </div>\n",
              "  </div>\n"
            ]
          },
          "metadata": {},
          "execution_count": 20
        }
      ]
    },
    {
      "cell_type": "markdown",
      "source": [
        "# Table Slicing\n",
        "ไม่ค่อยมีประสิทธิภาพ\n",
        "ต้องทราบพิกัด"
      ],
      "metadata": {
        "id": "C503gqEWeuuj"
      }
    },
    {
      "cell_type": "code",
      "source": [
        "data1.iloc[-20 :,7:10]"
      ],
      "metadata": {
        "colab": {
          "base_uri": "https://localhost:8080/",
          "height": 669
        },
        "id": "jblMyFWufTfW",
        "outputId": "ddbfd7d6-14c4-45f9-907f-e6e59dff1718"
      },
      "execution_count": 21,
      "outputs": [
        {
          "output_type": "execute_result",
          "data": {
            "text/plain": [
              "                                             Item_name  Approved_buget\n",
              "672  ขุดลอกลำกระโดงแยกคลองบางแวก (ตรงข้ามวัดบุณยประ...          472000\n",
              "673  ขุดลอกลำกระโดงแยกคลองบางขี้แก้ง (หมู่บ้านเอเวอ...          492000\n",
              "674                         ขุดลอกคลองแยกคลองตาเทียม 1          469000\n",
              "675  ขุดลอกลำกระโดงระหว่างซอยเพชรเกษม 43 กับ ซอยเพช...          493000\n",
              "676                          ขุดลอกคลองแยกคลองยายเพิ่ม          481000\n",
              "677                    ขุดลอกลำกระโดงข้างหมู่บ้านวรนุช          492000\n",
              "678                                    ขุดลอกคลองตาตี่          483000\n",
              "679                        ขุดลอกลำกระโดงข้างเดอะมอลล์          462000\n",
              "680                      ขุดลอกลำกระโดงข้างบ้านบางแค 2          499000\n",
              "681                                   ขุดลอกลำรางตาเชย         3559000\n",
              "682                              ขุดลอกลำรางไทยเอราวัณ         3494000\n",
              "683                             ขุดลอกคลองหนึ่งตะวันตก         4330000\n",
              "684                               ขุดลอกคลองสองตะวันตก         9832000\n",
              "685                                   ขุดลอกคลองกีบหมู         2925000\n",
              "686                                 ขุดลอกคลองลำกะโหลก         3875000\n",
              "687                                 ขุดลอกคลองผักกะเฉด         3686000\n",
              "688                            ขุดลอกคลองบึงทรายกองดิน         2575000\n",
              "689                                  ขุดลอกลำรางซาฟารี          689000\n",
              "690                                ขุดลอกลำรางตาจันทร์          464000\n",
              "691          ขุดลอกคลองบางบอนต่อจากของเดิมถึงคลองนายผล         7578000"
            ],
            "text/html": [
              "\n",
              "\n",
              "  <div id=\"df-b05615ac-d4fa-4043-aeff-36e5248ddfbc\">\n",
              "    <div class=\"colab-df-container\">\n",
              "      <div>\n",
              "<style scoped>\n",
              "    .dataframe tbody tr th:only-of-type {\n",
              "        vertical-align: middle;\n",
              "    }\n",
              "\n",
              "    .dataframe tbody tr th {\n",
              "        vertical-align: top;\n",
              "    }\n",
              "\n",
              "    .dataframe thead th {\n",
              "        text-align: right;\n",
              "    }\n",
              "</style>\n",
              "<table border=\"1\" class=\"dataframe\">\n",
              "  <thead>\n",
              "    <tr style=\"text-align: right;\">\n",
              "      <th></th>\n",
              "      <th>Item_name</th>\n",
              "      <th>Approved_buget</th>\n",
              "    </tr>\n",
              "  </thead>\n",
              "  <tbody>\n",
              "    <tr>\n",
              "      <th>672</th>\n",
              "      <td>ขุดลอกลำกระโดงแยกคลองบางแวก (ตรงข้ามวัดบุณยประ...</td>\n",
              "      <td>472000</td>\n",
              "    </tr>\n",
              "    <tr>\n",
              "      <th>673</th>\n",
              "      <td>ขุดลอกลำกระโดงแยกคลองบางขี้แก้ง (หมู่บ้านเอเวอ...</td>\n",
              "      <td>492000</td>\n",
              "    </tr>\n",
              "    <tr>\n",
              "      <th>674</th>\n",
              "      <td>ขุดลอกคลองแยกคลองตาเทียม 1</td>\n",
              "      <td>469000</td>\n",
              "    </tr>\n",
              "    <tr>\n",
              "      <th>675</th>\n",
              "      <td>ขุดลอกลำกระโดงระหว่างซอยเพชรเกษม 43 กับ ซอยเพช...</td>\n",
              "      <td>493000</td>\n",
              "    </tr>\n",
              "    <tr>\n",
              "      <th>676</th>\n",
              "      <td>ขุดลอกคลองแยกคลองยายเพิ่ม</td>\n",
              "      <td>481000</td>\n",
              "    </tr>\n",
              "    <tr>\n",
              "      <th>677</th>\n",
              "      <td>ขุดลอกลำกระโดงข้างหมู่บ้านวรนุช</td>\n",
              "      <td>492000</td>\n",
              "    </tr>\n",
              "    <tr>\n",
              "      <th>678</th>\n",
              "      <td>ขุดลอกคลองตาตี่</td>\n",
              "      <td>483000</td>\n",
              "    </tr>\n",
              "    <tr>\n",
              "      <th>679</th>\n",
              "      <td>ขุดลอกลำกระโดงข้างเดอะมอลล์</td>\n",
              "      <td>462000</td>\n",
              "    </tr>\n",
              "    <tr>\n",
              "      <th>680</th>\n",
              "      <td>ขุดลอกลำกระโดงข้างบ้านบางแค 2</td>\n",
              "      <td>499000</td>\n",
              "    </tr>\n",
              "    <tr>\n",
              "      <th>681</th>\n",
              "      <td>ขุดลอกลำรางตาเชย</td>\n",
              "      <td>3559000</td>\n",
              "    </tr>\n",
              "    <tr>\n",
              "      <th>682</th>\n",
              "      <td>ขุดลอกลำรางไทยเอราวัณ</td>\n",
              "      <td>3494000</td>\n",
              "    </tr>\n",
              "    <tr>\n",
              "      <th>683</th>\n",
              "      <td>ขุดลอกคลองหนึ่งตะวันตก</td>\n",
              "      <td>4330000</td>\n",
              "    </tr>\n",
              "    <tr>\n",
              "      <th>684</th>\n",
              "      <td>ขุดลอกคลองสองตะวันตก</td>\n",
              "      <td>9832000</td>\n",
              "    </tr>\n",
              "    <tr>\n",
              "      <th>685</th>\n",
              "      <td>ขุดลอกคลองกีบหมู</td>\n",
              "      <td>2925000</td>\n",
              "    </tr>\n",
              "    <tr>\n",
              "      <th>686</th>\n",
              "      <td>ขุดลอกคลองลำกะโหลก</td>\n",
              "      <td>3875000</td>\n",
              "    </tr>\n",
              "    <tr>\n",
              "      <th>687</th>\n",
              "      <td>ขุดลอกคลองผักกะเฉด</td>\n",
              "      <td>3686000</td>\n",
              "    </tr>\n",
              "    <tr>\n",
              "      <th>688</th>\n",
              "      <td>ขุดลอกคลองบึงทรายกองดิน</td>\n",
              "      <td>2575000</td>\n",
              "    </tr>\n",
              "    <tr>\n",
              "      <th>689</th>\n",
              "      <td>ขุดลอกลำรางซาฟารี</td>\n",
              "      <td>689000</td>\n",
              "    </tr>\n",
              "    <tr>\n",
              "      <th>690</th>\n",
              "      <td>ขุดลอกลำรางตาจันทร์</td>\n",
              "      <td>464000</td>\n",
              "    </tr>\n",
              "    <tr>\n",
              "      <th>691</th>\n",
              "      <td>ขุดลอกคลองบางบอนต่อจากของเดิมถึงคลองนายผล</td>\n",
              "      <td>7578000</td>\n",
              "    </tr>\n",
              "  </tbody>\n",
              "</table>\n",
              "</div>\n",
              "      <button class=\"colab-df-convert\" onclick=\"convertToInteractive('df-b05615ac-d4fa-4043-aeff-36e5248ddfbc')\"\n",
              "              title=\"Convert this dataframe to an interactive table.\"\n",
              "              style=\"display:none;\">\n",
              "\n",
              "  <svg xmlns=\"http://www.w3.org/2000/svg\" height=\"24px\"viewBox=\"0 0 24 24\"\n",
              "       width=\"24px\">\n",
              "    <path d=\"M0 0h24v24H0V0z\" fill=\"none\"/>\n",
              "    <path d=\"M18.56 5.44l.94 2.06.94-2.06 2.06-.94-2.06-.94-.94-2.06-.94 2.06-2.06.94zm-11 1L8.5 8.5l.94-2.06 2.06-.94-2.06-.94L8.5 2.5l-.94 2.06-2.06.94zm10 10l.94 2.06.94-2.06 2.06-.94-2.06-.94-.94-2.06-.94 2.06-2.06.94z\"/><path d=\"M17.41 7.96l-1.37-1.37c-.4-.4-.92-.59-1.43-.59-.52 0-1.04.2-1.43.59L10.3 9.45l-7.72 7.72c-.78.78-.78 2.05 0 2.83L4 21.41c.39.39.9.59 1.41.59.51 0 1.02-.2 1.41-.59l7.78-7.78 2.81-2.81c.8-.78.8-2.07 0-2.86zM5.41 20L4 18.59l7.72-7.72 1.47 1.35L5.41 20z\"/>\n",
              "  </svg>\n",
              "      </button>\n",
              "\n",
              "\n",
              "\n",
              "    <div id=\"df-001c0a10-9b2f-438a-8bfb-2be3bb90f4ac\">\n",
              "      <button class=\"colab-df-quickchart\" onclick=\"quickchart('df-001c0a10-9b2f-438a-8bfb-2be3bb90f4ac')\"\n",
              "              title=\"Suggest charts.\"\n",
              "              style=\"display:none;\">\n",
              "\n",
              "<svg xmlns=\"http://www.w3.org/2000/svg\" height=\"24px\"viewBox=\"0 0 24 24\"\n",
              "     width=\"24px\">\n",
              "    <g>\n",
              "        <path d=\"M19 3H5c-1.1 0-2 .9-2 2v14c0 1.1.9 2 2 2h14c1.1 0 2-.9 2-2V5c0-1.1-.9-2-2-2zM9 17H7v-7h2v7zm4 0h-2V7h2v10zm4 0h-2v-4h2v4z\"/>\n",
              "    </g>\n",
              "</svg>\n",
              "      </button>\n",
              "    </div>\n",
              "\n",
              "<style>\n",
              "  .colab-df-quickchart {\n",
              "    background-color: #E8F0FE;\n",
              "    border: none;\n",
              "    border-radius: 50%;\n",
              "    cursor: pointer;\n",
              "    display: none;\n",
              "    fill: #1967D2;\n",
              "    height: 32px;\n",
              "    padding: 0 0 0 0;\n",
              "    width: 32px;\n",
              "  }\n",
              "\n",
              "  .colab-df-quickchart:hover {\n",
              "    background-color: #E2EBFA;\n",
              "    box-shadow: 0px 1px 2px rgba(60, 64, 67, 0.3), 0px 1px 3px 1px rgba(60, 64, 67, 0.15);\n",
              "    fill: #174EA6;\n",
              "  }\n",
              "\n",
              "  [theme=dark] .colab-df-quickchart {\n",
              "    background-color: #3B4455;\n",
              "    fill: #D2E3FC;\n",
              "  }\n",
              "\n",
              "  [theme=dark] .colab-df-quickchart:hover {\n",
              "    background-color: #434B5C;\n",
              "    box-shadow: 0px 1px 3px 1px rgba(0, 0, 0, 0.15);\n",
              "    filter: drop-shadow(0px 1px 2px rgba(0, 0, 0, 0.3));\n",
              "    fill: #FFFFFF;\n",
              "  }\n",
              "</style>\n",
              "\n",
              "    <script>\n",
              "      async function quickchart(key) {\n",
              "        const containerElement = document.querySelector('#' + key);\n",
              "        const charts = await google.colab.kernel.invokeFunction(\n",
              "            'suggestCharts', [key], {});\n",
              "      }\n",
              "    </script>\n",
              "\n",
              "      <script>\n",
              "\n",
              "function displayQuickchartButton(domScope) {\n",
              "  let quickchartButtonEl =\n",
              "    domScope.querySelector('#df-001c0a10-9b2f-438a-8bfb-2be3bb90f4ac button.colab-df-quickchart');\n",
              "  quickchartButtonEl.style.display =\n",
              "    google.colab.kernel.accessAllowed ? 'block' : 'none';\n",
              "}\n",
              "\n",
              "        displayQuickchartButton(document);\n",
              "      </script>\n",
              "      <style>\n",
              "    .colab-df-container {\n",
              "      display:flex;\n",
              "      flex-wrap:wrap;\n",
              "      gap: 12px;\n",
              "    }\n",
              "\n",
              "    .colab-df-convert {\n",
              "      background-color: #E8F0FE;\n",
              "      border: none;\n",
              "      border-radius: 50%;\n",
              "      cursor: pointer;\n",
              "      display: none;\n",
              "      fill: #1967D2;\n",
              "      height: 32px;\n",
              "      padding: 0 0 0 0;\n",
              "      width: 32px;\n",
              "    }\n",
              "\n",
              "    .colab-df-convert:hover {\n",
              "      background-color: #E2EBFA;\n",
              "      box-shadow: 0px 1px 2px rgba(60, 64, 67, 0.3), 0px 1px 3px 1px rgba(60, 64, 67, 0.15);\n",
              "      fill: #174EA6;\n",
              "    }\n",
              "\n",
              "    [theme=dark] .colab-df-convert {\n",
              "      background-color: #3B4455;\n",
              "      fill: #D2E3FC;\n",
              "    }\n",
              "\n",
              "    [theme=dark] .colab-df-convert:hover {\n",
              "      background-color: #434B5C;\n",
              "      box-shadow: 0px 1px 3px 1px rgba(0, 0, 0, 0.15);\n",
              "      filter: drop-shadow(0px 1px 2px rgba(0, 0, 0, 0.3));\n",
              "      fill: #FFFFFF;\n",
              "    }\n",
              "  </style>\n",
              "\n",
              "      <script>\n",
              "        const buttonEl =\n",
              "          document.querySelector('#df-b05615ac-d4fa-4043-aeff-36e5248ddfbc button.colab-df-convert');\n",
              "        buttonEl.style.display =\n",
              "          google.colab.kernel.accessAllowed ? 'block' : 'none';\n",
              "\n",
              "        async function convertToInteractive(key) {\n",
              "          const element = document.querySelector('#df-b05615ac-d4fa-4043-aeff-36e5248ddfbc');\n",
              "          const dataTable =\n",
              "            await google.colab.kernel.invokeFunction('convertToInteractive',\n",
              "                                                     [key], {});\n",
              "          if (!dataTable) return;\n",
              "\n",
              "          const docLinkHtml = 'Like what you see? Visit the ' +\n",
              "            '<a target=\"_blank\" href=https://colab.research.google.com/notebooks/data_table.ipynb>data table notebook</a>'\n",
              "            + ' to learn more about interactive tables.';\n",
              "          element.innerHTML = '';\n",
              "          dataTable['output_type'] = 'display_data';\n",
              "          await google.colab.output.renderOutput(dataTable, element);\n",
              "          const docLink = document.createElement('div');\n",
              "          docLink.innerHTML = docLinkHtml;\n",
              "          element.appendChild(docLink);\n",
              "        }\n",
              "      </script>\n",
              "    </div>\n",
              "  </div>\n"
            ]
          },
          "metadata": {},
          "execution_count": 21
        }
      ]
    },
    {
      "cell_type": "markdown",
      "source": [
        " ## table Query"
      ],
      "metadata": {
        "id": "h9oTu2hKgMBK"
      }
    },
    {
      "cell_type": "markdown",
      "source": [
        "### อยากได้รายการที่ได้รับอนุมัติงบเกิน 1 ล้านบาท\n",
        "```df[logics]```โดยที่ logics จะต้องมีจำนวนสมาชิกเท่ากับจำนวนแถวของDF"
      ],
      "metadata": {
        "id": "pqWTEtkv52FQ"
      }
    },
    {
      "cell_type": "code",
      "source": [
        "small_df = data1.iloc[-5:,:]\n",
        "small_df"
      ],
      "metadata": {
        "colab": {
          "base_uri": "https://localhost:8080/",
          "height": 421
        },
        "id": "7Yqq0ZeT66Jw",
        "outputId": "ec53120e-6f4e-4d2f-c1ff-f387a405e2bc"
      },
      "execution_count": 22,
      "outputs": [
        {
          "output_type": "execute_result",
          "data": {
            "text/plain": [
              "    Budget_resource  Issue_No  Fiscal_year  Department_code  \\\n",
              "687     งบเพิ่มเติม         1           66         50460000   \n",
              "688     งบเพิ่มเติม         1           66         50460000   \n",
              "689     งบเพิ่มเติม         1           66         50460000   \n",
              "690     งบเพิ่มเติม         1           66         50460000   \n",
              "691     งบเพิ่มเติม         1           66         50500000   \n",
              "\n",
              "               Department Core_budget_code Expenditure_category  \\\n",
              "687  สำนักงานเขตคลองสามวา              NaN              งบลงทุน   \n",
              "688  สำนักงานเขตคลองสามวา              NaN              งบลงทุน   \n",
              "689  สำนักงานเขตคลองสามวา              NaN              งบลงทุน   \n",
              "690  สำนักงานเขตคลองสามวา              NaN              งบลงทุน   \n",
              "691     สำนักงานเขตบางบอน              NaN              งบลงทุน   \n",
              "\n",
              "                                     Item_name  Approved_buget  \n",
              "687                         ขุดลอกคลองผักกะเฉด         3686000  \n",
              "688                    ขุดลอกคลองบึงทรายกองดิน         2575000  \n",
              "689                          ขุดลอกลำรางซาฟารี          689000  \n",
              "690                        ขุดลอกลำรางตาจันทร์          464000  \n",
              "691  ขุดลอกคลองบางบอนต่อจากของเดิมถึงคลองนายผล         7578000  "
            ],
            "text/html": [
              "\n",
              "\n",
              "  <div id=\"df-25403316-d412-4d1b-a8a0-3180491faaaf\">\n",
              "    <div class=\"colab-df-container\">\n",
              "      <div>\n",
              "<style scoped>\n",
              "    .dataframe tbody tr th:only-of-type {\n",
              "        vertical-align: middle;\n",
              "    }\n",
              "\n",
              "    .dataframe tbody tr th {\n",
              "        vertical-align: top;\n",
              "    }\n",
              "\n",
              "    .dataframe thead th {\n",
              "        text-align: right;\n",
              "    }\n",
              "</style>\n",
              "<table border=\"1\" class=\"dataframe\">\n",
              "  <thead>\n",
              "    <tr style=\"text-align: right;\">\n",
              "      <th></th>\n",
              "      <th>Budget_resource</th>\n",
              "      <th>Issue_No</th>\n",
              "      <th>Fiscal_year</th>\n",
              "      <th>Department_code</th>\n",
              "      <th>Department</th>\n",
              "      <th>Core_budget_code</th>\n",
              "      <th>Expenditure_category</th>\n",
              "      <th>Item_name</th>\n",
              "      <th>Approved_buget</th>\n",
              "    </tr>\n",
              "  </thead>\n",
              "  <tbody>\n",
              "    <tr>\n",
              "      <th>687</th>\n",
              "      <td>งบเพิ่มเติม</td>\n",
              "      <td>1</td>\n",
              "      <td>66</td>\n",
              "      <td>50460000</td>\n",
              "      <td>สำนักงานเขตคลองสามวา</td>\n",
              "      <td>NaN</td>\n",
              "      <td>งบลงทุน</td>\n",
              "      <td>ขุดลอกคลองผักกะเฉด</td>\n",
              "      <td>3686000</td>\n",
              "    </tr>\n",
              "    <tr>\n",
              "      <th>688</th>\n",
              "      <td>งบเพิ่มเติม</td>\n",
              "      <td>1</td>\n",
              "      <td>66</td>\n",
              "      <td>50460000</td>\n",
              "      <td>สำนักงานเขตคลองสามวา</td>\n",
              "      <td>NaN</td>\n",
              "      <td>งบลงทุน</td>\n",
              "      <td>ขุดลอกคลองบึงทรายกองดิน</td>\n",
              "      <td>2575000</td>\n",
              "    </tr>\n",
              "    <tr>\n",
              "      <th>689</th>\n",
              "      <td>งบเพิ่มเติม</td>\n",
              "      <td>1</td>\n",
              "      <td>66</td>\n",
              "      <td>50460000</td>\n",
              "      <td>สำนักงานเขตคลองสามวา</td>\n",
              "      <td>NaN</td>\n",
              "      <td>งบลงทุน</td>\n",
              "      <td>ขุดลอกลำรางซาฟารี</td>\n",
              "      <td>689000</td>\n",
              "    </tr>\n",
              "    <tr>\n",
              "      <th>690</th>\n",
              "      <td>งบเพิ่มเติม</td>\n",
              "      <td>1</td>\n",
              "      <td>66</td>\n",
              "      <td>50460000</td>\n",
              "      <td>สำนักงานเขตคลองสามวา</td>\n",
              "      <td>NaN</td>\n",
              "      <td>งบลงทุน</td>\n",
              "      <td>ขุดลอกลำรางตาจันทร์</td>\n",
              "      <td>464000</td>\n",
              "    </tr>\n",
              "    <tr>\n",
              "      <th>691</th>\n",
              "      <td>งบเพิ่มเติม</td>\n",
              "      <td>1</td>\n",
              "      <td>66</td>\n",
              "      <td>50500000</td>\n",
              "      <td>สำนักงานเขตบางบอน</td>\n",
              "      <td>NaN</td>\n",
              "      <td>งบลงทุน</td>\n",
              "      <td>ขุดลอกคลองบางบอนต่อจากของเดิมถึงคลองนายผล</td>\n",
              "      <td>7578000</td>\n",
              "    </tr>\n",
              "  </tbody>\n",
              "</table>\n",
              "</div>\n",
              "      <button class=\"colab-df-convert\" onclick=\"convertToInteractive('df-25403316-d412-4d1b-a8a0-3180491faaaf')\"\n",
              "              title=\"Convert this dataframe to an interactive table.\"\n",
              "              style=\"display:none;\">\n",
              "\n",
              "  <svg xmlns=\"http://www.w3.org/2000/svg\" height=\"24px\"viewBox=\"0 0 24 24\"\n",
              "       width=\"24px\">\n",
              "    <path d=\"M0 0h24v24H0V0z\" fill=\"none\"/>\n",
              "    <path d=\"M18.56 5.44l.94 2.06.94-2.06 2.06-.94-2.06-.94-.94-2.06-.94 2.06-2.06.94zm-11 1L8.5 8.5l.94-2.06 2.06-.94-2.06-.94L8.5 2.5l-.94 2.06-2.06.94zm10 10l.94 2.06.94-2.06 2.06-.94-2.06-.94-.94-2.06-.94 2.06-2.06.94z\"/><path d=\"M17.41 7.96l-1.37-1.37c-.4-.4-.92-.59-1.43-.59-.52 0-1.04.2-1.43.59L10.3 9.45l-7.72 7.72c-.78.78-.78 2.05 0 2.83L4 21.41c.39.39.9.59 1.41.59.51 0 1.02-.2 1.41-.59l7.78-7.78 2.81-2.81c.8-.78.8-2.07 0-2.86zM5.41 20L4 18.59l7.72-7.72 1.47 1.35L5.41 20z\"/>\n",
              "  </svg>\n",
              "      </button>\n",
              "\n",
              "\n",
              "\n",
              "    <div id=\"df-40829fed-04f1-4ee8-a1a2-231504a30d07\">\n",
              "      <button class=\"colab-df-quickchart\" onclick=\"quickchart('df-40829fed-04f1-4ee8-a1a2-231504a30d07')\"\n",
              "              title=\"Suggest charts.\"\n",
              "              style=\"display:none;\">\n",
              "\n",
              "<svg xmlns=\"http://www.w3.org/2000/svg\" height=\"24px\"viewBox=\"0 0 24 24\"\n",
              "     width=\"24px\">\n",
              "    <g>\n",
              "        <path d=\"M19 3H5c-1.1 0-2 .9-2 2v14c0 1.1.9 2 2 2h14c1.1 0 2-.9 2-2V5c0-1.1-.9-2-2-2zM9 17H7v-7h2v7zm4 0h-2V7h2v10zm4 0h-2v-4h2v4z\"/>\n",
              "    </g>\n",
              "</svg>\n",
              "      </button>\n",
              "    </div>\n",
              "\n",
              "<style>\n",
              "  .colab-df-quickchart {\n",
              "    background-color: #E8F0FE;\n",
              "    border: none;\n",
              "    border-radius: 50%;\n",
              "    cursor: pointer;\n",
              "    display: none;\n",
              "    fill: #1967D2;\n",
              "    height: 32px;\n",
              "    padding: 0 0 0 0;\n",
              "    width: 32px;\n",
              "  }\n",
              "\n",
              "  .colab-df-quickchart:hover {\n",
              "    background-color: #E2EBFA;\n",
              "    box-shadow: 0px 1px 2px rgba(60, 64, 67, 0.3), 0px 1px 3px 1px rgba(60, 64, 67, 0.15);\n",
              "    fill: #174EA6;\n",
              "  }\n",
              "\n",
              "  [theme=dark] .colab-df-quickchart {\n",
              "    background-color: #3B4455;\n",
              "    fill: #D2E3FC;\n",
              "  }\n",
              "\n",
              "  [theme=dark] .colab-df-quickchart:hover {\n",
              "    background-color: #434B5C;\n",
              "    box-shadow: 0px 1px 3px 1px rgba(0, 0, 0, 0.15);\n",
              "    filter: drop-shadow(0px 1px 2px rgba(0, 0, 0, 0.3));\n",
              "    fill: #FFFFFF;\n",
              "  }\n",
              "</style>\n",
              "\n",
              "    <script>\n",
              "      async function quickchart(key) {\n",
              "        const containerElement = document.querySelector('#' + key);\n",
              "        const charts = await google.colab.kernel.invokeFunction(\n",
              "            'suggestCharts', [key], {});\n",
              "      }\n",
              "    </script>\n",
              "\n",
              "      <script>\n",
              "\n",
              "function displayQuickchartButton(domScope) {\n",
              "  let quickchartButtonEl =\n",
              "    domScope.querySelector('#df-40829fed-04f1-4ee8-a1a2-231504a30d07 button.colab-df-quickchart');\n",
              "  quickchartButtonEl.style.display =\n",
              "    google.colab.kernel.accessAllowed ? 'block' : 'none';\n",
              "}\n",
              "\n",
              "        displayQuickchartButton(document);\n",
              "      </script>\n",
              "      <style>\n",
              "    .colab-df-container {\n",
              "      display:flex;\n",
              "      flex-wrap:wrap;\n",
              "      gap: 12px;\n",
              "    }\n",
              "\n",
              "    .colab-df-convert {\n",
              "      background-color: #E8F0FE;\n",
              "      border: none;\n",
              "      border-radius: 50%;\n",
              "      cursor: pointer;\n",
              "      display: none;\n",
              "      fill: #1967D2;\n",
              "      height: 32px;\n",
              "      padding: 0 0 0 0;\n",
              "      width: 32px;\n",
              "    }\n",
              "\n",
              "    .colab-df-convert:hover {\n",
              "      background-color: #E2EBFA;\n",
              "      box-shadow: 0px 1px 2px rgba(60, 64, 67, 0.3), 0px 1px 3px 1px rgba(60, 64, 67, 0.15);\n",
              "      fill: #174EA6;\n",
              "    }\n",
              "\n",
              "    [theme=dark] .colab-df-convert {\n",
              "      background-color: #3B4455;\n",
              "      fill: #D2E3FC;\n",
              "    }\n",
              "\n",
              "    [theme=dark] .colab-df-convert:hover {\n",
              "      background-color: #434B5C;\n",
              "      box-shadow: 0px 1px 3px 1px rgba(0, 0, 0, 0.15);\n",
              "      filter: drop-shadow(0px 1px 2px rgba(0, 0, 0, 0.3));\n",
              "      fill: #FFFFFF;\n",
              "    }\n",
              "  </style>\n",
              "\n",
              "      <script>\n",
              "        const buttonEl =\n",
              "          document.querySelector('#df-25403316-d412-4d1b-a8a0-3180491faaaf button.colab-df-convert');\n",
              "        buttonEl.style.display =\n",
              "          google.colab.kernel.accessAllowed ? 'block' : 'none';\n",
              "\n",
              "        async function convertToInteractive(key) {\n",
              "          const element = document.querySelector('#df-25403316-d412-4d1b-a8a0-3180491faaaf');\n",
              "          const dataTable =\n",
              "            await google.colab.kernel.invokeFunction('convertToInteractive',\n",
              "                                                     [key], {});\n",
              "          if (!dataTable) return;\n",
              "\n",
              "          const docLinkHtml = 'Like what you see? Visit the ' +\n",
              "            '<a target=\"_blank\" href=https://colab.research.google.com/notebooks/data_table.ipynb>data table notebook</a>'\n",
              "            + ' to learn more about interactive tables.';\n",
              "          element.innerHTML = '';\n",
              "          dataTable['output_type'] = 'display_data';\n",
              "          await google.colab.output.renderOutput(dataTable, element);\n",
              "          const docLink = document.createElement('div');\n",
              "          docLink.innerHTML = docLinkHtml;\n",
              "          element.appendChild(docLink);\n",
              "        }\n",
              "      </script>\n",
              "    </div>\n",
              "  </div>\n"
            ]
          },
          "metadata": {},
          "execution_count": 22
        }
      ]
    },
    {
      "cell_type": "code",
      "source": [
        "small_df[[False,True,True,False,False]]"
      ],
      "metadata": {
        "colab": {
          "base_uri": "https://localhost:8080/",
          "height": 226
        },
        "id": "top2q9_w7Q9g",
        "outputId": "db907577-9a4b-4ee5-8f5b-e3c6175ee553"
      },
      "execution_count": 23,
      "outputs": [
        {
          "output_type": "execute_result",
          "data": {
            "text/plain": [
              "    Budget_resource  Issue_No  Fiscal_year  Department_code  \\\n",
              "688     งบเพิ่มเติม         1           66         50460000   \n",
              "689     งบเพิ่มเติม         1           66         50460000   \n",
              "\n",
              "               Department Core_budget_code Expenditure_category  \\\n",
              "688  สำนักงานเขตคลองสามวา              NaN              งบลงทุน   \n",
              "689  สำนักงานเขตคลองสามวา              NaN              งบลงทุน   \n",
              "\n",
              "                   Item_name  Approved_buget  \n",
              "688  ขุดลอกคลองบึงทรายกองดิน         2575000  \n",
              "689        ขุดลอกลำรางซาฟารี          689000  "
            ],
            "text/html": [
              "\n",
              "\n",
              "  <div id=\"df-9937cf50-6300-42e8-b861-b0d325bc02e6\">\n",
              "    <div class=\"colab-df-container\">\n",
              "      <div>\n",
              "<style scoped>\n",
              "    .dataframe tbody tr th:only-of-type {\n",
              "        vertical-align: middle;\n",
              "    }\n",
              "\n",
              "    .dataframe tbody tr th {\n",
              "        vertical-align: top;\n",
              "    }\n",
              "\n",
              "    .dataframe thead th {\n",
              "        text-align: right;\n",
              "    }\n",
              "</style>\n",
              "<table border=\"1\" class=\"dataframe\">\n",
              "  <thead>\n",
              "    <tr style=\"text-align: right;\">\n",
              "      <th></th>\n",
              "      <th>Budget_resource</th>\n",
              "      <th>Issue_No</th>\n",
              "      <th>Fiscal_year</th>\n",
              "      <th>Department_code</th>\n",
              "      <th>Department</th>\n",
              "      <th>Core_budget_code</th>\n",
              "      <th>Expenditure_category</th>\n",
              "      <th>Item_name</th>\n",
              "      <th>Approved_buget</th>\n",
              "    </tr>\n",
              "  </thead>\n",
              "  <tbody>\n",
              "    <tr>\n",
              "      <th>688</th>\n",
              "      <td>งบเพิ่มเติม</td>\n",
              "      <td>1</td>\n",
              "      <td>66</td>\n",
              "      <td>50460000</td>\n",
              "      <td>สำนักงานเขตคลองสามวา</td>\n",
              "      <td>NaN</td>\n",
              "      <td>งบลงทุน</td>\n",
              "      <td>ขุดลอกคลองบึงทรายกองดิน</td>\n",
              "      <td>2575000</td>\n",
              "    </tr>\n",
              "    <tr>\n",
              "      <th>689</th>\n",
              "      <td>งบเพิ่มเติม</td>\n",
              "      <td>1</td>\n",
              "      <td>66</td>\n",
              "      <td>50460000</td>\n",
              "      <td>สำนักงานเขตคลองสามวา</td>\n",
              "      <td>NaN</td>\n",
              "      <td>งบลงทุน</td>\n",
              "      <td>ขุดลอกลำรางซาฟารี</td>\n",
              "      <td>689000</td>\n",
              "    </tr>\n",
              "  </tbody>\n",
              "</table>\n",
              "</div>\n",
              "      <button class=\"colab-df-convert\" onclick=\"convertToInteractive('df-9937cf50-6300-42e8-b861-b0d325bc02e6')\"\n",
              "              title=\"Convert this dataframe to an interactive table.\"\n",
              "              style=\"display:none;\">\n",
              "\n",
              "  <svg xmlns=\"http://www.w3.org/2000/svg\" height=\"24px\"viewBox=\"0 0 24 24\"\n",
              "       width=\"24px\">\n",
              "    <path d=\"M0 0h24v24H0V0z\" fill=\"none\"/>\n",
              "    <path d=\"M18.56 5.44l.94 2.06.94-2.06 2.06-.94-2.06-.94-.94-2.06-.94 2.06-2.06.94zm-11 1L8.5 8.5l.94-2.06 2.06-.94-2.06-.94L8.5 2.5l-.94 2.06-2.06.94zm10 10l.94 2.06.94-2.06 2.06-.94-2.06-.94-.94-2.06-.94 2.06-2.06.94z\"/><path d=\"M17.41 7.96l-1.37-1.37c-.4-.4-.92-.59-1.43-.59-.52 0-1.04.2-1.43.59L10.3 9.45l-7.72 7.72c-.78.78-.78 2.05 0 2.83L4 21.41c.39.39.9.59 1.41.59.51 0 1.02-.2 1.41-.59l7.78-7.78 2.81-2.81c.8-.78.8-2.07 0-2.86zM5.41 20L4 18.59l7.72-7.72 1.47 1.35L5.41 20z\"/>\n",
              "  </svg>\n",
              "      </button>\n",
              "\n",
              "\n",
              "\n",
              "    <div id=\"df-998777a2-89c1-4df7-8af3-e50c3b8d098f\">\n",
              "      <button class=\"colab-df-quickchart\" onclick=\"quickchart('df-998777a2-89c1-4df7-8af3-e50c3b8d098f')\"\n",
              "              title=\"Suggest charts.\"\n",
              "              style=\"display:none;\">\n",
              "\n",
              "<svg xmlns=\"http://www.w3.org/2000/svg\" height=\"24px\"viewBox=\"0 0 24 24\"\n",
              "     width=\"24px\">\n",
              "    <g>\n",
              "        <path d=\"M19 3H5c-1.1 0-2 .9-2 2v14c0 1.1.9 2 2 2h14c1.1 0 2-.9 2-2V5c0-1.1-.9-2-2-2zM9 17H7v-7h2v7zm4 0h-2V7h2v10zm4 0h-2v-4h2v4z\"/>\n",
              "    </g>\n",
              "</svg>\n",
              "      </button>\n",
              "    </div>\n",
              "\n",
              "<style>\n",
              "  .colab-df-quickchart {\n",
              "    background-color: #E8F0FE;\n",
              "    border: none;\n",
              "    border-radius: 50%;\n",
              "    cursor: pointer;\n",
              "    display: none;\n",
              "    fill: #1967D2;\n",
              "    height: 32px;\n",
              "    padding: 0 0 0 0;\n",
              "    width: 32px;\n",
              "  }\n",
              "\n",
              "  .colab-df-quickchart:hover {\n",
              "    background-color: #E2EBFA;\n",
              "    box-shadow: 0px 1px 2px rgba(60, 64, 67, 0.3), 0px 1px 3px 1px rgba(60, 64, 67, 0.15);\n",
              "    fill: #174EA6;\n",
              "  }\n",
              "\n",
              "  [theme=dark] .colab-df-quickchart {\n",
              "    background-color: #3B4455;\n",
              "    fill: #D2E3FC;\n",
              "  }\n",
              "\n",
              "  [theme=dark] .colab-df-quickchart:hover {\n",
              "    background-color: #434B5C;\n",
              "    box-shadow: 0px 1px 3px 1px rgba(0, 0, 0, 0.15);\n",
              "    filter: drop-shadow(0px 1px 2px rgba(0, 0, 0, 0.3));\n",
              "    fill: #FFFFFF;\n",
              "  }\n",
              "</style>\n",
              "\n",
              "    <script>\n",
              "      async function quickchart(key) {\n",
              "        const containerElement = document.querySelector('#' + key);\n",
              "        const charts = await google.colab.kernel.invokeFunction(\n",
              "            'suggestCharts', [key], {});\n",
              "      }\n",
              "    </script>\n",
              "\n",
              "      <script>\n",
              "\n",
              "function displayQuickchartButton(domScope) {\n",
              "  let quickchartButtonEl =\n",
              "    domScope.querySelector('#df-998777a2-89c1-4df7-8af3-e50c3b8d098f button.colab-df-quickchart');\n",
              "  quickchartButtonEl.style.display =\n",
              "    google.colab.kernel.accessAllowed ? 'block' : 'none';\n",
              "}\n",
              "\n",
              "        displayQuickchartButton(document);\n",
              "      </script>\n",
              "      <style>\n",
              "    .colab-df-container {\n",
              "      display:flex;\n",
              "      flex-wrap:wrap;\n",
              "      gap: 12px;\n",
              "    }\n",
              "\n",
              "    .colab-df-convert {\n",
              "      background-color: #E8F0FE;\n",
              "      border: none;\n",
              "      border-radius: 50%;\n",
              "      cursor: pointer;\n",
              "      display: none;\n",
              "      fill: #1967D2;\n",
              "      height: 32px;\n",
              "      padding: 0 0 0 0;\n",
              "      width: 32px;\n",
              "    }\n",
              "\n",
              "    .colab-df-convert:hover {\n",
              "      background-color: #E2EBFA;\n",
              "      box-shadow: 0px 1px 2px rgba(60, 64, 67, 0.3), 0px 1px 3px 1px rgba(60, 64, 67, 0.15);\n",
              "      fill: #174EA6;\n",
              "    }\n",
              "\n",
              "    [theme=dark] .colab-df-convert {\n",
              "      background-color: #3B4455;\n",
              "      fill: #D2E3FC;\n",
              "    }\n",
              "\n",
              "    [theme=dark] .colab-df-convert:hover {\n",
              "      background-color: #434B5C;\n",
              "      box-shadow: 0px 1px 3px 1px rgba(0, 0, 0, 0.15);\n",
              "      filter: drop-shadow(0px 1px 2px rgba(0, 0, 0, 0.3));\n",
              "      fill: #FFFFFF;\n",
              "    }\n",
              "  </style>\n",
              "\n",
              "      <script>\n",
              "        const buttonEl =\n",
              "          document.querySelector('#df-9937cf50-6300-42e8-b861-b0d325bc02e6 button.colab-df-convert');\n",
              "        buttonEl.style.display =\n",
              "          google.colab.kernel.accessAllowed ? 'block' : 'none';\n",
              "\n",
              "        async function convertToInteractive(key) {\n",
              "          const element = document.querySelector('#df-9937cf50-6300-42e8-b861-b0d325bc02e6');\n",
              "          const dataTable =\n",
              "            await google.colab.kernel.invokeFunction('convertToInteractive',\n",
              "                                                     [key], {});\n",
              "          if (!dataTable) return;\n",
              "\n",
              "          const docLinkHtml = 'Like what you see? Visit the ' +\n",
              "            '<a target=\"_blank\" href=https://colab.research.google.com/notebooks/data_table.ipynb>data table notebook</a>'\n",
              "            + ' to learn more about interactive tables.';\n",
              "          element.innerHTML = '';\n",
              "          dataTable['output_type'] = 'display_data';\n",
              "          await google.colab.output.renderOutput(dataTable, element);\n",
              "          const docLink = document.createElement('div');\n",
              "          docLink.innerHTML = docLinkHtml;\n",
              "          element.appendChild(docLink);\n",
              "        }\n",
              "      </script>\n",
              "    </div>\n",
              "  </div>\n"
            ]
          },
          "metadata": {},
          "execution_count": 23
        }
      ]
    },
    {
      "cell_type": "markdown",
      "source": [
        "##ปั้น list of logics จากตาราง Pandas"
      ],
      "metadata": {
        "id": "c8a5LQtq8GKf"
      }
    },
    {
      "cell_type": "code",
      "source": [
        "small_df['Approved_buget']< 1000000"
      ],
      "metadata": {
        "colab": {
          "base_uri": "https://localhost:8080/"
        },
        "id": "B9MTZsSu8XIZ",
        "outputId": "e3b4ceca-1a84-409e-8e5c-658a256659af"
      },
      "execution_count": 24,
      "outputs": [
        {
          "output_type": "execute_result",
          "data": {
            "text/plain": [
              "687    False\n",
              "688    False\n",
              "689     True\n",
              "690     True\n",
              "691    False\n",
              "Name: Approved_buget, dtype: bool"
            ]
          },
          "metadata": {},
          "execution_count": 24
        }
      ]
    },
    {
      "cell_type": "code",
      "source": [
        "small_df[small_df['Approved_buget']> 1000000]"
      ],
      "metadata": {
        "colab": {
          "base_uri": "https://localhost:8080/",
          "height": 325
        },
        "id": "Cjkbq-8U8yf5",
        "outputId": "80e083ef-bd75-4d91-c99c-88d7be57ff0c"
      },
      "execution_count": 25,
      "outputs": [
        {
          "output_type": "execute_result",
          "data": {
            "text/plain": [
              "    Budget_resource  Issue_No  Fiscal_year  Department_code  \\\n",
              "687     งบเพิ่มเติม         1           66         50460000   \n",
              "688     งบเพิ่มเติม         1           66         50460000   \n",
              "691     งบเพิ่มเติม         1           66         50500000   \n",
              "\n",
              "               Department Core_budget_code Expenditure_category  \\\n",
              "687  สำนักงานเขตคลองสามวา              NaN              งบลงทุน   \n",
              "688  สำนักงานเขตคลองสามวา              NaN              งบลงทุน   \n",
              "691     สำนักงานเขตบางบอน              NaN              งบลงทุน   \n",
              "\n",
              "                                     Item_name  Approved_buget  \n",
              "687                         ขุดลอกคลองผักกะเฉด         3686000  \n",
              "688                    ขุดลอกคลองบึงทรายกองดิน         2575000  \n",
              "691  ขุดลอกคลองบางบอนต่อจากของเดิมถึงคลองนายผล         7578000  "
            ],
            "text/html": [
              "\n",
              "\n",
              "  <div id=\"df-9b4eaebd-d24c-4a67-96b1-d62c4b764e75\">\n",
              "    <div class=\"colab-df-container\">\n",
              "      <div>\n",
              "<style scoped>\n",
              "    .dataframe tbody tr th:only-of-type {\n",
              "        vertical-align: middle;\n",
              "    }\n",
              "\n",
              "    .dataframe tbody tr th {\n",
              "        vertical-align: top;\n",
              "    }\n",
              "\n",
              "    .dataframe thead th {\n",
              "        text-align: right;\n",
              "    }\n",
              "</style>\n",
              "<table border=\"1\" class=\"dataframe\">\n",
              "  <thead>\n",
              "    <tr style=\"text-align: right;\">\n",
              "      <th></th>\n",
              "      <th>Budget_resource</th>\n",
              "      <th>Issue_No</th>\n",
              "      <th>Fiscal_year</th>\n",
              "      <th>Department_code</th>\n",
              "      <th>Department</th>\n",
              "      <th>Core_budget_code</th>\n",
              "      <th>Expenditure_category</th>\n",
              "      <th>Item_name</th>\n",
              "      <th>Approved_buget</th>\n",
              "    </tr>\n",
              "  </thead>\n",
              "  <tbody>\n",
              "    <tr>\n",
              "      <th>687</th>\n",
              "      <td>งบเพิ่มเติม</td>\n",
              "      <td>1</td>\n",
              "      <td>66</td>\n",
              "      <td>50460000</td>\n",
              "      <td>สำนักงานเขตคลองสามวา</td>\n",
              "      <td>NaN</td>\n",
              "      <td>งบลงทุน</td>\n",
              "      <td>ขุดลอกคลองผักกะเฉด</td>\n",
              "      <td>3686000</td>\n",
              "    </tr>\n",
              "    <tr>\n",
              "      <th>688</th>\n",
              "      <td>งบเพิ่มเติม</td>\n",
              "      <td>1</td>\n",
              "      <td>66</td>\n",
              "      <td>50460000</td>\n",
              "      <td>สำนักงานเขตคลองสามวา</td>\n",
              "      <td>NaN</td>\n",
              "      <td>งบลงทุน</td>\n",
              "      <td>ขุดลอกคลองบึงทรายกองดิน</td>\n",
              "      <td>2575000</td>\n",
              "    </tr>\n",
              "    <tr>\n",
              "      <th>691</th>\n",
              "      <td>งบเพิ่มเติม</td>\n",
              "      <td>1</td>\n",
              "      <td>66</td>\n",
              "      <td>50500000</td>\n",
              "      <td>สำนักงานเขตบางบอน</td>\n",
              "      <td>NaN</td>\n",
              "      <td>งบลงทุน</td>\n",
              "      <td>ขุดลอกคลองบางบอนต่อจากของเดิมถึงคลองนายผล</td>\n",
              "      <td>7578000</td>\n",
              "    </tr>\n",
              "  </tbody>\n",
              "</table>\n",
              "</div>\n",
              "      <button class=\"colab-df-convert\" onclick=\"convertToInteractive('df-9b4eaebd-d24c-4a67-96b1-d62c4b764e75')\"\n",
              "              title=\"Convert this dataframe to an interactive table.\"\n",
              "              style=\"display:none;\">\n",
              "\n",
              "  <svg xmlns=\"http://www.w3.org/2000/svg\" height=\"24px\"viewBox=\"0 0 24 24\"\n",
              "       width=\"24px\">\n",
              "    <path d=\"M0 0h24v24H0V0z\" fill=\"none\"/>\n",
              "    <path d=\"M18.56 5.44l.94 2.06.94-2.06 2.06-.94-2.06-.94-.94-2.06-.94 2.06-2.06.94zm-11 1L8.5 8.5l.94-2.06 2.06-.94-2.06-.94L8.5 2.5l-.94 2.06-2.06.94zm10 10l.94 2.06.94-2.06 2.06-.94-2.06-.94-.94-2.06-.94 2.06-2.06.94z\"/><path d=\"M17.41 7.96l-1.37-1.37c-.4-.4-.92-.59-1.43-.59-.52 0-1.04.2-1.43.59L10.3 9.45l-7.72 7.72c-.78.78-.78 2.05 0 2.83L4 21.41c.39.39.9.59 1.41.59.51 0 1.02-.2 1.41-.59l7.78-7.78 2.81-2.81c.8-.78.8-2.07 0-2.86zM5.41 20L4 18.59l7.72-7.72 1.47 1.35L5.41 20z\"/>\n",
              "  </svg>\n",
              "      </button>\n",
              "\n",
              "\n",
              "\n",
              "    <div id=\"df-16d4bb14-1ffe-464b-9a0e-bccbaa5f1b15\">\n",
              "      <button class=\"colab-df-quickchart\" onclick=\"quickchart('df-16d4bb14-1ffe-464b-9a0e-bccbaa5f1b15')\"\n",
              "              title=\"Suggest charts.\"\n",
              "              style=\"display:none;\">\n",
              "\n",
              "<svg xmlns=\"http://www.w3.org/2000/svg\" height=\"24px\"viewBox=\"0 0 24 24\"\n",
              "     width=\"24px\">\n",
              "    <g>\n",
              "        <path d=\"M19 3H5c-1.1 0-2 .9-2 2v14c0 1.1.9 2 2 2h14c1.1 0 2-.9 2-2V5c0-1.1-.9-2-2-2zM9 17H7v-7h2v7zm4 0h-2V7h2v10zm4 0h-2v-4h2v4z\"/>\n",
              "    </g>\n",
              "</svg>\n",
              "      </button>\n",
              "    </div>\n",
              "\n",
              "<style>\n",
              "  .colab-df-quickchart {\n",
              "    background-color: #E8F0FE;\n",
              "    border: none;\n",
              "    border-radius: 50%;\n",
              "    cursor: pointer;\n",
              "    display: none;\n",
              "    fill: #1967D2;\n",
              "    height: 32px;\n",
              "    padding: 0 0 0 0;\n",
              "    width: 32px;\n",
              "  }\n",
              "\n",
              "  .colab-df-quickchart:hover {\n",
              "    background-color: #E2EBFA;\n",
              "    box-shadow: 0px 1px 2px rgba(60, 64, 67, 0.3), 0px 1px 3px 1px rgba(60, 64, 67, 0.15);\n",
              "    fill: #174EA6;\n",
              "  }\n",
              "\n",
              "  [theme=dark] .colab-df-quickchart {\n",
              "    background-color: #3B4455;\n",
              "    fill: #D2E3FC;\n",
              "  }\n",
              "\n",
              "  [theme=dark] .colab-df-quickchart:hover {\n",
              "    background-color: #434B5C;\n",
              "    box-shadow: 0px 1px 3px 1px rgba(0, 0, 0, 0.15);\n",
              "    filter: drop-shadow(0px 1px 2px rgba(0, 0, 0, 0.3));\n",
              "    fill: #FFFFFF;\n",
              "  }\n",
              "</style>\n",
              "\n",
              "    <script>\n",
              "      async function quickchart(key) {\n",
              "        const containerElement = document.querySelector('#' + key);\n",
              "        const charts = await google.colab.kernel.invokeFunction(\n",
              "            'suggestCharts', [key], {});\n",
              "      }\n",
              "    </script>\n",
              "\n",
              "      <script>\n",
              "\n",
              "function displayQuickchartButton(domScope) {\n",
              "  let quickchartButtonEl =\n",
              "    domScope.querySelector('#df-16d4bb14-1ffe-464b-9a0e-bccbaa5f1b15 button.colab-df-quickchart');\n",
              "  quickchartButtonEl.style.display =\n",
              "    google.colab.kernel.accessAllowed ? 'block' : 'none';\n",
              "}\n",
              "\n",
              "        displayQuickchartButton(document);\n",
              "      </script>\n",
              "      <style>\n",
              "    .colab-df-container {\n",
              "      display:flex;\n",
              "      flex-wrap:wrap;\n",
              "      gap: 12px;\n",
              "    }\n",
              "\n",
              "    .colab-df-convert {\n",
              "      background-color: #E8F0FE;\n",
              "      border: none;\n",
              "      border-radius: 50%;\n",
              "      cursor: pointer;\n",
              "      display: none;\n",
              "      fill: #1967D2;\n",
              "      height: 32px;\n",
              "      padding: 0 0 0 0;\n",
              "      width: 32px;\n",
              "    }\n",
              "\n",
              "    .colab-df-convert:hover {\n",
              "      background-color: #E2EBFA;\n",
              "      box-shadow: 0px 1px 2px rgba(60, 64, 67, 0.3), 0px 1px 3px 1px rgba(60, 64, 67, 0.15);\n",
              "      fill: #174EA6;\n",
              "    }\n",
              "\n",
              "    [theme=dark] .colab-df-convert {\n",
              "      background-color: #3B4455;\n",
              "      fill: #D2E3FC;\n",
              "    }\n",
              "\n",
              "    [theme=dark] .colab-df-convert:hover {\n",
              "      background-color: #434B5C;\n",
              "      box-shadow: 0px 1px 3px 1px rgba(0, 0, 0, 0.15);\n",
              "      filter: drop-shadow(0px 1px 2px rgba(0, 0, 0, 0.3));\n",
              "      fill: #FFFFFF;\n",
              "    }\n",
              "  </style>\n",
              "\n",
              "      <script>\n",
              "        const buttonEl =\n",
              "          document.querySelector('#df-9b4eaebd-d24c-4a67-96b1-d62c4b764e75 button.colab-df-convert');\n",
              "        buttonEl.style.display =\n",
              "          google.colab.kernel.accessAllowed ? 'block' : 'none';\n",
              "\n",
              "        async function convertToInteractive(key) {\n",
              "          const element = document.querySelector('#df-9b4eaebd-d24c-4a67-96b1-d62c4b764e75');\n",
              "          const dataTable =\n",
              "            await google.colab.kernel.invokeFunction('convertToInteractive',\n",
              "                                                     [key], {});\n",
              "          if (!dataTable) return;\n",
              "\n",
              "          const docLinkHtml = 'Like what you see? Visit the ' +\n",
              "            '<a target=\"_blank\" href=https://colab.research.google.com/notebooks/data_table.ipynb>data table notebook</a>'\n",
              "            + ' to learn more about interactive tables.';\n",
              "          element.innerHTML = '';\n",
              "          dataTable['output_type'] = 'display_data';\n",
              "          await google.colab.output.renderOutput(dataTable, element);\n",
              "          const docLink = document.createElement('div');\n",
              "          docLink.innerHTML = docLinkHtml;\n",
              "          element.appendChild(docLink);\n",
              "        }\n",
              "      </script>\n",
              "    </div>\n",
              "  </div>\n"
            ]
          },
          "metadata": {},
          "execution_count": 25
        }
      ]
    },
    {
      "cell_type": "markdown",
      "source": [
        "### Quiz3 อยากได้รายการที่ได้รับอนุมัติงบมากกว่า 1 ล้านบาท แต่ไม่เกิน 2 ล้าน"
      ],
      "metadata": {
        "id": "G0HKth519T9A"
      }
    },
    {
      "cell_type": "code",
      "source": [
        "small_df2 = data1.iloc[1:691]\n",
        "small_df2"
      ],
      "metadata": {
        "colab": {
          "base_uri": "https://localhost:8080/",
          "height": 823
        },
        "id": "vIfXCqFi_aM7",
        "outputId": "d5030f10-34bd-4371-b93f-8e9e738b9303"
      },
      "execution_count": 26,
      "outputs": [
        {
          "output_type": "execute_result",
          "data": {
            "text/plain": [
              "    Budget_resource  Issue_No  Fiscal_year  Department_code  \\\n",
              "1         งบประจำปี         0           62         11000000   \n",
              "2         งบประจำปี         0           62         11000000   \n",
              "3         งบประจำปี         0           62         11000000   \n",
              "4         งบประจำปี         0           62         11000000   \n",
              "5         งบประจำปี         0           62         11000000   \n",
              "..              ...       ...          ...              ...   \n",
              "686     งบเพิ่มเติม         1           66         50460000   \n",
              "687     งบเพิ่มเติม         1           66         50460000   \n",
              "688     งบเพิ่มเติม         1           66         50460000   \n",
              "689     งบเพิ่มเติม         1           66         50460000   \n",
              "690     งบเพิ่มเติม         1           66         50460000   \n",
              "\n",
              "               Department                                   Core_budget_code  \\\n",
              "1        สำนักการระบายน้ำ  12-เงินสำรองจ่ายทั่วไป กรณีค่าใช้จ่ายต่างๆ เกี...   \n",
              "2        สำนักการระบายน้ำ  12-เงินสำรองจ่ายทั่วไป กรณีค่าใช้จ่ายต่างๆ เกี...   \n",
              "3        สำนักการระบายน้ำ  12-เงินสำรองจ่ายทั่วไป กรณีค่าใช้จ่ายต่างๆ เกี...   \n",
              "4        สำนักการระบายน้ำ  12-เงินสำรองจ่ายทั่วไป กรณีค่าใช้จ่ายต่างๆ เกี...   \n",
              "5        สำนักการระบายน้ำ  12-เงินสำรองจ่ายทั่วไป กรณีค่าใช้จ่ายต่างๆ เกี...   \n",
              "..                    ...                                                ...   \n",
              "686  สำนักงานเขตคลองสามวา                                                NaN   \n",
              "687  สำนักงานเขตคลองสามวา                                                NaN   \n",
              "688  สำนักงานเขตคลองสามวา                                                NaN   \n",
              "689  สำนักงานเขตคลองสามวา                                                NaN   \n",
              "690  สำนักงานเขตคลองสามวา                                                NaN   \n",
              "\n",
              "    Expenditure_category                                          Item_name  \\\n",
              "1                งบลงทุน  ขุดลอกคลองทรงกระเทียมจากคลองลาดพร้าวถึงถนนโชคช...   \n",
              "2                งบลงทุน          ขุดลอกคลองเป้งจากคลองแสนแสบถึงซอยเจริญสุข   \n",
              "3                งบลงทุน  ขุดลอกคลองลำพังพวยจากถนนศรีบูรพาถึงสถานีสูบน้ำ...   \n",
              "4                งบลงทุน  ขุดลอกบึงรางเข้จากคลองพระยาราชมนตรีถึงถนนบางขุ...   \n",
              "5                งบลงทุน  ขุดลอกคลองราษฎร์สามัคคีจากคลองทวีวัฒนาถึงคลองม...   \n",
              "..                   ...                                                ...   \n",
              "686              งบลงทุน                                 ขุดลอกคลองลำกะโหลก   \n",
              "687              งบลงทุน                                 ขุดลอกคลองผักกะเฉด   \n",
              "688              งบลงทุน                            ขุดลอกคลองบึงทรายกองดิน   \n",
              "689              งบลงทุน                                  ขุดลอกลำรางซาฟารี   \n",
              "690              งบลงทุน                                ขุดลอกลำรางตาจันทร์   \n",
              "\n",
              "     Approved_buget  \n",
              "1           1100000  \n",
              "2           3075000  \n",
              "3           6240000  \n",
              "4           2685000  \n",
              "5           1207000  \n",
              "..              ...  \n",
              "686         3875000  \n",
              "687         3686000  \n",
              "688         2575000  \n",
              "689          689000  \n",
              "690          464000  \n",
              "\n",
              "[690 rows x 9 columns]"
            ],
            "text/html": [
              "\n",
              "\n",
              "  <div id=\"df-479cf26d-ecd3-48e0-8172-058615fb1306\">\n",
              "    <div class=\"colab-df-container\">\n",
              "      <div>\n",
              "<style scoped>\n",
              "    .dataframe tbody tr th:only-of-type {\n",
              "        vertical-align: middle;\n",
              "    }\n",
              "\n",
              "    .dataframe tbody tr th {\n",
              "        vertical-align: top;\n",
              "    }\n",
              "\n",
              "    .dataframe thead th {\n",
              "        text-align: right;\n",
              "    }\n",
              "</style>\n",
              "<table border=\"1\" class=\"dataframe\">\n",
              "  <thead>\n",
              "    <tr style=\"text-align: right;\">\n",
              "      <th></th>\n",
              "      <th>Budget_resource</th>\n",
              "      <th>Issue_No</th>\n",
              "      <th>Fiscal_year</th>\n",
              "      <th>Department_code</th>\n",
              "      <th>Department</th>\n",
              "      <th>Core_budget_code</th>\n",
              "      <th>Expenditure_category</th>\n",
              "      <th>Item_name</th>\n",
              "      <th>Approved_buget</th>\n",
              "    </tr>\n",
              "  </thead>\n",
              "  <tbody>\n",
              "    <tr>\n",
              "      <th>1</th>\n",
              "      <td>งบประจำปี</td>\n",
              "      <td>0</td>\n",
              "      <td>62</td>\n",
              "      <td>11000000</td>\n",
              "      <td>สำนักการระบายน้ำ</td>\n",
              "      <td>12-เงินสำรองจ่ายทั่วไป กรณีค่าใช้จ่ายต่างๆ เกี...</td>\n",
              "      <td>งบลงทุน</td>\n",
              "      <td>ขุดลอกคลองทรงกระเทียมจากคลองลาดพร้าวถึงถนนโชคช...</td>\n",
              "      <td>1100000</td>\n",
              "    </tr>\n",
              "    <tr>\n",
              "      <th>2</th>\n",
              "      <td>งบประจำปี</td>\n",
              "      <td>0</td>\n",
              "      <td>62</td>\n",
              "      <td>11000000</td>\n",
              "      <td>สำนักการระบายน้ำ</td>\n",
              "      <td>12-เงินสำรองจ่ายทั่วไป กรณีค่าใช้จ่ายต่างๆ เกี...</td>\n",
              "      <td>งบลงทุน</td>\n",
              "      <td>ขุดลอกคลองเป้งจากคลองแสนแสบถึงซอยเจริญสุข</td>\n",
              "      <td>3075000</td>\n",
              "    </tr>\n",
              "    <tr>\n",
              "      <th>3</th>\n",
              "      <td>งบประจำปี</td>\n",
              "      <td>0</td>\n",
              "      <td>62</td>\n",
              "      <td>11000000</td>\n",
              "      <td>สำนักการระบายน้ำ</td>\n",
              "      <td>12-เงินสำรองจ่ายทั่วไป กรณีค่าใช้จ่ายต่างๆ เกี...</td>\n",
              "      <td>งบลงทุน</td>\n",
              "      <td>ขุดลอกคลองลำพังพวยจากถนนศรีบูรพาถึงสถานีสูบน้ำ...</td>\n",
              "      <td>6240000</td>\n",
              "    </tr>\n",
              "    <tr>\n",
              "      <th>4</th>\n",
              "      <td>งบประจำปี</td>\n",
              "      <td>0</td>\n",
              "      <td>62</td>\n",
              "      <td>11000000</td>\n",
              "      <td>สำนักการระบายน้ำ</td>\n",
              "      <td>12-เงินสำรองจ่ายทั่วไป กรณีค่าใช้จ่ายต่างๆ เกี...</td>\n",
              "      <td>งบลงทุน</td>\n",
              "      <td>ขุดลอกบึงรางเข้จากคลองพระยาราชมนตรีถึงถนนบางขุ...</td>\n",
              "      <td>2685000</td>\n",
              "    </tr>\n",
              "    <tr>\n",
              "      <th>5</th>\n",
              "      <td>งบประจำปี</td>\n",
              "      <td>0</td>\n",
              "      <td>62</td>\n",
              "      <td>11000000</td>\n",
              "      <td>สำนักการระบายน้ำ</td>\n",
              "      <td>12-เงินสำรองจ่ายทั่วไป กรณีค่าใช้จ่ายต่างๆ เกี...</td>\n",
              "      <td>งบลงทุน</td>\n",
              "      <td>ขุดลอกคลองราษฎร์สามัคคีจากคลองทวีวัฒนาถึงคลองม...</td>\n",
              "      <td>1207000</td>\n",
              "    </tr>\n",
              "    <tr>\n",
              "      <th>...</th>\n",
              "      <td>...</td>\n",
              "      <td>...</td>\n",
              "      <td>...</td>\n",
              "      <td>...</td>\n",
              "      <td>...</td>\n",
              "      <td>...</td>\n",
              "      <td>...</td>\n",
              "      <td>...</td>\n",
              "      <td>...</td>\n",
              "    </tr>\n",
              "    <tr>\n",
              "      <th>686</th>\n",
              "      <td>งบเพิ่มเติม</td>\n",
              "      <td>1</td>\n",
              "      <td>66</td>\n",
              "      <td>50460000</td>\n",
              "      <td>สำนักงานเขตคลองสามวา</td>\n",
              "      <td>NaN</td>\n",
              "      <td>งบลงทุน</td>\n",
              "      <td>ขุดลอกคลองลำกะโหลก</td>\n",
              "      <td>3875000</td>\n",
              "    </tr>\n",
              "    <tr>\n",
              "      <th>687</th>\n",
              "      <td>งบเพิ่มเติม</td>\n",
              "      <td>1</td>\n",
              "      <td>66</td>\n",
              "      <td>50460000</td>\n",
              "      <td>สำนักงานเขตคลองสามวา</td>\n",
              "      <td>NaN</td>\n",
              "      <td>งบลงทุน</td>\n",
              "      <td>ขุดลอกคลองผักกะเฉด</td>\n",
              "      <td>3686000</td>\n",
              "    </tr>\n",
              "    <tr>\n",
              "      <th>688</th>\n",
              "      <td>งบเพิ่มเติม</td>\n",
              "      <td>1</td>\n",
              "      <td>66</td>\n",
              "      <td>50460000</td>\n",
              "      <td>สำนักงานเขตคลองสามวา</td>\n",
              "      <td>NaN</td>\n",
              "      <td>งบลงทุน</td>\n",
              "      <td>ขุดลอกคลองบึงทรายกองดิน</td>\n",
              "      <td>2575000</td>\n",
              "    </tr>\n",
              "    <tr>\n",
              "      <th>689</th>\n",
              "      <td>งบเพิ่มเติม</td>\n",
              "      <td>1</td>\n",
              "      <td>66</td>\n",
              "      <td>50460000</td>\n",
              "      <td>สำนักงานเขตคลองสามวา</td>\n",
              "      <td>NaN</td>\n",
              "      <td>งบลงทุน</td>\n",
              "      <td>ขุดลอกลำรางซาฟารี</td>\n",
              "      <td>689000</td>\n",
              "    </tr>\n",
              "    <tr>\n",
              "      <th>690</th>\n",
              "      <td>งบเพิ่มเติม</td>\n",
              "      <td>1</td>\n",
              "      <td>66</td>\n",
              "      <td>50460000</td>\n",
              "      <td>สำนักงานเขตคลองสามวา</td>\n",
              "      <td>NaN</td>\n",
              "      <td>งบลงทุน</td>\n",
              "      <td>ขุดลอกลำรางตาจันทร์</td>\n",
              "      <td>464000</td>\n",
              "    </tr>\n",
              "  </tbody>\n",
              "</table>\n",
              "<p>690 rows × 9 columns</p>\n",
              "</div>\n",
              "      <button class=\"colab-df-convert\" onclick=\"convertToInteractive('df-479cf26d-ecd3-48e0-8172-058615fb1306')\"\n",
              "              title=\"Convert this dataframe to an interactive table.\"\n",
              "              style=\"display:none;\">\n",
              "\n",
              "  <svg xmlns=\"http://www.w3.org/2000/svg\" height=\"24px\"viewBox=\"0 0 24 24\"\n",
              "       width=\"24px\">\n",
              "    <path d=\"M0 0h24v24H0V0z\" fill=\"none\"/>\n",
              "    <path d=\"M18.56 5.44l.94 2.06.94-2.06 2.06-.94-2.06-.94-.94-2.06-.94 2.06-2.06.94zm-11 1L8.5 8.5l.94-2.06 2.06-.94-2.06-.94L8.5 2.5l-.94 2.06-2.06.94zm10 10l.94 2.06.94-2.06 2.06-.94-2.06-.94-.94-2.06-.94 2.06-2.06.94z\"/><path d=\"M17.41 7.96l-1.37-1.37c-.4-.4-.92-.59-1.43-.59-.52 0-1.04.2-1.43.59L10.3 9.45l-7.72 7.72c-.78.78-.78 2.05 0 2.83L4 21.41c.39.39.9.59 1.41.59.51 0 1.02-.2 1.41-.59l7.78-7.78 2.81-2.81c.8-.78.8-2.07 0-2.86zM5.41 20L4 18.59l7.72-7.72 1.47 1.35L5.41 20z\"/>\n",
              "  </svg>\n",
              "      </button>\n",
              "\n",
              "\n",
              "\n",
              "    <div id=\"df-b9395aa8-1ea4-4bce-ab8b-5a83cbef30d3\">\n",
              "      <button class=\"colab-df-quickchart\" onclick=\"quickchart('df-b9395aa8-1ea4-4bce-ab8b-5a83cbef30d3')\"\n",
              "              title=\"Suggest charts.\"\n",
              "              style=\"display:none;\">\n",
              "\n",
              "<svg xmlns=\"http://www.w3.org/2000/svg\" height=\"24px\"viewBox=\"0 0 24 24\"\n",
              "     width=\"24px\">\n",
              "    <g>\n",
              "        <path d=\"M19 3H5c-1.1 0-2 .9-2 2v14c0 1.1.9 2 2 2h14c1.1 0 2-.9 2-2V5c0-1.1-.9-2-2-2zM9 17H7v-7h2v7zm4 0h-2V7h2v10zm4 0h-2v-4h2v4z\"/>\n",
              "    </g>\n",
              "</svg>\n",
              "      </button>\n",
              "    </div>\n",
              "\n",
              "<style>\n",
              "  .colab-df-quickchart {\n",
              "    background-color: #E8F0FE;\n",
              "    border: none;\n",
              "    border-radius: 50%;\n",
              "    cursor: pointer;\n",
              "    display: none;\n",
              "    fill: #1967D2;\n",
              "    height: 32px;\n",
              "    padding: 0 0 0 0;\n",
              "    width: 32px;\n",
              "  }\n",
              "\n",
              "  .colab-df-quickchart:hover {\n",
              "    background-color: #E2EBFA;\n",
              "    box-shadow: 0px 1px 2px rgba(60, 64, 67, 0.3), 0px 1px 3px 1px rgba(60, 64, 67, 0.15);\n",
              "    fill: #174EA6;\n",
              "  }\n",
              "\n",
              "  [theme=dark] .colab-df-quickchart {\n",
              "    background-color: #3B4455;\n",
              "    fill: #D2E3FC;\n",
              "  }\n",
              "\n",
              "  [theme=dark] .colab-df-quickchart:hover {\n",
              "    background-color: #434B5C;\n",
              "    box-shadow: 0px 1px 3px 1px rgba(0, 0, 0, 0.15);\n",
              "    filter: drop-shadow(0px 1px 2px rgba(0, 0, 0, 0.3));\n",
              "    fill: #FFFFFF;\n",
              "  }\n",
              "</style>\n",
              "\n",
              "    <script>\n",
              "      async function quickchart(key) {\n",
              "        const containerElement = document.querySelector('#' + key);\n",
              "        const charts = await google.colab.kernel.invokeFunction(\n",
              "            'suggestCharts', [key], {});\n",
              "      }\n",
              "    </script>\n",
              "\n",
              "      <script>\n",
              "\n",
              "function displayQuickchartButton(domScope) {\n",
              "  let quickchartButtonEl =\n",
              "    domScope.querySelector('#df-b9395aa8-1ea4-4bce-ab8b-5a83cbef30d3 button.colab-df-quickchart');\n",
              "  quickchartButtonEl.style.display =\n",
              "    google.colab.kernel.accessAllowed ? 'block' : 'none';\n",
              "}\n",
              "\n",
              "        displayQuickchartButton(document);\n",
              "      </script>\n",
              "      <style>\n",
              "    .colab-df-container {\n",
              "      display:flex;\n",
              "      flex-wrap:wrap;\n",
              "      gap: 12px;\n",
              "    }\n",
              "\n",
              "    .colab-df-convert {\n",
              "      background-color: #E8F0FE;\n",
              "      border: none;\n",
              "      border-radius: 50%;\n",
              "      cursor: pointer;\n",
              "      display: none;\n",
              "      fill: #1967D2;\n",
              "      height: 32px;\n",
              "      padding: 0 0 0 0;\n",
              "      width: 32px;\n",
              "    }\n",
              "\n",
              "    .colab-df-convert:hover {\n",
              "      background-color: #E2EBFA;\n",
              "      box-shadow: 0px 1px 2px rgba(60, 64, 67, 0.3), 0px 1px 3px 1px rgba(60, 64, 67, 0.15);\n",
              "      fill: #174EA6;\n",
              "    }\n",
              "\n",
              "    [theme=dark] .colab-df-convert {\n",
              "      background-color: #3B4455;\n",
              "      fill: #D2E3FC;\n",
              "    }\n",
              "\n",
              "    [theme=dark] .colab-df-convert:hover {\n",
              "      background-color: #434B5C;\n",
              "      box-shadow: 0px 1px 3px 1px rgba(0, 0, 0, 0.15);\n",
              "      filter: drop-shadow(0px 1px 2px rgba(0, 0, 0, 0.3));\n",
              "      fill: #FFFFFF;\n",
              "    }\n",
              "  </style>\n",
              "\n",
              "      <script>\n",
              "        const buttonEl =\n",
              "          document.querySelector('#df-479cf26d-ecd3-48e0-8172-058615fb1306 button.colab-df-convert');\n",
              "        buttonEl.style.display =\n",
              "          google.colab.kernel.accessAllowed ? 'block' : 'none';\n",
              "\n",
              "        async function convertToInteractive(key) {\n",
              "          const element = document.querySelector('#df-479cf26d-ecd3-48e0-8172-058615fb1306');\n",
              "          const dataTable =\n",
              "            await google.colab.kernel.invokeFunction('convertToInteractive',\n",
              "                                                     [key], {});\n",
              "          if (!dataTable) return;\n",
              "\n",
              "          const docLinkHtml = 'Like what you see? Visit the ' +\n",
              "            '<a target=\"_blank\" href=https://colab.research.google.com/notebooks/data_table.ipynb>data table notebook</a>'\n",
              "            + ' to learn more about interactive tables.';\n",
              "          element.innerHTML = '';\n",
              "          dataTable['output_type'] = 'display_data';\n",
              "          await google.colab.output.renderOutput(dataTable, element);\n",
              "          const docLink = document.createElement('div');\n",
              "          docLink.innerHTML = docLinkHtml;\n",
              "          element.appendChild(docLink);\n",
              "        }\n",
              "      </script>\n",
              "    </div>\n",
              "  </div>\n"
            ]
          },
          "metadata": {},
          "execution_count": 26
        }
      ]
    },
    {
      "cell_type": "code",
      "source": [
        "small_df2[(small_df['Approved_buget']> 1000000) & (small_df2['Approved_buget']< 2000000)]\n",
        "print(small_df2)"
      ],
      "metadata": {
        "colab": {
          "base_uri": "https://localhost:8080/"
        },
        "id": "4Yir33VC9VpQ",
        "outputId": "e28f24b3-7a40-444e-f2bd-fad5630117b8"
      },
      "execution_count": 27,
      "outputs": [
        {
          "output_type": "stream",
          "name": "stdout",
          "text": [
            "    Budget_resource  Issue_No  Fiscal_year  Department_code  \\\n",
            "1         งบประจำปี         0           62         11000000   \n",
            "2         งบประจำปี         0           62         11000000   \n",
            "3         งบประจำปี         0           62         11000000   \n",
            "4         งบประจำปี         0           62         11000000   \n",
            "5         งบประจำปี         0           62         11000000   \n",
            "..              ...       ...          ...              ...   \n",
            "686     งบเพิ่มเติม         1           66         50460000   \n",
            "687     งบเพิ่มเติม         1           66         50460000   \n",
            "688     งบเพิ่มเติม         1           66         50460000   \n",
            "689     งบเพิ่มเติม         1           66         50460000   \n",
            "690     งบเพิ่มเติม         1           66         50460000   \n",
            "\n",
            "               Department                                   Core_budget_code  \\\n",
            "1        สำนักการระบายน้ำ  12-เงินสำรองจ่ายทั่วไป กรณีค่าใช้จ่ายต่างๆ เกี...   \n",
            "2        สำนักการระบายน้ำ  12-เงินสำรองจ่ายทั่วไป กรณีค่าใช้จ่ายต่างๆ เกี...   \n",
            "3        สำนักการระบายน้ำ  12-เงินสำรองจ่ายทั่วไป กรณีค่าใช้จ่ายต่างๆ เกี...   \n",
            "4        สำนักการระบายน้ำ  12-เงินสำรองจ่ายทั่วไป กรณีค่าใช้จ่ายต่างๆ เกี...   \n",
            "5        สำนักการระบายน้ำ  12-เงินสำรองจ่ายทั่วไป กรณีค่าใช้จ่ายต่างๆ เกี...   \n",
            "..                    ...                                                ...   \n",
            "686  สำนักงานเขตคลองสามวา                                                NaN   \n",
            "687  สำนักงานเขตคลองสามวา                                                NaN   \n",
            "688  สำนักงานเขตคลองสามวา                                                NaN   \n",
            "689  สำนักงานเขตคลองสามวา                                                NaN   \n",
            "690  สำนักงานเขตคลองสามวา                                                NaN   \n",
            "\n",
            "    Expenditure_category                                          Item_name  \\\n",
            "1                งบลงทุน  ขุดลอกคลองทรงกระเทียมจากคลองลาดพร้าวถึงถนนโชคช...   \n",
            "2                งบลงทุน          ขุดลอกคลองเป้งจากคลองแสนแสบถึงซอยเจริญสุข   \n",
            "3                งบลงทุน  ขุดลอกคลองลำพังพวยจากถนนศรีบูรพาถึงสถานีสูบน้ำ...   \n",
            "4                งบลงทุน  ขุดลอกบึงรางเข้จากคลองพระยาราชมนตรีถึงถนนบางขุ...   \n",
            "5                งบลงทุน  ขุดลอกคลองราษฎร์สามัคคีจากคลองทวีวัฒนาถึงคลองม...   \n",
            "..                   ...                                                ...   \n",
            "686              งบลงทุน                                 ขุดลอกคลองลำกะโหลก   \n",
            "687              งบลงทุน                                 ขุดลอกคลองผักกะเฉด   \n",
            "688              งบลงทุน                            ขุดลอกคลองบึงทรายกองดิน   \n",
            "689              งบลงทุน                                  ขุดลอกลำรางซาฟารี   \n",
            "690              งบลงทุน                                ขุดลอกลำรางตาจันทร์   \n",
            "\n",
            "     Approved_buget  \n",
            "1           1100000  \n",
            "2           3075000  \n",
            "3           6240000  \n",
            "4           2685000  \n",
            "5           1207000  \n",
            "..              ...  \n",
            "686         3875000  \n",
            "687         3686000  \n",
            "688         2575000  \n",
            "689          689000  \n",
            "690          464000  \n",
            "\n",
            "[690 rows x 9 columns]\n"
          ]
        },
        {
          "output_type": "stream",
          "name": "stderr",
          "text": [
            "<ipython-input-27-b2cd0021a447>:1: UserWarning: Boolean Series key will be reindexed to match DataFrame index.\n",
            "  small_df2[(small_df['Approved_buget']> 1000000) & (small_df2['Approved_buget']< 2000000)]\n"
          ]
        }
      ]
    },
    {
      "cell_type": "code",
      "source": [],
      "metadata": {
        "id": "BdsO78TC9VKH"
      },
      "execution_count": 27,
      "outputs": []
    },
    {
      "cell_type": "code",
      "source": [
        "data1[data1['Approved_buget']== 'condo'] #ใช้ logi"
      ],
      "metadata": {
        "colab": {
          "base_uri": "https://localhost:8080/",
          "height": 113
        },
        "id": "Q065m9jHgSaM",
        "outputId": "b058a0bb-1dbb-451c-902c-a32e3917b233"
      },
      "execution_count": 28,
      "outputs": [
        {
          "output_type": "execute_result",
          "data": {
            "text/plain": [
              "Empty DataFrame\n",
              "Columns: [Budget_resource, Issue_No, Fiscal_year, Department_code, Department, Core_budget_code, Expenditure_category, Item_name, Approved_buget]\n",
              "Index: []"
            ],
            "text/html": [
              "\n",
              "\n",
              "  <div id=\"df-1f745d2c-2c36-4072-a1de-ecdbdb089288\">\n",
              "    <div class=\"colab-df-container\">\n",
              "      <div>\n",
              "<style scoped>\n",
              "    .dataframe tbody tr th:only-of-type {\n",
              "        vertical-align: middle;\n",
              "    }\n",
              "\n",
              "    .dataframe tbody tr th {\n",
              "        vertical-align: top;\n",
              "    }\n",
              "\n",
              "    .dataframe thead th {\n",
              "        text-align: right;\n",
              "    }\n",
              "</style>\n",
              "<table border=\"1\" class=\"dataframe\">\n",
              "  <thead>\n",
              "    <tr style=\"text-align: right;\">\n",
              "      <th></th>\n",
              "      <th>Budget_resource</th>\n",
              "      <th>Issue_No</th>\n",
              "      <th>Fiscal_year</th>\n",
              "      <th>Department_code</th>\n",
              "      <th>Department</th>\n",
              "      <th>Core_budget_code</th>\n",
              "      <th>Expenditure_category</th>\n",
              "      <th>Item_name</th>\n",
              "      <th>Approved_buget</th>\n",
              "    </tr>\n",
              "  </thead>\n",
              "  <tbody>\n",
              "  </tbody>\n",
              "</table>\n",
              "</div>\n",
              "      <button class=\"colab-df-convert\" onclick=\"convertToInteractive('df-1f745d2c-2c36-4072-a1de-ecdbdb089288')\"\n",
              "              title=\"Convert this dataframe to an interactive table.\"\n",
              "              style=\"display:none;\">\n",
              "\n",
              "  <svg xmlns=\"http://www.w3.org/2000/svg\" height=\"24px\"viewBox=\"0 0 24 24\"\n",
              "       width=\"24px\">\n",
              "    <path d=\"M0 0h24v24H0V0z\" fill=\"none\"/>\n",
              "    <path d=\"M18.56 5.44l.94 2.06.94-2.06 2.06-.94-2.06-.94-.94-2.06-.94 2.06-2.06.94zm-11 1L8.5 8.5l.94-2.06 2.06-.94-2.06-.94L8.5 2.5l-.94 2.06-2.06.94zm10 10l.94 2.06.94-2.06 2.06-.94-2.06-.94-.94-2.06-.94 2.06-2.06.94z\"/><path d=\"M17.41 7.96l-1.37-1.37c-.4-.4-.92-.59-1.43-.59-.52 0-1.04.2-1.43.59L10.3 9.45l-7.72 7.72c-.78.78-.78 2.05 0 2.83L4 21.41c.39.39.9.59 1.41.59.51 0 1.02-.2 1.41-.59l7.78-7.78 2.81-2.81c.8-.78.8-2.07 0-2.86zM5.41 20L4 18.59l7.72-7.72 1.47 1.35L5.41 20z\"/>\n",
              "  </svg>\n",
              "      </button>\n",
              "\n",
              "\n",
              "\n",
              "    <div id=\"df-679abe81-bf98-43ad-a667-c3513871054d\">\n",
              "      <button class=\"colab-df-quickchart\" onclick=\"quickchart('df-679abe81-bf98-43ad-a667-c3513871054d')\"\n",
              "              title=\"Suggest charts.\"\n",
              "              style=\"display:none;\">\n",
              "\n",
              "<svg xmlns=\"http://www.w3.org/2000/svg\" height=\"24px\"viewBox=\"0 0 24 24\"\n",
              "     width=\"24px\">\n",
              "    <g>\n",
              "        <path d=\"M19 3H5c-1.1 0-2 .9-2 2v14c0 1.1.9 2 2 2h14c1.1 0 2-.9 2-2V5c0-1.1-.9-2-2-2zM9 17H7v-7h2v7zm4 0h-2V7h2v10zm4 0h-2v-4h2v4z\"/>\n",
              "    </g>\n",
              "</svg>\n",
              "      </button>\n",
              "    </div>\n",
              "\n",
              "<style>\n",
              "  .colab-df-quickchart {\n",
              "    background-color: #E8F0FE;\n",
              "    border: none;\n",
              "    border-radius: 50%;\n",
              "    cursor: pointer;\n",
              "    display: none;\n",
              "    fill: #1967D2;\n",
              "    height: 32px;\n",
              "    padding: 0 0 0 0;\n",
              "    width: 32px;\n",
              "  }\n",
              "\n",
              "  .colab-df-quickchart:hover {\n",
              "    background-color: #E2EBFA;\n",
              "    box-shadow: 0px 1px 2px rgba(60, 64, 67, 0.3), 0px 1px 3px 1px rgba(60, 64, 67, 0.15);\n",
              "    fill: #174EA6;\n",
              "  }\n",
              "\n",
              "  [theme=dark] .colab-df-quickchart {\n",
              "    background-color: #3B4455;\n",
              "    fill: #D2E3FC;\n",
              "  }\n",
              "\n",
              "  [theme=dark] .colab-df-quickchart:hover {\n",
              "    background-color: #434B5C;\n",
              "    box-shadow: 0px 1px 3px 1px rgba(0, 0, 0, 0.15);\n",
              "    filter: drop-shadow(0px 1px 2px rgba(0, 0, 0, 0.3));\n",
              "    fill: #FFFFFF;\n",
              "  }\n",
              "</style>\n",
              "\n",
              "    <script>\n",
              "      async function quickchart(key) {\n",
              "        const containerElement = document.querySelector('#' + key);\n",
              "        const charts = await google.colab.kernel.invokeFunction(\n",
              "            'suggestCharts', [key], {});\n",
              "      }\n",
              "    </script>\n",
              "\n",
              "      <script>\n",
              "\n",
              "function displayQuickchartButton(domScope) {\n",
              "  let quickchartButtonEl =\n",
              "    domScope.querySelector('#df-679abe81-bf98-43ad-a667-c3513871054d button.colab-df-quickchart');\n",
              "  quickchartButtonEl.style.display =\n",
              "    google.colab.kernel.accessAllowed ? 'block' : 'none';\n",
              "}\n",
              "\n",
              "        displayQuickchartButton(document);\n",
              "      </script>\n",
              "      <style>\n",
              "    .colab-df-container {\n",
              "      display:flex;\n",
              "      flex-wrap:wrap;\n",
              "      gap: 12px;\n",
              "    }\n",
              "\n",
              "    .colab-df-convert {\n",
              "      background-color: #E8F0FE;\n",
              "      border: none;\n",
              "      border-radius: 50%;\n",
              "      cursor: pointer;\n",
              "      display: none;\n",
              "      fill: #1967D2;\n",
              "      height: 32px;\n",
              "      padding: 0 0 0 0;\n",
              "      width: 32px;\n",
              "    }\n",
              "\n",
              "    .colab-df-convert:hover {\n",
              "      background-color: #E2EBFA;\n",
              "      box-shadow: 0px 1px 2px rgba(60, 64, 67, 0.3), 0px 1px 3px 1px rgba(60, 64, 67, 0.15);\n",
              "      fill: #174EA6;\n",
              "    }\n",
              "\n",
              "    [theme=dark] .colab-df-convert {\n",
              "      background-color: #3B4455;\n",
              "      fill: #D2E3FC;\n",
              "    }\n",
              "\n",
              "    [theme=dark] .colab-df-convert:hover {\n",
              "      background-color: #434B5C;\n",
              "      box-shadow: 0px 1px 3px 1px rgba(0, 0, 0, 0.15);\n",
              "      filter: drop-shadow(0px 1px 2px rgba(0, 0, 0, 0.3));\n",
              "      fill: #FFFFFF;\n",
              "    }\n",
              "  </style>\n",
              "\n",
              "      <script>\n",
              "        const buttonEl =\n",
              "          document.querySelector('#df-1f745d2c-2c36-4072-a1de-ecdbdb089288 button.colab-df-convert');\n",
              "        buttonEl.style.display =\n",
              "          google.colab.kernel.accessAllowed ? 'block' : 'none';\n",
              "\n",
              "        async function convertToInteractive(key) {\n",
              "          const element = document.querySelector('#df-1f745d2c-2c36-4072-a1de-ecdbdb089288');\n",
              "          const dataTable =\n",
              "            await google.colab.kernel.invokeFunction('convertToInteractive',\n",
              "                                                     [key], {});\n",
              "          if (!dataTable) return;\n",
              "\n",
              "          const docLinkHtml = 'Like what you see? Visit the ' +\n",
              "            '<a target=\"_blank\" href=https://colab.research.google.com/notebooks/data_table.ipynb>data table notebook</a>'\n",
              "            + ' to learn more about interactive tables.';\n",
              "          element.innerHTML = '';\n",
              "          dataTable['output_type'] = 'display_data';\n",
              "          await google.colab.output.renderOutput(dataTable, element);\n",
              "          const docLink = document.createElement('div');\n",
              "          docLink.innerHTML = docLinkHtml;\n",
              "          element.appendChild(docLink);\n",
              "        }\n",
              "      </script>\n",
              "    </div>\n",
              "  </div>\n"
            ]
          },
          "metadata": {},
          "execution_count": 28
        }
      ]
    },
    {
      "cell_type": "code",
      "source": [
        "data1['propertytype_name_en']== 'condo'"
      ],
      "metadata": {
        "colab": {
          "base_uri": "https://localhost:8080/",
          "height": 521
        },
        "id": "W7ovnaO2g66t",
        "outputId": "01294bcc-f0dd-4063-ff06-20ce12f71535"
      },
      "execution_count": 30,
      "outputs": [
        {
          "output_type": "error",
          "ename": "KeyError",
          "evalue": "ignored",
          "traceback": [
            "\u001b[0;31m---------------------------------------------------------------------------\u001b[0m",
            "\u001b[0;31mKeyError\u001b[0m                                  Traceback (most recent call last)",
            "\u001b[0;32m/usr/local/lib/python3.10/dist-packages/pandas/core/indexes/base.py\u001b[0m in \u001b[0;36mget_loc\u001b[0;34m(self, key, method, tolerance)\u001b[0m\n\u001b[1;32m   3801\u001b[0m             \u001b[0;32mtry\u001b[0m\u001b[0;34m:\u001b[0m\u001b[0;34m\u001b[0m\u001b[0;34m\u001b[0m\u001b[0m\n\u001b[0;32m-> 3802\u001b[0;31m                 \u001b[0;32mreturn\u001b[0m \u001b[0mself\u001b[0m\u001b[0;34m.\u001b[0m\u001b[0m_engine\u001b[0m\u001b[0;34m.\u001b[0m\u001b[0mget_loc\u001b[0m\u001b[0;34m(\u001b[0m\u001b[0mcasted_key\u001b[0m\u001b[0;34m)\u001b[0m\u001b[0;34m\u001b[0m\u001b[0;34m\u001b[0m\u001b[0m\n\u001b[0m\u001b[1;32m   3803\u001b[0m             \u001b[0;32mexcept\u001b[0m \u001b[0mKeyError\u001b[0m \u001b[0;32mas\u001b[0m \u001b[0merr\u001b[0m\u001b[0;34m:\u001b[0m\u001b[0;34m\u001b[0m\u001b[0;34m\u001b[0m\u001b[0m\n",
            "\u001b[0;32m/usr/local/lib/python3.10/dist-packages/pandas/_libs/index.pyx\u001b[0m in \u001b[0;36mpandas._libs.index.IndexEngine.get_loc\u001b[0;34m()\u001b[0m\n",
            "\u001b[0;32m/usr/local/lib/python3.10/dist-packages/pandas/_libs/index.pyx\u001b[0m in \u001b[0;36mpandas._libs.index.IndexEngine.get_loc\u001b[0;34m()\u001b[0m\n",
            "\u001b[0;32mpandas/_libs/hashtable_class_helper.pxi\u001b[0m in \u001b[0;36mpandas._libs.hashtable.PyObjectHashTable.get_item\u001b[0;34m()\u001b[0m\n",
            "\u001b[0;32mpandas/_libs/hashtable_class_helper.pxi\u001b[0m in \u001b[0;36mpandas._libs.hashtable.PyObjectHashTable.get_item\u001b[0;34m()\u001b[0m\n",
            "\u001b[0;31mKeyError\u001b[0m: 'propertytype_name_en'",
            "\nThe above exception was the direct cause of the following exception:\n",
            "\u001b[0;31mKeyError\u001b[0m                                  Traceback (most recent call last)",
            "\u001b[0;32m<ipython-input-30-c1840078db50>\u001b[0m in \u001b[0;36m<cell line: 1>\u001b[0;34m()\u001b[0m\n\u001b[0;32m----> 1\u001b[0;31m \u001b[0mdata1\u001b[0m\u001b[0;34m[\u001b[0m\u001b[0;34m'propertytype_name_en'\u001b[0m\u001b[0;34m]\u001b[0m\u001b[0;34m==\u001b[0m \u001b[0;34m'condo'\u001b[0m\u001b[0;34m\u001b[0m\u001b[0;34m\u001b[0m\u001b[0m\n\u001b[0m",
            "\u001b[0;32m/usr/local/lib/python3.10/dist-packages/pandas/core/frame.py\u001b[0m in \u001b[0;36m__getitem__\u001b[0;34m(self, key)\u001b[0m\n\u001b[1;32m   3805\u001b[0m             \u001b[0;32mif\u001b[0m \u001b[0mself\u001b[0m\u001b[0;34m.\u001b[0m\u001b[0mcolumns\u001b[0m\u001b[0;34m.\u001b[0m\u001b[0mnlevels\u001b[0m \u001b[0;34m>\u001b[0m \u001b[0;36m1\u001b[0m\u001b[0;34m:\u001b[0m\u001b[0;34m\u001b[0m\u001b[0;34m\u001b[0m\u001b[0m\n\u001b[1;32m   3806\u001b[0m                 \u001b[0;32mreturn\u001b[0m \u001b[0mself\u001b[0m\u001b[0;34m.\u001b[0m\u001b[0m_getitem_multilevel\u001b[0m\u001b[0;34m(\u001b[0m\u001b[0mkey\u001b[0m\u001b[0;34m)\u001b[0m\u001b[0;34m\u001b[0m\u001b[0;34m\u001b[0m\u001b[0m\n\u001b[0;32m-> 3807\u001b[0;31m             \u001b[0mindexer\u001b[0m \u001b[0;34m=\u001b[0m \u001b[0mself\u001b[0m\u001b[0;34m.\u001b[0m\u001b[0mcolumns\u001b[0m\u001b[0;34m.\u001b[0m\u001b[0mget_loc\u001b[0m\u001b[0;34m(\u001b[0m\u001b[0mkey\u001b[0m\u001b[0;34m)\u001b[0m\u001b[0;34m\u001b[0m\u001b[0;34m\u001b[0m\u001b[0m\n\u001b[0m\u001b[1;32m   3808\u001b[0m             \u001b[0;32mif\u001b[0m \u001b[0mis_integer\u001b[0m\u001b[0;34m(\u001b[0m\u001b[0mindexer\u001b[0m\u001b[0;34m)\u001b[0m\u001b[0;34m:\u001b[0m\u001b[0;34m\u001b[0m\u001b[0;34m\u001b[0m\u001b[0m\n\u001b[1;32m   3809\u001b[0m                 \u001b[0mindexer\u001b[0m \u001b[0;34m=\u001b[0m \u001b[0;34m[\u001b[0m\u001b[0mindexer\u001b[0m\u001b[0;34m]\u001b[0m\u001b[0;34m\u001b[0m\u001b[0;34m\u001b[0m\u001b[0m\n",
            "\u001b[0;32m/usr/local/lib/python3.10/dist-packages/pandas/core/indexes/base.py\u001b[0m in \u001b[0;36mget_loc\u001b[0;34m(self, key, method, tolerance)\u001b[0m\n\u001b[1;32m   3802\u001b[0m                 \u001b[0;32mreturn\u001b[0m \u001b[0mself\u001b[0m\u001b[0;34m.\u001b[0m\u001b[0m_engine\u001b[0m\u001b[0;34m.\u001b[0m\u001b[0mget_loc\u001b[0m\u001b[0;34m(\u001b[0m\u001b[0mcasted_key\u001b[0m\u001b[0;34m)\u001b[0m\u001b[0;34m\u001b[0m\u001b[0;34m\u001b[0m\u001b[0m\n\u001b[1;32m   3803\u001b[0m             \u001b[0;32mexcept\u001b[0m \u001b[0mKeyError\u001b[0m \u001b[0;32mas\u001b[0m \u001b[0merr\u001b[0m\u001b[0;34m:\u001b[0m\u001b[0;34m\u001b[0m\u001b[0;34m\u001b[0m\u001b[0m\n\u001b[0;32m-> 3804\u001b[0;31m                 \u001b[0;32mraise\u001b[0m \u001b[0mKeyError\u001b[0m\u001b[0;34m(\u001b[0m\u001b[0mkey\u001b[0m\u001b[0;34m)\u001b[0m \u001b[0;32mfrom\u001b[0m \u001b[0merr\u001b[0m\u001b[0;34m\u001b[0m\u001b[0;34m\u001b[0m\u001b[0m\n\u001b[0m\u001b[1;32m   3805\u001b[0m             \u001b[0;32mexcept\u001b[0m \u001b[0mTypeError\u001b[0m\u001b[0;34m:\u001b[0m\u001b[0;34m\u001b[0m\u001b[0;34m\u001b[0m\u001b[0m\n\u001b[1;32m   3806\u001b[0m                 \u001b[0;31m# If we have a listlike key, _check_indexing_error will raise\u001b[0m\u001b[0;34m\u001b[0m\u001b[0;34m\u001b[0m\u001b[0m\n",
            "\u001b[0;31mKeyError\u001b[0m: 'propertytype_name_en'"
          ]
        }
      ]
    },
    {
      "cell_type": "code",
      "source": [
        "data1[data1['price_min'] > 10000000]"
      ],
      "metadata": {
        "id": "VH3dH6jhd7-v"
      },
      "execution_count": null,
      "outputs": []
    },
    {
      "cell_type": "code",
      "source": [
        "data1[data1['price_min'] > 10000000].describe()"
      ],
      "metadata": {
        "id": "ki9C2z_ghf_w"
      },
      "execution_count": null,
      "outputs": []
    },
    {
      "cell_type": "markdown",
      "source": [
        "# Quiz 4\n",
        "1. ราคาเฉลี่ยของบ้านที่มีราคาระหว่าง 3-5 ร้านบาท\n",
        "2. พื้นที่ และ จำนวนห้องนอนของบ้านที่แพงที่สุด\n",
        "3. จำนวนที่จอดรถและห้องน้ำของบ้านที่ถูกที่สุด\n",
        "4. ชนิดของบ้านที่แพงที่สุด\n",
        "5. บ้านชนิดไหนมีปริมาณมากที่สุด"
      ],
      "metadata": {
        "id": "Hub_AdJqiOAO"
      }
    },
    {
      "cell_type": "code",
      "source": [
        "# 1. ราคาเฉลี่ยของบ้านที่มีราคาระหว่าง 3-5 ร้านบาท\n",
        "data1[(data1['price_min'] >=3000000) & (data1['price_min']<=5000000)].describe()\n",
        "# Ans 3.928111e+06\t = 3.928111  ล้านบาท"
      ],
      "metadata": {
        "id": "njQLgbSyjHUS"
      },
      "execution_count": null,
      "outputs": []
    },
    {
      "cell_type": "code",
      "source": [
        "price_mean = data1[(data1['price_min'] >=3000000) & (data1['price_min']<=5000000)]['price_min'].mean()"
      ],
      "metadata": {
        "id": "Gs_qnLEBfhHp"
      },
      "execution_count": null,
      "outputs": []
    },
    {
      "cell_type": "code",
      "source": [
        "print(f'ราคาเฉลี่ยของบ้านที่มีราคาระหว่าง 3-5 ล้านบาท คือ {int(price_mean):,}')"
      ],
      "metadata": {
        "id": "YI0IJnQVfuQe"
      },
      "execution_count": null,
      "outputs": []
    },
    {
      "cell_type": "code",
      "source": [
        "#2.พื้นที่และจำนวนห้องนอนของบ้านที่แพงที่สุด\n",
        "data1['price_min'].max()"
      ],
      "metadata": {
        "id": "leHcW5KnkLGb"
      },
      "execution_count": null,
      "outputs": []
    },
    {
      "cell_type": "code",
      "source": [
        "data1[data1['price_min']==580000000][['area_usable_min','count_room_bed']]"
      ],
      "metadata": {
        "id": "hgtvSVt1bOQy"
      },
      "execution_count": null,
      "outputs": []
    },
    {
      "cell_type": "code",
      "source": [
        "data1[data1['price_min']==data1['price_min'].max()][['area_usable_min','count_room_bed','price_min']]"
      ],
      "metadata": {
        "id": "ZcCyJtAMgx0r"
      },
      "execution_count": null,
      "outputs": []
    },
    {
      "cell_type": "code",
      "source": [
        "data1[data1['price_min']==data1['price_min'].max()]"
      ],
      "metadata": {
        "id": "xe7bkCjVhCTF"
      },
      "execution_count": null,
      "outputs": []
    },
    {
      "cell_type": "code",
      "source": [
        "#3.จำนวนที่จอดรถและห้องน้ำที่ถูกที่สุด\n",
        "data1['price_min'].min()"
      ],
      "metadata": {
        "id": "9LBy2jtkl-CS"
      },
      "execution_count": null,
      "outputs": []
    },
    {
      "cell_type": "code",
      "source": [
        "data1[data1['price_min']==100000][['count_parking','count_room_bath']]"
      ],
      "metadata": {
        "id": "qPEw_eRmnyzx"
      },
      "execution_count": null,
      "outputs": []
    },
    {
      "cell_type": "code",
      "source": [
        "data1[data1['price_min']==data1['price_min'].min()][['propertytype_name_en','count_parking','count_room_bath','price_min']]"
      ],
      "metadata": {
        "id": "OIumzGQ_hh2i"
      },
      "execution_count": null,
      "outputs": []
    },
    {
      "cell_type": "code",
      "source": [
        "# 4. ชนิดของบ้านที่แพงที่สุด\n",
        "data1.describe()\n",
        "data1[data1['price_min'] == 580000000]\n",
        "# Ans Condo"
      ],
      "metadata": {
        "id": "Xc5DbZbjoDB5"
      },
      "execution_count": null,
      "outputs": []
    },
    {
      "cell_type": "code",
      "source": [
        "# 4. ชนิดของบ้านที่แพงที่สุด\n",
        "data1['propertytype_name_en'][data1['price_min'] == 580000000]"
      ],
      "metadata": {
        "id": "eiEo-9QLsTtQ"
      },
      "execution_count": null,
      "outputs": []
    },
    {
      "cell_type": "code",
      "source": [
        "data1[data1['price_min']==data1['price_min'].max()][['propertytype_name_en','price_min']]"
      ],
      "metadata": {
        "id": "JpVQ3BZUh9aq"
      },
      "execution_count": null,
      "outputs": []
    },
    {
      "cell_type": "code",
      "source": [
        "#5. บ้านชนิดไหนมีปริมาณมากที่สุด\n",
        "data1['propertytype_name_en'].describe()"
      ],
      "metadata": {
        "id": "rczL22K4r99n"
      },
      "execution_count": null,
      "outputs": []
    },
    {
      "cell_type": "code",
      "source": [],
      "metadata": {
        "id": "BuYu_3MCiSuU"
      },
      "execution_count": null,
      "outputs": []
    },
    {
      "cell_type": "code",
      "source": [],
      "metadata": {
        "id": "jc18tzVap6PX"
      },
      "execution_count": null,
      "outputs": []
    },
    {
      "cell_type": "code",
      "source": [
        "import os"
      ],
      "metadata": {
        "id": "P1yKlhjQOTxx"
      },
      "execution_count": null,
      "outputs": []
    },
    {
      "cell_type": "code",
      "metadata": {
        "id": "8aVuLimaokIK"
      },
      "source": [
        "path = '/content/drive/My Drive/dataviz_2021_data'"
      ],
      "execution_count": null,
      "outputs": []
    },
    {
      "cell_type": "code",
      "metadata": {
        "id": "bJMZpuMsrLG1"
      },
      "source": [
        "covid_file_path = os.path.join(path,'pm-20-jan-2021.csv')\n",
        "print(covid_file_path)"
      ],
      "execution_count": null,
      "outputs": []
    },
    {
      "cell_type": "code",
      "metadata": {
        "id": "k1NDGhW8rjb6"
      },
      "source": [
        "a = path + '/pm-18-jan-2021.csv'\n",
        "print(a)"
      ],
      "execution_count": null,
      "outputs": []
    },
    {
      "cell_type": "markdown",
      "metadata": {
        "id": "l3oehUans3Vr"
      },
      "source": [
        "## load data to memory"
      ]
    },
    {
      "cell_type": "code",
      "metadata": {
        "id": "lxKqSaR3sScc"
      },
      "source": [
        "data_covid = pd.read_csv(covid_file_path)\n",
        "data_covid"
      ],
      "execution_count": null,
      "outputs": []
    },
    {
      "cell_type": "code",
      "metadata": {
        "id": "sHTOPUJttJJ8"
      },
      "source": [
        "data_covid.head()"
      ],
      "execution_count": null,
      "outputs": []
    },
    {
      "cell_type": "markdown",
      "source": [
        "NaN = Not a Number"
      ],
      "metadata": {
        "id": "rlAYwIleTDBT"
      }
    },
    {
      "cell_type": "code",
      "source": [
        "data_covid.head(20)"
      ],
      "metadata": {
        "id": "Slh1ACWSSGLW"
      },
      "execution_count": null,
      "outputs": []
    },
    {
      "cell_type": "code",
      "source": [
        "data_covid.tail()"
      ],
      "metadata": {
        "id": "bmXcnfi-Stf6"
      },
      "execution_count": null,
      "outputs": []
    },
    {
      "cell_type": "code",
      "metadata": {
        "id": "zj5UmHPtySZ4"
      },
      "source": [
        "data_covid.shape"
      ],
      "execution_count": null,
      "outputs": []
    },
    {
      "cell_type": "markdown",
      "metadata": {
        "id": "CRYEuv0dzLtW"
      },
      "source": [
        "## ชี้ค่าในตาราง"
      ]
    },
    {
      "cell_type": "markdown",
      "metadata": {
        "id": "KFqGDG0c0AYI"
      },
      "source": [
        "#### basic"
      ]
    },
    {
      "cell_type": "code",
      "metadata": {
        "id": "vQ8Fvpgkyp4E"
      },
      "source": [
        "data_covid['province_of_onset']"
      ],
      "execution_count": null,
      "outputs": []
    },
    {
      "cell_type": "code",
      "metadata": {
        "id": "tHxuEWK6zjSH"
      },
      "source": [
        "data_covid['risk'][12649]"
      ],
      "execution_count": null,
      "outputs": []
    },
    {
      "cell_type": "markdown",
      "metadata": {
        "id": "dZ3UfzfV0DIy"
      },
      "source": [
        "#### .iloc"
      ]
    },
    {
      "cell_type": "code",
      "metadata": {
        "id": "oTb8mQj6z6DN"
      },
      "source": [
        "data_covid.iloc[4,7]"
      ],
      "execution_count": null,
      "outputs": []
    },
    {
      "cell_type": "markdown",
      "source": [
        "# เรียนถึงนี่ 12 Jan 2022"
      ],
      "metadata": {
        "id": "9Y9kGLs5TXZa"
      }
    },
    {
      "cell_type": "markdown",
      "metadata": {
        "id": "shzgCJfy0x2z"
      },
      "source": [
        "## Table slicing"
      ]
    },
    {
      "cell_type": "markdown",
      "metadata": {
        "id": "NWxhCozt0757"
      },
      "source": [
        "#### ตัดมาเฉพาะ column ที่ต้องการ"
      ]
    },
    {
      "cell_type": "code",
      "metadata": {
        "id": "x7I7LHQY0gLe"
      },
      "source": [
        "smaller_table = data_covid[['province_of_onset','announce_date','risk']]\n",
        "smaller_table"
      ],
      "execution_count": null,
      "outputs": []
    },
    {
      "cell_type": "markdown",
      "metadata": {
        "id": "nrVTN03F2GpV"
      },
      "source": [
        "#### ตัดเฉพาะ rows ที่ต้องการ"
      ]
    },
    {
      "cell_type": "markdown",
      "metadata": {
        "id": "58aOjVTl2SK0"
      },
      "source": [
        "##### แบบง่าย แต่ใช้การอะไรไม่ค่อยจะได้ (มองเป็น array แล้วตัดแบบ array)"
      ]
    },
    {
      "cell_type": "code",
      "metadata": {
        "id": "NYFm0KkM1vqR"
      },
      "source": [
        "data_covid.iloc[1:5,:]"
      ],
      "execution_count": null,
      "outputs": []
    },
    {
      "cell_type": "markdown",
      "metadata": {
        "id": "yR2j59YD2y65"
      },
      "source": [
        "แบบ advanced แต่ใช้ประโยชน์ได้เยอะกว่า (ตัดแบบใช้ logic query)"
      ]
    },
    {
      "cell_type": "markdown",
      "source": [
        "```pddf```[list_of_logical_values] คือการเลือก row ที่ logical values เป็น True"
      ],
      "metadata": {
        "id": "CHJVF0-bW8vD"
      }
    },
    {
      "cell_type": "code",
      "source": [
        "data_covid['province_of_onset']"
      ],
      "metadata": {
        "id": "6I1Mfj_VXjbt"
      },
      "execution_count": null,
      "outputs": []
    },
    {
      "cell_type": "code",
      "source": [
        "data_covid['province_of_onset']=='ขอนแก่น'"
      ],
      "metadata": {
        "id": "tfwtOaG1W55V"
      },
      "execution_count": null,
      "outputs": []
    },
    {
      "cell_type": "code",
      "metadata": {
        "id": "7l8BC42x2qSm"
      },
      "source": [
        "data_covid[data_covid['province_of_onset']=='ขอนแก่น']"
      ],
      "execution_count": null,
      "outputs": []
    },
    {
      "cell_type": "code",
      "source": [
        "data_covid[data_covid['age']>=70]"
      ],
      "metadata": {
        "id": "ZHpDomPuYT3n"
      },
      "execution_count": null,
      "outputs": []
    },
    {
      "cell_type": "markdown",
      "metadata": {
        "id": "z9IC5md533qS"
      },
      "source": [
        "การชี้ค่าในตารางด้วย data_covid[***x***] ค่า ***x*** สามารถมีค่าที่ใส่เข้าไปได้ 2 แบบ\n",
        "\n",
        "\n",
        "1.   ชื่อ column\n",
        "2.   ใส่ rows ที่ต้องการ (ใส่ list ที่มี***ขนาดเท่ากับจำนวนแถว*** แล้วบอกว่าเอา แถวไหนบ้างโดยใช้ logical expression (```True```/```False```))\n",
        "\n"
      ]
    },
    {
      "cell_type": "code",
      "metadata": {
        "id": "jQu4sr_53Ytk"
      },
      "source": [
        "eight_rows_covid = data_covid.iloc[:8,3:] # ตารางตัวอย่าง\n",
        "eight_rows_covid"
      ],
      "execution_count": null,
      "outputs": []
    },
    {
      "cell_type": "code",
      "metadata": {
        "id": "3NeywU6J48Vv"
      },
      "source": [
        "eight_rows_covid[[True,False,True,True,False,True,False,False]]   #2.   ใส่ list ที่ มีค่า logic ของ แต่ละ row โดยที่ ค่า True คือ เลือก ค่า False คือไม่เลืิอก"
      ],
      "execution_count": null,
      "outputs": []
    },
    {
      "cell_type": "code",
      "metadata": {
        "id": "VaD8Uq625Xsk"
      },
      "source": [
        "eight_rows_covid['province_of_onset'] == 'กรุงเทพมหานคร'  #สร้าง list ของ logical expression"
      ],
      "execution_count": null,
      "outputs": []
    },
    {
      "cell_type": "code",
      "metadata": {
        "id": "Ch14sJ-c6MFP"
      },
      "source": [
        "eight_rows_covid[eight_rows_covid['province_of_onset'] == 'กรุงเทพมหานคร']  #เราเอา 2 บรรทัดบนมาบวกกัน"
      ],
      "execution_count": null,
      "outputs": []
    },
    {
      "cell_type": "code",
      "source": [
        "eight_rows_covid['district_of_onset'] == 'เมือง'"
      ],
      "metadata": {
        "id": "omeJ7wj4a0rN"
      },
      "execution_count": null,
      "outputs": []
    },
    {
      "cell_type": "code",
      "source": [
        "import numpy as np"
      ],
      "metadata": {
        "id": "rtXDtcyScGO-"
      },
      "execution_count": null,
      "outputs": []
    },
    {
      "cell_type": "markdown",
      "source": [
        "$.isnull()$ ใช้ตรวจสอบว่าเป็น NaN หรือไม่"
      ],
      "metadata": {
        "id": "WLHyHltKcwRH"
      }
    },
    {
      "cell_type": "code",
      "source": [
        "eight_rows_covid['district_of_onset'].isnull()"
      ],
      "metadata": {
        "id": "DTEFmdAmbQYu"
      },
      "execution_count": null,
      "outputs": []
    },
    {
      "cell_type": "code",
      "source": [
        "sum(eight_rows_covid['district_of_onset'].isnull())"
      ],
      "metadata": {
        "id": "lNLVa-vFi2Sn"
      },
      "execution_count": null,
      "outputs": []
    },
    {
      "cell_type": "markdown",
      "metadata": {
        "id": "HTZIBf0a7wTM"
      },
      "source": [
        "Quiz (ให้ใช้เฉพาะที่อาจารย์สอนไปแล้วในวิชานี้)\n",
        "\n",
        "1.   คำนวณ อายุเฉลี่ย ของ**ผู้ชาย** ในข้อมูลทั้งหมด\n",
        "2.   คำนวณ อายุเฉลี่ย ของ**ผู้ชาย** ในจังหวัดขอนแก่น\n",
        "3.   หาจำนวนผู้ป่วยที่เป็นคน **ที่ไม่ใช่คนไทย**"
      ]
    },
    {
      "cell_type": "code",
      "metadata": {
        "id": "hxkhDHOK6hoc"
      },
      "source": [
        "this_data = data_covid[['sex','age','province_of_onset']]"
      ],
      "execution_count": null,
      "outputs": []
    },
    {
      "cell_type": "code",
      "metadata": {
        "id": "KZvCLjtIYfV9"
      },
      "source": [
        "this_data"
      ],
      "execution_count": null,
      "outputs": []
    },
    {
      "cell_type": "code",
      "metadata": {
        "id": "O-364VUjYgxw"
      },
      "source": [
        "female = this_data[this_data['sex']=='หญิง']\n",
        "female"
      ],
      "execution_count": null,
      "outputs": []
    },
    {
      "cell_type": "code",
      "source": [
        "female['age']"
      ],
      "metadata": {
        "id": "ydY1eWvAutHQ"
      },
      "execution_count": null,
      "outputs": []
    },
    {
      "cell_type": "code",
      "metadata": {
        "id": "jdDlyCZiY_U3"
      },
      "source": [
        "sum = 0\n",
        "N = 0\n",
        "for a in female['age']:\n",
        "\n",
        "    if a > 0:\n",
        "        sum += a # sum = sum + a\n",
        "        N += 1\n",
        "\n",
        "print(f'อายุเฉลี่ย ของ ผู้ป่วยหญิง {sum/N}')"
      ],
      "execution_count": null,
      "outputs": []
    },
    {
      "cell_type": "code",
      "metadata": {
        "id": "LpQi57Z8ZhIF"
      },
      "source": [
        "female_KK = female[female['province_of_onset']=='ขอนแก่น']\n",
        "\n",
        "sum = 0\n",
        "N = 0\n",
        "for a in female_KK['age']:\n",
        "\n",
        "    if a > 0:\n",
        "        sum += a # sum = sum + a\n",
        "        N += 1\n",
        "\n",
        "print(f'อายุเฉลี่ย ของ ผู้ป่วยหญิง ในจังหวัดขอนแก่น {sum/N}')"
      ],
      "execution_count": null,
      "outputs": []
    },
    {
      "cell_type": "code",
      "source": [
        "female[(female['province_of_onset']=='ขอนแก่น') | (female['province_of_onset']=='หนองคาย')]"
      ],
      "metadata": {
        "id": "6uofVICgwPw8"
      },
      "execution_count": null,
      "outputs": []
    },
    {
      "cell_type": "markdown",
      "source": [
        "#### หาจำนวนคนป่วยที่ไม่ใช่คนไทย"
      ],
      "metadata": {
        "id": "3Enfi22gXjJQ"
      }
    },
    {
      "cell_type": "code",
      "source": [
        "import numpy as np"
      ],
      "metadata": {
        "id": "WSiCLw5vYGQv"
      },
      "execution_count": null,
      "outputs": []
    },
    {
      "cell_type": "code",
      "source": [
        "np.sum(data_covid['nationality'].dropna() != 'Thailand')"
      ],
      "metadata": {
        "id": "9kXcQaq7Xij5"
      },
      "execution_count": null,
      "outputs": []
    },
    {
      "cell_type": "markdown",
      "source": [
        "### Missing Values"
      ],
      "metadata": {
        "id": "oIzdsvSIB1IC"
      }
    },
    {
      "cell_type": "code",
      "source": [
        "data1.isnull()"
      ],
      "metadata": {
        "id": "xplyvmpAB5-h"
      },
      "execution_count": null,
      "outputs": []
    },
    {
      "cell_type": "markdown",
      "metadata": {
        "id": "Jol0oyUYb2-9"
      },
      "source": [
        "การจัดการ Missing Value\n",
        "\n",
        "- ลบ record ที่เป็น missing (dropna)\n",
        "- แทนที่ ค่า missing ด้วยค่าที่เหมาะสม mean, default, category-unknown (fillna)\n",
        "- ใช้ ค่าจาก columns อื่นๆ ช่วยประมาณค่า ค่าใน column ที่หายไป (regression, deep learning, etc.) (fillna)"
      ]
    },
    {
      "cell_type": "code",
      "source": [
        "data1.shape"
      ],
      "metadata": {
        "id": "wJQ5Uy9_Fuf2"
      },
      "execution_count": null,
      "outputs": []
    },
    {
      "cell_type": "code",
      "source": [
        "data1.dropna().shape"
      ],
      "metadata": {
        "id": "aMD_lblLBwei"
      },
      "execution_count": null,
      "outputs": []
    },
    {
      "cell_type": "code",
      "source": [
        "data1.dropna(subset=['Fiscal_year']).shape"
      ],
      "metadata": {
        "id": "qL_NZn3qF4Jj"
      },
      "execution_count": null,
      "outputs": []
    },
    {
      "cell_type": "code",
      "source": [],
      "metadata": {
        "id": "Xt8deUIUF3qy"
      },
      "execution_count": null,
      "outputs": []
    },
    {
      "cell_type": "markdown",
      "metadata": {
        "id": "wedBfQPMePi6"
      },
      "source": [
        "### ลบ record (dropna)\n",
        "\n",
        "missing = ```None``` ```NA```(not autorized) ```NaN``` (not a number)"
      ]
    },
    {
      "cell_type": "code",
      "source": [
        "this_data"
      ],
      "metadata": {
        "id": "DagWgMmSC47b"
      },
      "execution_count": null,
      "outputs": []
    },
    {
      "cell_type": "code",
      "metadata": {
        "id": "x_f9i5-UePB-"
      },
      "source": [
        "this_data.shape #(12423, 3)"
      ],
      "execution_count": null,
      "outputs": []
    },
    {
      "cell_type": "code",
      "source": [
        "this_data.dropna()"
      ],
      "metadata": {
        "id": "1jUEAe7nDDxa"
      },
      "execution_count": null,
      "outputs": []
    },
    {
      "cell_type": "code",
      "metadata": {
        "id": "XHrGf2AUfSko"
      },
      "source": [
        "print(data_covid.shape)\n",
        "print(data_covid.dropna().shape)"
      ],
      "execution_count": null,
      "outputs": []
    },
    {
      "cell_type": "code",
      "source": [
        "this_data.dropna(subset=['age','sex'])"
      ],
      "metadata": {
        "id": "y2kDzWaPDkcH"
      },
      "execution_count": null,
      "outputs": []
    },
    {
      "cell_type": "code",
      "source": [
        "print(this_data.dropna().shape)\n",
        "print(this_data.dropna(subset=['sex','age']).shape)"
      ],
      "metadata": {
        "id": "TzVFFCWBDkQ4"
      },
      "execution_count": null,
      "outputs": []
    },
    {
      "cell_type": "markdown",
      "source": [
        "# ตรวจสอบ Missing (```isnull()```)"
      ],
      "metadata": {
        "id": "HT8aUn3kEzRI"
      }
    },
    {
      "cell_type": "code",
      "source": [
        "data1.isnull()"
      ],
      "metadata": {
        "id": "jm0kpFrRDkOM"
      },
      "execution_count": null,
      "outputs": []
    },
    {
      "cell_type": "code",
      "source": [
        "data1.isnull().any() # .any() เอาค่าความจริงใน column มา OR กัน"
      ],
      "metadata": {
        "id": "Xedt7QXqDkJ6"
      },
      "execution_count": null,
      "outputs": []
    },
    {
      "cell_type": "code",
      "source": [
        "data1.isnull().all() # .all() เอาค่าความจริงใน column มา AND กัน"
      ],
      "metadata": {
        "id": "D2OrckdlE5Ot"
      },
      "execution_count": null,
      "outputs": []
    },
    {
      "cell_type": "code",
      "source": [
        "this_data.isnull().any().any()"
      ],
      "metadata": {
        "id": "jTfgKcyiE5Dg"
      },
      "execution_count": null,
      "outputs": []
    },
    {
      "cell_type": "code",
      "source": [
        "this_data.dropna(subset=['sex','age']).isnull().any()"
      ],
      "metadata": {
        "id": "WAkQ3SPPE42d"
      },
      "execution_count": null,
      "outputs": []
    },
    {
      "cell_type": "code",
      "source": [
        "this_data.dropna(subset=['sex','age'])"
      ],
      "metadata": {
        "id": "jzKzRmS0HvKS"
      },
      "execution_count": null,
      "outputs": []
    },
    {
      "cell_type": "markdown",
      "source": [
        "### 1. เพื่อให้ได้ผลลัพธ์การจัดการ ```dropna()``` ต้องเอาตัวแปรมารับ"
      ],
      "metadata": {
        "id": "Zk1jlJifH4dr"
      }
    },
    {
      "cell_type": "code",
      "source": [
        "this_data_nonull = this_data.dropna(subset=['sex','age'])"
      ],
      "metadata": {
        "id": "Eel9ffG3IGVR"
      },
      "execution_count": null,
      "outputs": []
    },
    {
      "cell_type": "code",
      "source": [
        "this_data_nonull.isnull().any()"
      ],
      "metadata": {
        "id": "vuKKQdJGE4pr"
      },
      "execution_count": null,
      "outputs": []
    },
    {
      "cell_type": "markdown",
      "source": [
        "### 2. update ตารางด้วยตัวแปร ```inplace```"
      ],
      "metadata": {
        "id": "0t2Z-fDwITjk"
      }
    },
    {
      "cell_type": "code",
      "source": [
        "this_data.dropna(subset=['sex','age'],inplace=True)"
      ],
      "metadata": {
        "id": "J9xXSTGPIerx"
      },
      "execution_count": null,
      "outputs": []
    },
    {
      "cell_type": "code",
      "source": [
        "this_data.isnull().any()"
      ],
      "metadata": {
        "id": "xmXVdVexIebF"
      },
      "execution_count": null,
      "outputs": []
    },
    {
      "cell_type": "code",
      "source": [
        "aa = this_data.dropna(subset=['sex','age'],inplace=True)"
      ],
      "metadata": {
        "id": "JnDdRvgkJKIt"
      },
      "execution_count": null,
      "outputs": []
    },
    {
      "cell_type": "code",
      "source": [
        "aa"
      ],
      "metadata": {
        "id": "BKZ2ZQD9JQJd"
      },
      "execution_count": null,
      "outputs": []
    },
    {
      "cell_type": "markdown",
      "metadata": {
        "id": "m5hChDmpjkyN"
      },
      "source": [
        "### แทน missing ด้วยค่าที่เหมาะสม (```fillna()```)"
      ]
    },
    {
      "cell_type": "code",
      "metadata": {
        "id": "KvRsTv4umSnR"
      },
      "source": [
        "this_data = data_covid[['sex','age','province_of_onset']]"
      ],
      "execution_count": null,
      "outputs": []
    },
    {
      "cell_type": "code",
      "metadata": {
        "id": "8n1Qyl0ibKrL"
      },
      "source": [
        "this_data"
      ],
      "execution_count": null,
      "outputs": []
    },
    {
      "cell_type": "code",
      "metadata": {
        "id": "wnlhDEjpkgUr"
      },
      "source": [
        "print(f'จำนวน record ก่อน drop missing ใน province {this_data.shape[0]}')\n",
        "print(f'จำนวน record หลัง drop missing ใน province {this_data.dropna(subset=[\"province_of_onset\"]).shape[0]}')"
      ],
      "execution_count": null,
      "outputs": []
    },
    {
      "cell_type": "markdown",
      "source": [
        "### 1. แทนด้วย class ใหม่"
      ],
      "metadata": {
        "id": "VafsBJyuLzul"
      }
    },
    {
      "cell_type": "code",
      "metadata": {
        "id": "rFrzt9d7mZx4"
      },
      "source": [
        "this_data_updated = this_data.fillna(value={'sex':'ไม่รู้', 'age':-99, 'province_of_onset':'ไม่รู้'})\n",
        "this_data_updated.head()"
      ],
      "execution_count": null,
      "outputs": []
    },
    {
      "cell_type": "code",
      "source": [
        "this_data_updated.tail(15)"
      ],
      "metadata": {
        "id": "K-i3Ni62MCD_"
      },
      "execution_count": null,
      "outputs": []
    },
    {
      "cell_type": "code",
      "source": [
        "this_data_updated.isnull().any()"
      ],
      "metadata": {
        "id": "keFV6MJCLqAJ"
      },
      "execution_count": null,
      "outputs": []
    },
    {
      "cell_type": "markdown",
      "source": [
        "### 2. แทนด้วยค่าที่เหมาะสม\n",
        "\n",
        "\n",
        "*   ตามใจคนทำ\n",
        "*   ค่ากลาง\n",
        "\n"
      ],
      "metadata": {
        "id": "VqyI1LblMUx-"
      }
    },
    {
      "cell_type": "markdown",
      "source": [
        "#### ตามใจคนทำ"
      ],
      "metadata": {
        "id": "wHh1S-4KN_RZ"
      }
    },
    {
      "cell_type": "code",
      "source": [
        "data_covid.head()"
      ],
      "metadata": {
        "id": "F7UXHr-IMpyR"
      },
      "execution_count": null,
      "outputs": []
    },
    {
      "cell_type": "code",
      "source": [
        "data_covid_fillasiwant = data_covid.fillna(value={'sex':'หญิง'})  #เรามีข้อมูลว่า เพศหญิงมีเยอะกว่าเพศชาย"
      ],
      "metadata": {
        "id": "ExtImcdMMgTY"
      },
      "execution_count": null,
      "outputs": []
    },
    {
      "cell_type": "code",
      "source": [
        "data_covid_fillasiwant.isnull().any()"
      ],
      "metadata": {
        "id": "6GqvCJQSNUBd"
      },
      "execution_count": null,
      "outputs": []
    },
    {
      "cell_type": "markdown",
      "source": [
        "#### แทนด้วยค่ากลาง"
      ],
      "metadata": {
        "id": "01ChEOM6OCUs"
      }
    },
    {
      "cell_type": "code",
      "source": [
        "data_covid['age']"
      ],
      "metadata": {
        "id": "GODZ_S29OMi_"
      },
      "execution_count": null,
      "outputs": []
    },
    {
      "cell_type": "code",
      "source": [
        "data_covid['age'].mean()"
      ],
      "metadata": {
        "id": "CNX3z3EqOSLj"
      },
      "execution_count": null,
      "outputs": []
    },
    {
      "cell_type": "code",
      "source": [
        "data_covid_fillwithmean = data_covid.fillna(value={'age':data_covid['age'].mean()})"
      ],
      "metadata": {
        "id": "dm3aeX6zMf-o"
      },
      "execution_count": null,
      "outputs": []
    },
    {
      "cell_type": "code",
      "source": [
        "data_covid_fillwithmean.isnull().any()"
      ],
      "metadata": {
        "id": "Ixiwxl1tOmac"
      },
      "execution_count": null,
      "outputs": []
    },
    {
      "cell_type": "markdown",
      "source": [
        "## Hw3"
      ],
      "metadata": {
        "id": "L1eZn5Kt-ZPL"
      }
    },
    {
      "cell_type": "code",
      "source": [
        "data1.describe() # ใช้ตรวจสอบเบื้องต้นได้เลย"
      ],
      "metadata": {
        "id": "SUikxowH-ehp",
        "outputId": "505154d0-e788-4c66-c8de-0de50558040e",
        "colab": {
          "base_uri": "https://localhost:8080/",
          "height": 297
        }
      },
      "execution_count": 31,
      "outputs": [
        {
          "output_type": "execute_result",
          "data": {
            "text/plain": [
              "         Issue_No  Fiscal_year  Department_code  Approved_buget\n",
              "count  692.000000   692.000000     6.920000e+02    6.920000e+02\n",
              "mean     0.333815    64.543353     4.534202e+07    1.482811e+06\n",
              "std      0.474972     1.476149     1.303279e+07    2.464625e+06\n",
              "min      0.000000    62.000000     1.100000e+07    0.000000e+00\n",
              "25%      0.000000    63.000000     5.013000e+07    4.100000e+05\n",
              "50%      0.000000    65.000000     5.023000e+07    5.980000e+05\n",
              "75%      1.000000    66.000000     5.036000e+07    1.628250e+06\n",
              "max      2.000000    66.000000     5.050000e+07    2.850000e+07"
            ],
            "text/html": [
              "\n",
              "\n",
              "  <div id=\"df-1577f052-0ca5-4d20-9e2c-93965235b7ce\">\n",
              "    <div class=\"colab-df-container\">\n",
              "      <div>\n",
              "<style scoped>\n",
              "    .dataframe tbody tr th:only-of-type {\n",
              "        vertical-align: middle;\n",
              "    }\n",
              "\n",
              "    .dataframe tbody tr th {\n",
              "        vertical-align: top;\n",
              "    }\n",
              "\n",
              "    .dataframe thead th {\n",
              "        text-align: right;\n",
              "    }\n",
              "</style>\n",
              "<table border=\"1\" class=\"dataframe\">\n",
              "  <thead>\n",
              "    <tr style=\"text-align: right;\">\n",
              "      <th></th>\n",
              "      <th>Issue_No</th>\n",
              "      <th>Fiscal_year</th>\n",
              "      <th>Department_code</th>\n",
              "      <th>Approved_buget</th>\n",
              "    </tr>\n",
              "  </thead>\n",
              "  <tbody>\n",
              "    <tr>\n",
              "      <th>count</th>\n",
              "      <td>692.000000</td>\n",
              "      <td>692.000000</td>\n",
              "      <td>6.920000e+02</td>\n",
              "      <td>6.920000e+02</td>\n",
              "    </tr>\n",
              "    <tr>\n",
              "      <th>mean</th>\n",
              "      <td>0.333815</td>\n",
              "      <td>64.543353</td>\n",
              "      <td>4.534202e+07</td>\n",
              "      <td>1.482811e+06</td>\n",
              "    </tr>\n",
              "    <tr>\n",
              "      <th>std</th>\n",
              "      <td>0.474972</td>\n",
              "      <td>1.476149</td>\n",
              "      <td>1.303279e+07</td>\n",
              "      <td>2.464625e+06</td>\n",
              "    </tr>\n",
              "    <tr>\n",
              "      <th>min</th>\n",
              "      <td>0.000000</td>\n",
              "      <td>62.000000</td>\n",
              "      <td>1.100000e+07</td>\n",
              "      <td>0.000000e+00</td>\n",
              "    </tr>\n",
              "    <tr>\n",
              "      <th>25%</th>\n",
              "      <td>0.000000</td>\n",
              "      <td>63.000000</td>\n",
              "      <td>5.013000e+07</td>\n",
              "      <td>4.100000e+05</td>\n",
              "    </tr>\n",
              "    <tr>\n",
              "      <th>50%</th>\n",
              "      <td>0.000000</td>\n",
              "      <td>65.000000</td>\n",
              "      <td>5.023000e+07</td>\n",
              "      <td>5.980000e+05</td>\n",
              "    </tr>\n",
              "    <tr>\n",
              "      <th>75%</th>\n",
              "      <td>1.000000</td>\n",
              "      <td>66.000000</td>\n",
              "      <td>5.036000e+07</td>\n",
              "      <td>1.628250e+06</td>\n",
              "    </tr>\n",
              "    <tr>\n",
              "      <th>max</th>\n",
              "      <td>2.000000</td>\n",
              "      <td>66.000000</td>\n",
              "      <td>5.050000e+07</td>\n",
              "      <td>2.850000e+07</td>\n",
              "    </tr>\n",
              "  </tbody>\n",
              "</table>\n",
              "</div>\n",
              "      <button class=\"colab-df-convert\" onclick=\"convertToInteractive('df-1577f052-0ca5-4d20-9e2c-93965235b7ce')\"\n",
              "              title=\"Convert this dataframe to an interactive table.\"\n",
              "              style=\"display:none;\">\n",
              "\n",
              "  <svg xmlns=\"http://www.w3.org/2000/svg\" height=\"24px\"viewBox=\"0 0 24 24\"\n",
              "       width=\"24px\">\n",
              "    <path d=\"M0 0h24v24H0V0z\" fill=\"none\"/>\n",
              "    <path d=\"M18.56 5.44l.94 2.06.94-2.06 2.06-.94-2.06-.94-.94-2.06-.94 2.06-2.06.94zm-11 1L8.5 8.5l.94-2.06 2.06-.94-2.06-.94L8.5 2.5l-.94 2.06-2.06.94zm10 10l.94 2.06.94-2.06 2.06-.94-2.06-.94-.94-2.06-.94 2.06-2.06.94z\"/><path d=\"M17.41 7.96l-1.37-1.37c-.4-.4-.92-.59-1.43-.59-.52 0-1.04.2-1.43.59L10.3 9.45l-7.72 7.72c-.78.78-.78 2.05 0 2.83L4 21.41c.39.39.9.59 1.41.59.51 0 1.02-.2 1.41-.59l7.78-7.78 2.81-2.81c.8-.78.8-2.07 0-2.86zM5.41 20L4 18.59l7.72-7.72 1.47 1.35L5.41 20z\"/>\n",
              "  </svg>\n",
              "      </button>\n",
              "\n",
              "\n",
              "\n",
              "    <div id=\"df-21a17c9a-23ae-441d-82e4-4a262cd5f773\">\n",
              "      <button class=\"colab-df-quickchart\" onclick=\"quickchart('df-21a17c9a-23ae-441d-82e4-4a262cd5f773')\"\n",
              "              title=\"Suggest charts.\"\n",
              "              style=\"display:none;\">\n",
              "\n",
              "<svg xmlns=\"http://www.w3.org/2000/svg\" height=\"24px\"viewBox=\"0 0 24 24\"\n",
              "     width=\"24px\">\n",
              "    <g>\n",
              "        <path d=\"M19 3H5c-1.1 0-2 .9-2 2v14c0 1.1.9 2 2 2h14c1.1 0 2-.9 2-2V5c0-1.1-.9-2-2-2zM9 17H7v-7h2v7zm4 0h-2V7h2v10zm4 0h-2v-4h2v4z\"/>\n",
              "    </g>\n",
              "</svg>\n",
              "      </button>\n",
              "    </div>\n",
              "\n",
              "<style>\n",
              "  .colab-df-quickchart {\n",
              "    background-color: #E8F0FE;\n",
              "    border: none;\n",
              "    border-radius: 50%;\n",
              "    cursor: pointer;\n",
              "    display: none;\n",
              "    fill: #1967D2;\n",
              "    height: 32px;\n",
              "    padding: 0 0 0 0;\n",
              "    width: 32px;\n",
              "  }\n",
              "\n",
              "  .colab-df-quickchart:hover {\n",
              "    background-color: #E2EBFA;\n",
              "    box-shadow: 0px 1px 2px rgba(60, 64, 67, 0.3), 0px 1px 3px 1px rgba(60, 64, 67, 0.15);\n",
              "    fill: #174EA6;\n",
              "  }\n",
              "\n",
              "  [theme=dark] .colab-df-quickchart {\n",
              "    background-color: #3B4455;\n",
              "    fill: #D2E3FC;\n",
              "  }\n",
              "\n",
              "  [theme=dark] .colab-df-quickchart:hover {\n",
              "    background-color: #434B5C;\n",
              "    box-shadow: 0px 1px 3px 1px rgba(0, 0, 0, 0.15);\n",
              "    filter: drop-shadow(0px 1px 2px rgba(0, 0, 0, 0.3));\n",
              "    fill: #FFFFFF;\n",
              "  }\n",
              "</style>\n",
              "\n",
              "    <script>\n",
              "      async function quickchart(key) {\n",
              "        const containerElement = document.querySelector('#' + key);\n",
              "        const charts = await google.colab.kernel.invokeFunction(\n",
              "            'suggestCharts', [key], {});\n",
              "      }\n",
              "    </script>\n",
              "\n",
              "      <script>\n",
              "\n",
              "function displayQuickchartButton(domScope) {\n",
              "  let quickchartButtonEl =\n",
              "    domScope.querySelector('#df-21a17c9a-23ae-441d-82e4-4a262cd5f773 button.colab-df-quickchart');\n",
              "  quickchartButtonEl.style.display =\n",
              "    google.colab.kernel.accessAllowed ? 'block' : 'none';\n",
              "}\n",
              "\n",
              "        displayQuickchartButton(document);\n",
              "      </script>\n",
              "      <style>\n",
              "    .colab-df-container {\n",
              "      display:flex;\n",
              "      flex-wrap:wrap;\n",
              "      gap: 12px;\n",
              "    }\n",
              "\n",
              "    .colab-df-convert {\n",
              "      background-color: #E8F0FE;\n",
              "      border: none;\n",
              "      border-radius: 50%;\n",
              "      cursor: pointer;\n",
              "      display: none;\n",
              "      fill: #1967D2;\n",
              "      height: 32px;\n",
              "      padding: 0 0 0 0;\n",
              "      width: 32px;\n",
              "    }\n",
              "\n",
              "    .colab-df-convert:hover {\n",
              "      background-color: #E2EBFA;\n",
              "      box-shadow: 0px 1px 2px rgba(60, 64, 67, 0.3), 0px 1px 3px 1px rgba(60, 64, 67, 0.15);\n",
              "      fill: #174EA6;\n",
              "    }\n",
              "\n",
              "    [theme=dark] .colab-df-convert {\n",
              "      background-color: #3B4455;\n",
              "      fill: #D2E3FC;\n",
              "    }\n",
              "\n",
              "    [theme=dark] .colab-df-convert:hover {\n",
              "      background-color: #434B5C;\n",
              "      box-shadow: 0px 1px 3px 1px rgba(0, 0, 0, 0.15);\n",
              "      filter: drop-shadow(0px 1px 2px rgba(0, 0, 0, 0.3));\n",
              "      fill: #FFFFFF;\n",
              "    }\n",
              "  </style>\n",
              "\n",
              "      <script>\n",
              "        const buttonEl =\n",
              "          document.querySelector('#df-1577f052-0ca5-4d20-9e2c-93965235b7ce button.colab-df-convert');\n",
              "        buttonEl.style.display =\n",
              "          google.colab.kernel.accessAllowed ? 'block' : 'none';\n",
              "\n",
              "        async function convertToInteractive(key) {\n",
              "          const element = document.querySelector('#df-1577f052-0ca5-4d20-9e2c-93965235b7ce');\n",
              "          const dataTable =\n",
              "            await google.colab.kernel.invokeFunction('convertToInteractive',\n",
              "                                                     [key], {});\n",
              "          if (!dataTable) return;\n",
              "\n",
              "          const docLinkHtml = 'Like what you see? Visit the ' +\n",
              "            '<a target=\"_blank\" href=https://colab.research.google.com/notebooks/data_table.ipynb>data table notebook</a>'\n",
              "            + ' to learn more about interactive tables.';\n",
              "          element.innerHTML = '';\n",
              "          dataTable['output_type'] = 'display_data';\n",
              "          await google.colab.output.renderOutput(dataTable, element);\n",
              "          const docLink = document.createElement('div');\n",
              "          docLink.innerHTML = docLinkHtml;\n",
              "          element.appendChild(docLink);\n",
              "        }\n",
              "      </script>\n",
              "    </div>\n",
              "  </div>\n"
            ]
          },
          "metadata": {},
          "execution_count": 31
        }
      ]
    },
    {
      "cell_type": "code",
      "source": [
        "data1.columns"
      ],
      "metadata": {
        "id": "JqwaG-GB_mwB",
        "outputId": "ef6bbfc8-fe2a-43a9-9b15-60999ec6b1d5",
        "colab": {
          "base_uri": "https://localhost:8080/"
        }
      },
      "execution_count": 32,
      "outputs": [
        {
          "output_type": "execute_result",
          "data": {
            "text/plain": [
              "Index(['Budget_resource', 'Issue_No', 'Fiscal_year', 'Department_code',\n",
              "       'Department', 'Core_budget_code', 'Expenditure_category', 'Item_name',\n",
              "       'Approved_buget'],\n",
              "      dtype='object')"
            ]
          },
          "metadata": {},
          "execution_count": 32
        }
      ]
    },
    {
      "cell_type": "markdown",
      "source": [
        "##ข้อ1"
      ],
      "metadata": {
        "id": "4fIUzbBj_uoc"
      }
    },
    {
      "cell_type": "code",
      "source": [
        "min_data1 = data1['Approved_buget'].min()\n",
        "max_data1 =data1['Approved_buget'].max()\n",
        "data1[(data1['Approved_buget'] == max_data1)| (data1['Approved_buget'] == min_data1)]"
      ],
      "metadata": {
        "id": "S-PitvgI_zZK",
        "outputId": "d17f3e40-f90e-49ce-f855-6d9eda69999d",
        "colab": {
          "base_uri": "https://localhost:8080/",
          "height": 543
        }
      },
      "execution_count": 33,
      "outputs": [
        {
          "output_type": "execute_result",
          "data": {
            "text/plain": [
              "    Budget_resource  Issue_No  Fiscal_year  Department_code  \\\n",
              "576     งบเพิ่มเติม         1           66         11000000   \n",
              "612     งบเพิ่มเติม         1           66         50180000   \n",
              "613     งบเพิ่มเติม         1           66         50180000   \n",
              "631     งบเพิ่มเติม         1           66         50240000   \n",
              "\n",
              "                 Department Core_budget_code Expenditure_category  \\\n",
              "576        สำนักการระบายน้ำ              NaN              งบลงทุน   \n",
              "612       สำนักงานเขตธนบุรี              NaN              งบลงทุน   \n",
              "613       สำนักงานเขตธนบุรี              NaN              งบลงทุน   \n",
              "631  สำนักงานเขตราษฎร์บูรณะ              NaN              งบลงทุน   \n",
              "\n",
              "                                             Item_name  Approved_buget  \n",
              "576  ขุดลอกคลองพระยาสุเรนทร์ จากคลองหกวาถึงคลองบางช...        28500000  \n",
              "612  ขุดลอกลำกระโดงอำนวยสุข จากคลองบางกอกใหญ่ถึงสุด...               0  \n",
              "613  ขุดลอกคลองแยกวัดประดู่ จากคลองบางกอกใหญ่ถึงคลอ...               0  \n",
              "631   ขุดลอกคลองต้นโศกจากคลองราษฎร์บูรณะถึงคลองแจงร้อน               0  "
            ],
            "text/html": [
              "\n",
              "\n",
              "  <div id=\"df-50695a7e-7442-4988-ba61-654d6423442d\">\n",
              "    <div class=\"colab-df-container\">\n",
              "      <div>\n",
              "<style scoped>\n",
              "    .dataframe tbody tr th:only-of-type {\n",
              "        vertical-align: middle;\n",
              "    }\n",
              "\n",
              "    .dataframe tbody tr th {\n",
              "        vertical-align: top;\n",
              "    }\n",
              "\n",
              "    .dataframe thead th {\n",
              "        text-align: right;\n",
              "    }\n",
              "</style>\n",
              "<table border=\"1\" class=\"dataframe\">\n",
              "  <thead>\n",
              "    <tr style=\"text-align: right;\">\n",
              "      <th></th>\n",
              "      <th>Budget_resource</th>\n",
              "      <th>Issue_No</th>\n",
              "      <th>Fiscal_year</th>\n",
              "      <th>Department_code</th>\n",
              "      <th>Department</th>\n",
              "      <th>Core_budget_code</th>\n",
              "      <th>Expenditure_category</th>\n",
              "      <th>Item_name</th>\n",
              "      <th>Approved_buget</th>\n",
              "    </tr>\n",
              "  </thead>\n",
              "  <tbody>\n",
              "    <tr>\n",
              "      <th>576</th>\n",
              "      <td>งบเพิ่มเติม</td>\n",
              "      <td>1</td>\n",
              "      <td>66</td>\n",
              "      <td>11000000</td>\n",
              "      <td>สำนักการระบายน้ำ</td>\n",
              "      <td>NaN</td>\n",
              "      <td>งบลงทุน</td>\n",
              "      <td>ขุดลอกคลองพระยาสุเรนทร์ จากคลองหกวาถึงคลองบางช...</td>\n",
              "      <td>28500000</td>\n",
              "    </tr>\n",
              "    <tr>\n",
              "      <th>612</th>\n",
              "      <td>งบเพิ่มเติม</td>\n",
              "      <td>1</td>\n",
              "      <td>66</td>\n",
              "      <td>50180000</td>\n",
              "      <td>สำนักงานเขตธนบุรี</td>\n",
              "      <td>NaN</td>\n",
              "      <td>งบลงทุน</td>\n",
              "      <td>ขุดลอกลำกระโดงอำนวยสุข จากคลองบางกอกใหญ่ถึงสุด...</td>\n",
              "      <td>0</td>\n",
              "    </tr>\n",
              "    <tr>\n",
              "      <th>613</th>\n",
              "      <td>งบเพิ่มเติม</td>\n",
              "      <td>1</td>\n",
              "      <td>66</td>\n",
              "      <td>50180000</td>\n",
              "      <td>สำนักงานเขตธนบุรี</td>\n",
              "      <td>NaN</td>\n",
              "      <td>งบลงทุน</td>\n",
              "      <td>ขุดลอกคลองแยกวัดประดู่ จากคลองบางกอกใหญ่ถึงคลอ...</td>\n",
              "      <td>0</td>\n",
              "    </tr>\n",
              "    <tr>\n",
              "      <th>631</th>\n",
              "      <td>งบเพิ่มเติม</td>\n",
              "      <td>1</td>\n",
              "      <td>66</td>\n",
              "      <td>50240000</td>\n",
              "      <td>สำนักงานเขตราษฎร์บูรณะ</td>\n",
              "      <td>NaN</td>\n",
              "      <td>งบลงทุน</td>\n",
              "      <td>ขุดลอกคลองต้นโศกจากคลองราษฎร์บูรณะถึงคลองแจงร้อน</td>\n",
              "      <td>0</td>\n",
              "    </tr>\n",
              "  </tbody>\n",
              "</table>\n",
              "</div>\n",
              "      <button class=\"colab-df-convert\" onclick=\"convertToInteractive('df-50695a7e-7442-4988-ba61-654d6423442d')\"\n",
              "              title=\"Convert this dataframe to an interactive table.\"\n",
              "              style=\"display:none;\">\n",
              "\n",
              "  <svg xmlns=\"http://www.w3.org/2000/svg\" height=\"24px\"viewBox=\"0 0 24 24\"\n",
              "       width=\"24px\">\n",
              "    <path d=\"M0 0h24v24H0V0z\" fill=\"none\"/>\n",
              "    <path d=\"M18.56 5.44l.94 2.06.94-2.06 2.06-.94-2.06-.94-.94-2.06-.94 2.06-2.06.94zm-11 1L8.5 8.5l.94-2.06 2.06-.94-2.06-.94L8.5 2.5l-.94 2.06-2.06.94zm10 10l.94 2.06.94-2.06 2.06-.94-2.06-.94-.94-2.06-.94 2.06-2.06.94z\"/><path d=\"M17.41 7.96l-1.37-1.37c-.4-.4-.92-.59-1.43-.59-.52 0-1.04.2-1.43.59L10.3 9.45l-7.72 7.72c-.78.78-.78 2.05 0 2.83L4 21.41c.39.39.9.59 1.41.59.51 0 1.02-.2 1.41-.59l7.78-7.78 2.81-2.81c.8-.78.8-2.07 0-2.86zM5.41 20L4 18.59l7.72-7.72 1.47 1.35L5.41 20z\"/>\n",
              "  </svg>\n",
              "      </button>\n",
              "\n",
              "\n",
              "\n",
              "    <div id=\"df-d20285ef-e011-4aa5-a2df-6cc0445101a9\">\n",
              "      <button class=\"colab-df-quickchart\" onclick=\"quickchart('df-d20285ef-e011-4aa5-a2df-6cc0445101a9')\"\n",
              "              title=\"Suggest charts.\"\n",
              "              style=\"display:none;\">\n",
              "\n",
              "<svg xmlns=\"http://www.w3.org/2000/svg\" height=\"24px\"viewBox=\"0 0 24 24\"\n",
              "     width=\"24px\">\n",
              "    <g>\n",
              "        <path d=\"M19 3H5c-1.1 0-2 .9-2 2v14c0 1.1.9 2 2 2h14c1.1 0 2-.9 2-2V5c0-1.1-.9-2-2-2zM9 17H7v-7h2v7zm4 0h-2V7h2v10zm4 0h-2v-4h2v4z\"/>\n",
              "    </g>\n",
              "</svg>\n",
              "      </button>\n",
              "    </div>\n",
              "\n",
              "<style>\n",
              "  .colab-df-quickchart {\n",
              "    background-color: #E8F0FE;\n",
              "    border: none;\n",
              "    border-radius: 50%;\n",
              "    cursor: pointer;\n",
              "    display: none;\n",
              "    fill: #1967D2;\n",
              "    height: 32px;\n",
              "    padding: 0 0 0 0;\n",
              "    width: 32px;\n",
              "  }\n",
              "\n",
              "  .colab-df-quickchart:hover {\n",
              "    background-color: #E2EBFA;\n",
              "    box-shadow: 0px 1px 2px rgba(60, 64, 67, 0.3), 0px 1px 3px 1px rgba(60, 64, 67, 0.15);\n",
              "    fill: #174EA6;\n",
              "  }\n",
              "\n",
              "  [theme=dark] .colab-df-quickchart {\n",
              "    background-color: #3B4455;\n",
              "    fill: #D2E3FC;\n",
              "  }\n",
              "\n",
              "  [theme=dark] .colab-df-quickchart:hover {\n",
              "    background-color: #434B5C;\n",
              "    box-shadow: 0px 1px 3px 1px rgba(0, 0, 0, 0.15);\n",
              "    filter: drop-shadow(0px 1px 2px rgba(0, 0, 0, 0.3));\n",
              "    fill: #FFFFFF;\n",
              "  }\n",
              "</style>\n",
              "\n",
              "    <script>\n",
              "      async function quickchart(key) {\n",
              "        const containerElement = document.querySelector('#' + key);\n",
              "        const charts = await google.colab.kernel.invokeFunction(\n",
              "            'suggestCharts', [key], {});\n",
              "      }\n",
              "    </script>\n",
              "\n",
              "      <script>\n",
              "\n",
              "function displayQuickchartButton(domScope) {\n",
              "  let quickchartButtonEl =\n",
              "    domScope.querySelector('#df-d20285ef-e011-4aa5-a2df-6cc0445101a9 button.colab-df-quickchart');\n",
              "  quickchartButtonEl.style.display =\n",
              "    google.colab.kernel.accessAllowed ? 'block' : 'none';\n",
              "}\n",
              "\n",
              "        displayQuickchartButton(document);\n",
              "      </script>\n",
              "      <style>\n",
              "    .colab-df-container {\n",
              "      display:flex;\n",
              "      flex-wrap:wrap;\n",
              "      gap: 12px;\n",
              "    }\n",
              "\n",
              "    .colab-df-convert {\n",
              "      background-color: #E8F0FE;\n",
              "      border: none;\n",
              "      border-radius: 50%;\n",
              "      cursor: pointer;\n",
              "      display: none;\n",
              "      fill: #1967D2;\n",
              "      height: 32px;\n",
              "      padding: 0 0 0 0;\n",
              "      width: 32px;\n",
              "    }\n",
              "\n",
              "    .colab-df-convert:hover {\n",
              "      background-color: #E2EBFA;\n",
              "      box-shadow: 0px 1px 2px rgba(60, 64, 67, 0.3), 0px 1px 3px 1px rgba(60, 64, 67, 0.15);\n",
              "      fill: #174EA6;\n",
              "    }\n",
              "\n",
              "    [theme=dark] .colab-df-convert {\n",
              "      background-color: #3B4455;\n",
              "      fill: #D2E3FC;\n",
              "    }\n",
              "\n",
              "    [theme=dark] .colab-df-convert:hover {\n",
              "      background-color: #434B5C;\n",
              "      box-shadow: 0px 1px 3px 1px rgba(0, 0, 0, 0.15);\n",
              "      filter: drop-shadow(0px 1px 2px rgba(0, 0, 0, 0.3));\n",
              "      fill: #FFFFFF;\n",
              "    }\n",
              "  </style>\n",
              "\n",
              "      <script>\n",
              "        const buttonEl =\n",
              "          document.querySelector('#df-50695a7e-7442-4988-ba61-654d6423442d button.colab-df-convert');\n",
              "        buttonEl.style.display =\n",
              "          google.colab.kernel.accessAllowed ? 'block' : 'none';\n",
              "\n",
              "        async function convertToInteractive(key) {\n",
              "          const element = document.querySelector('#df-50695a7e-7442-4988-ba61-654d6423442d');\n",
              "          const dataTable =\n",
              "            await google.colab.kernel.invokeFunction('convertToInteractive',\n",
              "                                                     [key], {});\n",
              "          if (!dataTable) return;\n",
              "\n",
              "          const docLinkHtml = 'Like what you see? Visit the ' +\n",
              "            '<a target=\"_blank\" href=https://colab.research.google.com/notebooks/data_table.ipynb>data table notebook</a>'\n",
              "            + ' to learn more about interactive tables.';\n",
              "          element.innerHTML = '';\n",
              "          dataTable['output_type'] = 'display_data';\n",
              "          await google.colab.output.renderOutput(dataTable, element);\n",
              "          const docLink = document.createElement('div');\n",
              "          docLink.innerHTML = docLinkHtml;\n",
              "          element.appendChild(docLink);\n",
              "        }\n",
              "      </script>\n",
              "    </div>\n",
              "  </div>\n"
            ]
          },
          "metadata": {},
          "execution_count": 33
        }
      ]
    },
    {
      "cell_type": "markdown",
      "source": [
        "##ข้อ2"
      ],
      "metadata": {
        "id": "av4nFvlx_5M8"
      }
    },
    {
      "cell_type": "code",
      "source": [
        "data1[(data1['Department'] == 'สำนักงานเขตคลองสาน') | (data1['Department'] == 'สำนักงานเขตคลองสามวา')]"
      ],
      "metadata": {
        "id": "fA7EQ-gi__mc",
        "outputId": "e8868636-6917-4d7e-d680-cb620154d2ec",
        "colab": {
          "base_uri": "https://localhost:8080/",
          "height": 1000
        }
      },
      "execution_count": 34,
      "outputs": [
        {
          "output_type": "execute_result",
          "data": {
            "text/plain": [
              "    Budget_resource  Issue_No  Fiscal_year  Department_code  \\\n",
              "57        งบประจำปี         0           62         50170000   \n",
              "58        งบประจำปี         0           62         50170000   \n",
              "59        งบประจำปี         0           62         50170000   \n",
              "122       งบประจำปี         0           63         50170000   \n",
              "123       งบประจำปี         0           63         50170000   \n",
              "212       งบประจำปี         0           64         50170000   \n",
              "213       งบประจำปี         0           64         50170000   \n",
              "214       งบประจำปี         0           64         50170000   \n",
              "215       งบประจำปี         0           64         50170000   \n",
              "252       งบประจำปี         0           64         50460000   \n",
              "253       งบประจำปี         0           64         50460000   \n",
              "271       งบประจำปี         0           65         50170000   \n",
              "400     งบเพิ่มเติม         1           65         50460000   \n",
              "401     งบเพิ่มเติม         1           65         50460000   \n",
              "402     งบเพิ่มเติม         1           65         50460000   \n",
              "403     งบเพิ่มเติม         1           65         50460000   \n",
              "404     งบเพิ่มเติม         1           65         50460000   \n",
              "441       งบประจำปี         0           66         50170000   \n",
              "442       งบประจำปี         0           66         50170000   \n",
              "443       งบประจำปี         0           66         50170000   \n",
              "681     งบเพิ่มเติม         1           66         50460000   \n",
              "682     งบเพิ่มเติม         1           66         50460000   \n",
              "683     งบเพิ่มเติม         1           66         50460000   \n",
              "684     งบเพิ่มเติม         1           66         50460000   \n",
              "685     งบเพิ่มเติม         1           66         50460000   \n",
              "686     งบเพิ่มเติม         1           66         50460000   \n",
              "687     งบเพิ่มเติม         1           66         50460000   \n",
              "688     งบเพิ่มเติม         1           66         50460000   \n",
              "689     งบเพิ่มเติม         1           66         50460000   \n",
              "690     งบเพิ่มเติม         1           66         50460000   \n",
              "\n",
              "               Department Core_budget_code Expenditure_category  \\\n",
              "57     สำนักงานเขตคลองสาน                -              งบลงทุน   \n",
              "58     สำนักงานเขตคลองสาน                -              งบลงทุน   \n",
              "59     สำนักงานเขตคลองสาน                -              งบลงทุน   \n",
              "122    สำนักงานเขตคลองสาน                -              งบลงทุน   \n",
              "123    สำนักงานเขตคลองสาน                -              งบลงทุน   \n",
              "212    สำนักงานเขตคลองสาน                -              งบลงทุน   \n",
              "213    สำนักงานเขตคลองสาน                -              งบลงทุน   \n",
              "214    สำนักงานเขตคลองสาน                -              งบลงทุน   \n",
              "215    สำนักงานเขตคลองสาน                -              งบลงทุน   \n",
              "252  สำนักงานเขตคลองสามวา                -              งบลงทุน   \n",
              "253  สำนักงานเขตคลองสามวา                -              งบลงทุน   \n",
              "271    สำนักงานเขตคลองสาน              NaN              งบลงทุน   \n",
              "400  สำนักงานเขตคลองสามวา              NaN              งบลงทุน   \n",
              "401  สำนักงานเขตคลองสามวา              NaN              งบลงทุน   \n",
              "402  สำนักงานเขตคลองสามวา              NaN              งบลงทุน   \n",
              "403  สำนักงานเขตคลองสามวา              NaN              งบลงทุน   \n",
              "404  สำนักงานเขตคลองสามวา              NaN              งบลงทุน   \n",
              "441    สำนักงานเขตคลองสาน              NaN              งบลงทุน   \n",
              "442    สำนักงานเขตคลองสาน              NaN              งบลงทุน   \n",
              "443    สำนักงานเขตคลองสาน              NaN              งบลงทุน   \n",
              "681  สำนักงานเขตคลองสามวา              NaN              งบลงทุน   \n",
              "682  สำนักงานเขตคลองสามวา              NaN              งบลงทุน   \n",
              "683  สำนักงานเขตคลองสามวา              NaN              งบลงทุน   \n",
              "684  สำนักงานเขตคลองสามวา              NaN              งบลงทุน   \n",
              "685  สำนักงานเขตคลองสามวา              NaN              งบลงทุน   \n",
              "686  สำนักงานเขตคลองสามวา              NaN              งบลงทุน   \n",
              "687  สำนักงานเขตคลองสามวา              NaN              งบลงทุน   \n",
              "688  สำนักงานเขตคลองสามวา              NaN              งบลงทุน   \n",
              "689  สำนักงานเขตคลองสามวา              NaN              งบลงทุน   \n",
              "690  สำนักงานเขตคลองสามวา              NaN              งบลงทุน   \n",
              "\n",
              "                                             Item_name  Approved_buget  \n",
              "57                                  ขุดลอกคูน้ำสารภี 1          513000  \n",
              "58                             ขุดลอกคลองวัดทองเพลง\\n          2218000  \n",
              "59   ขุดลอกลำกระโดงชุมชนสองร้อยห้อง\\nจากบริเวณบ้านเ...           89000  \n",
              "122  ขุดลอกคลองวัดทองธรรมชาติและคลองแยกคลองวัดทองธร...          500000  \n",
              "123                                   ขุดลอกคลองโรงปลา           90000  \n",
              "212                         ขุดลอกลำกระโดงซอยอิสรภาพ 3          162000  \n",
              "213       ขุดลอกคลองหลังวัดพิชัยญาติและคลองวัดน้อยเก่า          209000  \n",
              "214                                ขุดลอกคลองพระยาเกษม          487000  \n",
              "215                    ขุดลอกคลองข้างโรงเรียนปทุมวิทยา           80000  \n",
              "252  ขุดลอกคลองสามตะวันตก จากคลองสามวา ถึงคลองพระยา...         6236000  \n",
              "253  ขุดลอกคลองสี่ตะวันตก จากคลองสามวา ถึงคลองพระยา...         5815000  \n",
              "271  ขุดลอกคลองวัดน้อยใหม่จากแยกบ้านแขกถึงคลองสมเด็...          659000  \n",
              "400  ขุดลอกลำรางวัดแป้นทอง จากคลองสี่ตะวันตก ถึงคลอ...         1246200  \n",
              "401  ขุดลอกลำรางครูพัว จากคลองสองตะวันตก ถึงคลองหนึ...          542200  \n",
              "402     ขุดลอกลำรางตาชม จากคลองลำควายตาย ถึงคลองบางชัน          452300  \n",
              "403  ขุดลอกคลองเจ๊ก จากคลองหนึ่งตะวันตก ถึงสุดเขตคล...         1204500  \n",
              "404  ขุดลอกคลองซอยเชื่อมคลองลำแบนกับคลองหนองระแหง จ...          453600  \n",
              "441  ขุดลอกคลองโรงหนัง จากคลองบางไส้ไก่ถึงแม่น้ำเจ้...         1325000  \n",
              "442  ขุดลอกคลองข้างโรงน้ำแข็ง จากสุดระยะคลองถึงแม่น...          358000  \n",
              "443  ขุดลอกคลองข้างวัดอนงค์ จากคลองหลัง\\nวัดพิชัยญา...          205000  \n",
              "681                                   ขุดลอกลำรางตาเชย         3559000  \n",
              "682                              ขุดลอกลำรางไทยเอราวัณ         3494000  \n",
              "683                             ขุดลอกคลองหนึ่งตะวันตก         4330000  \n",
              "684                               ขุดลอกคลองสองตะวันตก         9832000  \n",
              "685                                   ขุดลอกคลองกีบหมู         2925000  \n",
              "686                                 ขุดลอกคลองลำกะโหลก         3875000  \n",
              "687                                 ขุดลอกคลองผักกะเฉด         3686000  \n",
              "688                            ขุดลอกคลองบึงทรายกองดิน         2575000  \n",
              "689                                  ขุดลอกลำรางซาฟารี          689000  \n",
              "690                                ขุดลอกลำรางตาจันทร์          464000  "
            ],
            "text/html": [
              "\n",
              "\n",
              "  <div id=\"df-1e24deb4-39e6-4fa3-a0fc-c916f298bd5e\">\n",
              "    <div class=\"colab-df-container\">\n",
              "      <div>\n",
              "<style scoped>\n",
              "    .dataframe tbody tr th:only-of-type {\n",
              "        vertical-align: middle;\n",
              "    }\n",
              "\n",
              "    .dataframe tbody tr th {\n",
              "        vertical-align: top;\n",
              "    }\n",
              "\n",
              "    .dataframe thead th {\n",
              "        text-align: right;\n",
              "    }\n",
              "</style>\n",
              "<table border=\"1\" class=\"dataframe\">\n",
              "  <thead>\n",
              "    <tr style=\"text-align: right;\">\n",
              "      <th></th>\n",
              "      <th>Budget_resource</th>\n",
              "      <th>Issue_No</th>\n",
              "      <th>Fiscal_year</th>\n",
              "      <th>Department_code</th>\n",
              "      <th>Department</th>\n",
              "      <th>Core_budget_code</th>\n",
              "      <th>Expenditure_category</th>\n",
              "      <th>Item_name</th>\n",
              "      <th>Approved_buget</th>\n",
              "    </tr>\n",
              "  </thead>\n",
              "  <tbody>\n",
              "    <tr>\n",
              "      <th>57</th>\n",
              "      <td>งบประจำปี</td>\n",
              "      <td>0</td>\n",
              "      <td>62</td>\n",
              "      <td>50170000</td>\n",
              "      <td>สำนักงานเขตคลองสาน</td>\n",
              "      <td>-</td>\n",
              "      <td>งบลงทุน</td>\n",
              "      <td>ขุดลอกคูน้ำสารภี 1</td>\n",
              "      <td>513000</td>\n",
              "    </tr>\n",
              "    <tr>\n",
              "      <th>58</th>\n",
              "      <td>งบประจำปี</td>\n",
              "      <td>0</td>\n",
              "      <td>62</td>\n",
              "      <td>50170000</td>\n",
              "      <td>สำนักงานเขตคลองสาน</td>\n",
              "      <td>-</td>\n",
              "      <td>งบลงทุน</td>\n",
              "      <td>ขุดลอกคลองวัดทองเพลง\\n</td>\n",
              "      <td>2218000</td>\n",
              "    </tr>\n",
              "    <tr>\n",
              "      <th>59</th>\n",
              "      <td>งบประจำปี</td>\n",
              "      <td>0</td>\n",
              "      <td>62</td>\n",
              "      <td>50170000</td>\n",
              "      <td>สำนักงานเขตคลองสาน</td>\n",
              "      <td>-</td>\n",
              "      <td>งบลงทุน</td>\n",
              "      <td>ขุดลอกลำกระโดงชุมชนสองร้อยห้อง\\nจากบริเวณบ้านเ...</td>\n",
              "      <td>89000</td>\n",
              "    </tr>\n",
              "    <tr>\n",
              "      <th>122</th>\n",
              "      <td>งบประจำปี</td>\n",
              "      <td>0</td>\n",
              "      <td>63</td>\n",
              "      <td>50170000</td>\n",
              "      <td>สำนักงานเขตคลองสาน</td>\n",
              "      <td>-</td>\n",
              "      <td>งบลงทุน</td>\n",
              "      <td>ขุดลอกคลองวัดทองธรรมชาติและคลองแยกคลองวัดทองธร...</td>\n",
              "      <td>500000</td>\n",
              "    </tr>\n",
              "    <tr>\n",
              "      <th>123</th>\n",
              "      <td>งบประจำปี</td>\n",
              "      <td>0</td>\n",
              "      <td>63</td>\n",
              "      <td>50170000</td>\n",
              "      <td>สำนักงานเขตคลองสาน</td>\n",
              "      <td>-</td>\n",
              "      <td>งบลงทุน</td>\n",
              "      <td>ขุดลอกคลองโรงปลา</td>\n",
              "      <td>90000</td>\n",
              "    </tr>\n",
              "    <tr>\n",
              "      <th>212</th>\n",
              "      <td>งบประจำปี</td>\n",
              "      <td>0</td>\n",
              "      <td>64</td>\n",
              "      <td>50170000</td>\n",
              "      <td>สำนักงานเขตคลองสาน</td>\n",
              "      <td>-</td>\n",
              "      <td>งบลงทุน</td>\n",
              "      <td>ขุดลอกลำกระโดงซอยอิสรภาพ 3</td>\n",
              "      <td>162000</td>\n",
              "    </tr>\n",
              "    <tr>\n",
              "      <th>213</th>\n",
              "      <td>งบประจำปี</td>\n",
              "      <td>0</td>\n",
              "      <td>64</td>\n",
              "      <td>50170000</td>\n",
              "      <td>สำนักงานเขตคลองสาน</td>\n",
              "      <td>-</td>\n",
              "      <td>งบลงทุน</td>\n",
              "      <td>ขุดลอกคลองหลังวัดพิชัยญาติและคลองวัดน้อยเก่า</td>\n",
              "      <td>209000</td>\n",
              "    </tr>\n",
              "    <tr>\n",
              "      <th>214</th>\n",
              "      <td>งบประจำปี</td>\n",
              "      <td>0</td>\n",
              "      <td>64</td>\n",
              "      <td>50170000</td>\n",
              "      <td>สำนักงานเขตคลองสาน</td>\n",
              "      <td>-</td>\n",
              "      <td>งบลงทุน</td>\n",
              "      <td>ขุดลอกคลองพระยาเกษม</td>\n",
              "      <td>487000</td>\n",
              "    </tr>\n",
              "    <tr>\n",
              "      <th>215</th>\n",
              "      <td>งบประจำปี</td>\n",
              "      <td>0</td>\n",
              "      <td>64</td>\n",
              "      <td>50170000</td>\n",
              "      <td>สำนักงานเขตคลองสาน</td>\n",
              "      <td>-</td>\n",
              "      <td>งบลงทุน</td>\n",
              "      <td>ขุดลอกคลองข้างโรงเรียนปทุมวิทยา</td>\n",
              "      <td>80000</td>\n",
              "    </tr>\n",
              "    <tr>\n",
              "      <th>252</th>\n",
              "      <td>งบประจำปี</td>\n",
              "      <td>0</td>\n",
              "      <td>64</td>\n",
              "      <td>50460000</td>\n",
              "      <td>สำนักงานเขตคลองสามวา</td>\n",
              "      <td>-</td>\n",
              "      <td>งบลงทุน</td>\n",
              "      <td>ขุดลอกคลองสามตะวันตก จากคลองสามวา ถึงคลองพระยา...</td>\n",
              "      <td>6236000</td>\n",
              "    </tr>\n",
              "    <tr>\n",
              "      <th>253</th>\n",
              "      <td>งบประจำปี</td>\n",
              "      <td>0</td>\n",
              "      <td>64</td>\n",
              "      <td>50460000</td>\n",
              "      <td>สำนักงานเขตคลองสามวา</td>\n",
              "      <td>-</td>\n",
              "      <td>งบลงทุน</td>\n",
              "      <td>ขุดลอกคลองสี่ตะวันตก จากคลองสามวา ถึงคลองพระยา...</td>\n",
              "      <td>5815000</td>\n",
              "    </tr>\n",
              "    <tr>\n",
              "      <th>271</th>\n",
              "      <td>งบประจำปี</td>\n",
              "      <td>0</td>\n",
              "      <td>65</td>\n",
              "      <td>50170000</td>\n",
              "      <td>สำนักงานเขตคลองสาน</td>\n",
              "      <td>NaN</td>\n",
              "      <td>งบลงทุน</td>\n",
              "      <td>ขุดลอกคลองวัดน้อยใหม่จากแยกบ้านแขกถึงคลองสมเด็...</td>\n",
              "      <td>659000</td>\n",
              "    </tr>\n",
              "    <tr>\n",
              "      <th>400</th>\n",
              "      <td>งบเพิ่มเติม</td>\n",
              "      <td>1</td>\n",
              "      <td>65</td>\n",
              "      <td>50460000</td>\n",
              "      <td>สำนักงานเขตคลองสามวา</td>\n",
              "      <td>NaN</td>\n",
              "      <td>งบลงทุน</td>\n",
              "      <td>ขุดลอกลำรางวัดแป้นทอง จากคลองสี่ตะวันตก ถึงคลอ...</td>\n",
              "      <td>1246200</td>\n",
              "    </tr>\n",
              "    <tr>\n",
              "      <th>401</th>\n",
              "      <td>งบเพิ่มเติม</td>\n",
              "      <td>1</td>\n",
              "      <td>65</td>\n",
              "      <td>50460000</td>\n",
              "      <td>สำนักงานเขตคลองสามวา</td>\n",
              "      <td>NaN</td>\n",
              "      <td>งบลงทุน</td>\n",
              "      <td>ขุดลอกลำรางครูพัว จากคลองสองตะวันตก ถึงคลองหนึ...</td>\n",
              "      <td>542200</td>\n",
              "    </tr>\n",
              "    <tr>\n",
              "      <th>402</th>\n",
              "      <td>งบเพิ่มเติม</td>\n",
              "      <td>1</td>\n",
              "      <td>65</td>\n",
              "      <td>50460000</td>\n",
              "      <td>สำนักงานเขตคลองสามวา</td>\n",
              "      <td>NaN</td>\n",
              "      <td>งบลงทุน</td>\n",
              "      <td>ขุดลอกลำรางตาชม จากคลองลำควายตาย ถึงคลองบางชัน</td>\n",
              "      <td>452300</td>\n",
              "    </tr>\n",
              "    <tr>\n",
              "      <th>403</th>\n",
              "      <td>งบเพิ่มเติม</td>\n",
              "      <td>1</td>\n",
              "      <td>65</td>\n",
              "      <td>50460000</td>\n",
              "      <td>สำนักงานเขตคลองสามวา</td>\n",
              "      <td>NaN</td>\n",
              "      <td>งบลงทุน</td>\n",
              "      <td>ขุดลอกคลองเจ๊ก จากคลองหนึ่งตะวันตก ถึงสุดเขตคล...</td>\n",
              "      <td>1204500</td>\n",
              "    </tr>\n",
              "    <tr>\n",
              "      <th>404</th>\n",
              "      <td>งบเพิ่มเติม</td>\n",
              "      <td>1</td>\n",
              "      <td>65</td>\n",
              "      <td>50460000</td>\n",
              "      <td>สำนักงานเขตคลองสามวา</td>\n",
              "      <td>NaN</td>\n",
              "      <td>งบลงทุน</td>\n",
              "      <td>ขุดลอกคลองซอยเชื่อมคลองลำแบนกับคลองหนองระแหง จ...</td>\n",
              "      <td>453600</td>\n",
              "    </tr>\n",
              "    <tr>\n",
              "      <th>441</th>\n",
              "      <td>งบประจำปี</td>\n",
              "      <td>0</td>\n",
              "      <td>66</td>\n",
              "      <td>50170000</td>\n",
              "      <td>สำนักงานเขตคลองสาน</td>\n",
              "      <td>NaN</td>\n",
              "      <td>งบลงทุน</td>\n",
              "      <td>ขุดลอกคลองโรงหนัง จากคลองบางไส้ไก่ถึงแม่น้ำเจ้...</td>\n",
              "      <td>1325000</td>\n",
              "    </tr>\n",
              "    <tr>\n",
              "      <th>442</th>\n",
              "      <td>งบประจำปี</td>\n",
              "      <td>0</td>\n",
              "      <td>66</td>\n",
              "      <td>50170000</td>\n",
              "      <td>สำนักงานเขตคลองสาน</td>\n",
              "      <td>NaN</td>\n",
              "      <td>งบลงทุน</td>\n",
              "      <td>ขุดลอกคลองข้างโรงน้ำแข็ง จากสุดระยะคลองถึงแม่น...</td>\n",
              "      <td>358000</td>\n",
              "    </tr>\n",
              "    <tr>\n",
              "      <th>443</th>\n",
              "      <td>งบประจำปี</td>\n",
              "      <td>0</td>\n",
              "      <td>66</td>\n",
              "      <td>50170000</td>\n",
              "      <td>สำนักงานเขตคลองสาน</td>\n",
              "      <td>NaN</td>\n",
              "      <td>งบลงทุน</td>\n",
              "      <td>ขุดลอกคลองข้างวัดอนงค์ จากคลองหลัง\\nวัดพิชัยญา...</td>\n",
              "      <td>205000</td>\n",
              "    </tr>\n",
              "    <tr>\n",
              "      <th>681</th>\n",
              "      <td>งบเพิ่มเติม</td>\n",
              "      <td>1</td>\n",
              "      <td>66</td>\n",
              "      <td>50460000</td>\n",
              "      <td>สำนักงานเขตคลองสามวา</td>\n",
              "      <td>NaN</td>\n",
              "      <td>งบลงทุน</td>\n",
              "      <td>ขุดลอกลำรางตาเชย</td>\n",
              "      <td>3559000</td>\n",
              "    </tr>\n",
              "    <tr>\n",
              "      <th>682</th>\n",
              "      <td>งบเพิ่มเติม</td>\n",
              "      <td>1</td>\n",
              "      <td>66</td>\n",
              "      <td>50460000</td>\n",
              "      <td>สำนักงานเขตคลองสามวา</td>\n",
              "      <td>NaN</td>\n",
              "      <td>งบลงทุน</td>\n",
              "      <td>ขุดลอกลำรางไทยเอราวัณ</td>\n",
              "      <td>3494000</td>\n",
              "    </tr>\n",
              "    <tr>\n",
              "      <th>683</th>\n",
              "      <td>งบเพิ่มเติม</td>\n",
              "      <td>1</td>\n",
              "      <td>66</td>\n",
              "      <td>50460000</td>\n",
              "      <td>สำนักงานเขตคลองสามวา</td>\n",
              "      <td>NaN</td>\n",
              "      <td>งบลงทุน</td>\n",
              "      <td>ขุดลอกคลองหนึ่งตะวันตก</td>\n",
              "      <td>4330000</td>\n",
              "    </tr>\n",
              "    <tr>\n",
              "      <th>684</th>\n",
              "      <td>งบเพิ่มเติม</td>\n",
              "      <td>1</td>\n",
              "      <td>66</td>\n",
              "      <td>50460000</td>\n",
              "      <td>สำนักงานเขตคลองสามวา</td>\n",
              "      <td>NaN</td>\n",
              "      <td>งบลงทุน</td>\n",
              "      <td>ขุดลอกคลองสองตะวันตก</td>\n",
              "      <td>9832000</td>\n",
              "    </tr>\n",
              "    <tr>\n",
              "      <th>685</th>\n",
              "      <td>งบเพิ่มเติม</td>\n",
              "      <td>1</td>\n",
              "      <td>66</td>\n",
              "      <td>50460000</td>\n",
              "      <td>สำนักงานเขตคลองสามวา</td>\n",
              "      <td>NaN</td>\n",
              "      <td>งบลงทุน</td>\n",
              "      <td>ขุดลอกคลองกีบหมู</td>\n",
              "      <td>2925000</td>\n",
              "    </tr>\n",
              "    <tr>\n",
              "      <th>686</th>\n",
              "      <td>งบเพิ่มเติม</td>\n",
              "      <td>1</td>\n",
              "      <td>66</td>\n",
              "      <td>50460000</td>\n",
              "      <td>สำนักงานเขตคลองสามวา</td>\n",
              "      <td>NaN</td>\n",
              "      <td>งบลงทุน</td>\n",
              "      <td>ขุดลอกคลองลำกะโหลก</td>\n",
              "      <td>3875000</td>\n",
              "    </tr>\n",
              "    <tr>\n",
              "      <th>687</th>\n",
              "      <td>งบเพิ่มเติม</td>\n",
              "      <td>1</td>\n",
              "      <td>66</td>\n",
              "      <td>50460000</td>\n",
              "      <td>สำนักงานเขตคลองสามวา</td>\n",
              "      <td>NaN</td>\n",
              "      <td>งบลงทุน</td>\n",
              "      <td>ขุดลอกคลองผักกะเฉด</td>\n",
              "      <td>3686000</td>\n",
              "    </tr>\n",
              "    <tr>\n",
              "      <th>688</th>\n",
              "      <td>งบเพิ่มเติม</td>\n",
              "      <td>1</td>\n",
              "      <td>66</td>\n",
              "      <td>50460000</td>\n",
              "      <td>สำนักงานเขตคลองสามวา</td>\n",
              "      <td>NaN</td>\n",
              "      <td>งบลงทุน</td>\n",
              "      <td>ขุดลอกคลองบึงทรายกองดิน</td>\n",
              "      <td>2575000</td>\n",
              "    </tr>\n",
              "    <tr>\n",
              "      <th>689</th>\n",
              "      <td>งบเพิ่มเติม</td>\n",
              "      <td>1</td>\n",
              "      <td>66</td>\n",
              "      <td>50460000</td>\n",
              "      <td>สำนักงานเขตคลองสามวา</td>\n",
              "      <td>NaN</td>\n",
              "      <td>งบลงทุน</td>\n",
              "      <td>ขุดลอกลำรางซาฟารี</td>\n",
              "      <td>689000</td>\n",
              "    </tr>\n",
              "    <tr>\n",
              "      <th>690</th>\n",
              "      <td>งบเพิ่มเติม</td>\n",
              "      <td>1</td>\n",
              "      <td>66</td>\n",
              "      <td>50460000</td>\n",
              "      <td>สำนักงานเขตคลองสามวา</td>\n",
              "      <td>NaN</td>\n",
              "      <td>งบลงทุน</td>\n",
              "      <td>ขุดลอกลำรางตาจันทร์</td>\n",
              "      <td>464000</td>\n",
              "    </tr>\n",
              "  </tbody>\n",
              "</table>\n",
              "</div>\n",
              "      <button class=\"colab-df-convert\" onclick=\"convertToInteractive('df-1e24deb4-39e6-4fa3-a0fc-c916f298bd5e')\"\n",
              "              title=\"Convert this dataframe to an interactive table.\"\n",
              "              style=\"display:none;\">\n",
              "\n",
              "  <svg xmlns=\"http://www.w3.org/2000/svg\" height=\"24px\"viewBox=\"0 0 24 24\"\n",
              "       width=\"24px\">\n",
              "    <path d=\"M0 0h24v24H0V0z\" fill=\"none\"/>\n",
              "    <path d=\"M18.56 5.44l.94 2.06.94-2.06 2.06-.94-2.06-.94-.94-2.06-.94 2.06-2.06.94zm-11 1L8.5 8.5l.94-2.06 2.06-.94-2.06-.94L8.5 2.5l-.94 2.06-2.06.94zm10 10l.94 2.06.94-2.06 2.06-.94-2.06-.94-.94-2.06-.94 2.06-2.06.94z\"/><path d=\"M17.41 7.96l-1.37-1.37c-.4-.4-.92-.59-1.43-.59-.52 0-1.04.2-1.43.59L10.3 9.45l-7.72 7.72c-.78.78-.78 2.05 0 2.83L4 21.41c.39.39.9.59 1.41.59.51 0 1.02-.2 1.41-.59l7.78-7.78 2.81-2.81c.8-.78.8-2.07 0-2.86zM5.41 20L4 18.59l7.72-7.72 1.47 1.35L5.41 20z\"/>\n",
              "  </svg>\n",
              "      </button>\n",
              "\n",
              "\n",
              "\n",
              "    <div id=\"df-23284758-aa77-44f7-8baf-976922205fbb\">\n",
              "      <button class=\"colab-df-quickchart\" onclick=\"quickchart('df-23284758-aa77-44f7-8baf-976922205fbb')\"\n",
              "              title=\"Suggest charts.\"\n",
              "              style=\"display:none;\">\n",
              "\n",
              "<svg xmlns=\"http://www.w3.org/2000/svg\" height=\"24px\"viewBox=\"0 0 24 24\"\n",
              "     width=\"24px\">\n",
              "    <g>\n",
              "        <path d=\"M19 3H5c-1.1 0-2 .9-2 2v14c0 1.1.9 2 2 2h14c1.1 0 2-.9 2-2V5c0-1.1-.9-2-2-2zM9 17H7v-7h2v7zm4 0h-2V7h2v10zm4 0h-2v-4h2v4z\"/>\n",
              "    </g>\n",
              "</svg>\n",
              "      </button>\n",
              "    </div>\n",
              "\n",
              "<style>\n",
              "  .colab-df-quickchart {\n",
              "    background-color: #E8F0FE;\n",
              "    border: none;\n",
              "    border-radius: 50%;\n",
              "    cursor: pointer;\n",
              "    display: none;\n",
              "    fill: #1967D2;\n",
              "    height: 32px;\n",
              "    padding: 0 0 0 0;\n",
              "    width: 32px;\n",
              "  }\n",
              "\n",
              "  .colab-df-quickchart:hover {\n",
              "    background-color: #E2EBFA;\n",
              "    box-shadow: 0px 1px 2px rgba(60, 64, 67, 0.3), 0px 1px 3px 1px rgba(60, 64, 67, 0.15);\n",
              "    fill: #174EA6;\n",
              "  }\n",
              "\n",
              "  [theme=dark] .colab-df-quickchart {\n",
              "    background-color: #3B4455;\n",
              "    fill: #D2E3FC;\n",
              "  }\n",
              "\n",
              "  [theme=dark] .colab-df-quickchart:hover {\n",
              "    background-color: #434B5C;\n",
              "    box-shadow: 0px 1px 3px 1px rgba(0, 0, 0, 0.15);\n",
              "    filter: drop-shadow(0px 1px 2px rgba(0, 0, 0, 0.3));\n",
              "    fill: #FFFFFF;\n",
              "  }\n",
              "</style>\n",
              "\n",
              "    <script>\n",
              "      async function quickchart(key) {\n",
              "        const containerElement = document.querySelector('#' + key);\n",
              "        const charts = await google.colab.kernel.invokeFunction(\n",
              "            'suggestCharts', [key], {});\n",
              "      }\n",
              "    </script>\n",
              "\n",
              "      <script>\n",
              "\n",
              "function displayQuickchartButton(domScope) {\n",
              "  let quickchartButtonEl =\n",
              "    domScope.querySelector('#df-23284758-aa77-44f7-8baf-976922205fbb button.colab-df-quickchart');\n",
              "  quickchartButtonEl.style.display =\n",
              "    google.colab.kernel.accessAllowed ? 'block' : 'none';\n",
              "}\n",
              "\n",
              "        displayQuickchartButton(document);\n",
              "      </script>\n",
              "      <style>\n",
              "    .colab-df-container {\n",
              "      display:flex;\n",
              "      flex-wrap:wrap;\n",
              "      gap: 12px;\n",
              "    }\n",
              "\n",
              "    .colab-df-convert {\n",
              "      background-color: #E8F0FE;\n",
              "      border: none;\n",
              "      border-radius: 50%;\n",
              "      cursor: pointer;\n",
              "      display: none;\n",
              "      fill: #1967D2;\n",
              "      height: 32px;\n",
              "      padding: 0 0 0 0;\n",
              "      width: 32px;\n",
              "    }\n",
              "\n",
              "    .colab-df-convert:hover {\n",
              "      background-color: #E2EBFA;\n",
              "      box-shadow: 0px 1px 2px rgba(60, 64, 67, 0.3), 0px 1px 3px 1px rgba(60, 64, 67, 0.15);\n",
              "      fill: #174EA6;\n",
              "    }\n",
              "\n",
              "    [theme=dark] .colab-df-convert {\n",
              "      background-color: #3B4455;\n",
              "      fill: #D2E3FC;\n",
              "    }\n",
              "\n",
              "    [theme=dark] .colab-df-convert:hover {\n",
              "      background-color: #434B5C;\n",
              "      box-shadow: 0px 1px 3px 1px rgba(0, 0, 0, 0.15);\n",
              "      filter: drop-shadow(0px 1px 2px rgba(0, 0, 0, 0.3));\n",
              "      fill: #FFFFFF;\n",
              "    }\n",
              "  </style>\n",
              "\n",
              "      <script>\n",
              "        const buttonEl =\n",
              "          document.querySelector('#df-1e24deb4-39e6-4fa3-a0fc-c916f298bd5e button.colab-df-convert');\n",
              "        buttonEl.style.display =\n",
              "          google.colab.kernel.accessAllowed ? 'block' : 'none';\n",
              "\n",
              "        async function convertToInteractive(key) {\n",
              "          const element = document.querySelector('#df-1e24deb4-39e6-4fa3-a0fc-c916f298bd5e');\n",
              "          const dataTable =\n",
              "            await google.colab.kernel.invokeFunction('convertToInteractive',\n",
              "                                                     [key], {});\n",
              "          if (!dataTable) return;\n",
              "\n",
              "          const docLinkHtml = 'Like what you see? Visit the ' +\n",
              "            '<a target=\"_blank\" href=https://colab.research.google.com/notebooks/data_table.ipynb>data table notebook</a>'\n",
              "            + ' to learn more about interactive tables.';\n",
              "          element.innerHTML = '';\n",
              "          dataTable['output_type'] = 'display_data';\n",
              "          await google.colab.output.renderOutput(dataTable, element);\n",
              "          const docLink = document.createElement('div');\n",
              "          docLink.innerHTML = docLinkHtml;\n",
              "          element.appendChild(docLink);\n",
              "        }\n",
              "      </script>\n",
              "    </div>\n",
              "  </div>\n"
            ]
          },
          "metadata": {},
          "execution_count": 34
        }
      ]
    },
    {
      "cell_type": "code",
      "source": [
        "data1[(data1['Department'] == 'สำนักงานเขตคลองสาน') | (data1['Department'] == 'สำนักงานเขตคลองสามวา')].shape"
      ],
      "metadata": {
        "id": "Ov3A-u5aAEXx",
        "outputId": "1bb552ca-e499-4e0a-b986-c258686806f1",
        "colab": {
          "base_uri": "https://localhost:8080/"
        }
      },
      "execution_count": 35,
      "outputs": [
        {
          "output_type": "execute_result",
          "data": {
            "text/plain": [
              "(30, 9)"
            ]
          },
          "metadata": {},
          "execution_count": 35
        }
      ]
    },
    {
      "cell_type": "markdown",
      "source": [
        "##ข้อ3"
      ],
      "metadata": {
        "id": "aRDky-sZAKLI"
      }
    },
    {
      "cell_type": "code",
      "source": [
        "dataHW3 = data1[(data1['Department'] == 'สำนักงานเขตคลองสาน') | (data1['Department'] == 'สำนักงานเขตคลองสามวา')]"
      ],
      "metadata": {
        "id": "Em5_hOM9AOBz"
      },
      "execution_count": 36,
      "outputs": []
    },
    {
      "cell_type": "code",
      "source": [
        "dataHW3[['Budget_resource', 'Issue_No', 'Fiscal_year', 'Department_code',\n",
        "       'Department', 'Core_budget_code', 'Expenditure_category', 'Item_name',\n",
        "       'Approved_buget']].max()"
      ],
      "metadata": {
        "id": "ofjtEzqJAWYF",
        "outputId": "5f38980b-c7bb-47c5-a12d-0b43edf72fbe",
        "colab": {
          "base_uri": "https://localhost:8080/"
        }
      },
      "execution_count": 37,
      "outputs": [
        {
          "output_type": "stream",
          "name": "stderr",
          "text": [
            "<ipython-input-37-72b47ae098e4>:3: FutureWarning: The default value of numeric_only in DataFrame.max is deprecated. In a future version, it will default to False. In addition, specifying 'numeric_only=None' is deprecated. Select only valid columns or specify the value of numeric_only to silence this warning.\n",
            "  'Approved_buget']].max()\n"
          ]
        },
        {
          "output_type": "execute_result",
          "data": {
            "text/plain": [
              "Budget_resource                   งบเพิ่มเติม\n",
              "Issue_No                                    1\n",
              "Fiscal_year                                66\n",
              "Department_code                      50460000\n",
              "Department               สำนักงานเขตคลองสามวา\n",
              "Expenditure_category                  งบลงทุน\n",
              "Item_name               ขุดลอกลำรางไทยเอราวัณ\n",
              "Approved_buget                        9832000\n",
              "dtype: object"
            ]
          },
          "metadata": {},
          "execution_count": 37
        }
      ]
    },
    {
      "cell_type": "code",
      "source": [
        "MAX_DATA3 = dataHW3['Approved_buget'].max()\n",
        "dataMAX = dataHW3[(dataHW3['Approved_buget'] == MAX_DATA3)]\n",
        "dataMAX"
      ],
      "metadata": {
        "id": "AFzYDPVOAWnV",
        "outputId": "8617973e-c95e-49b5-c3f8-aeb12d854424",
        "colab": {
          "base_uri": "https://localhost:8080/",
          "height": 161
        }
      },
      "execution_count": 38,
      "outputs": [
        {
          "output_type": "execute_result",
          "data": {
            "text/plain": [
              "    Budget_resource  Issue_No  Fiscal_year  Department_code  \\\n",
              "684     งบเพิ่มเติม         1           66         50460000   \n",
              "\n",
              "               Department Core_budget_code Expenditure_category  \\\n",
              "684  สำนักงานเขตคลองสามวา              NaN              งบลงทุน   \n",
              "\n",
              "                Item_name  Approved_buget  \n",
              "684  ขุดลอกคลองสองตะวันตก         9832000  "
            ],
            "text/html": [
              "\n",
              "\n",
              "  <div id=\"df-42cd0536-c9f0-429b-b158-e7b476d64232\">\n",
              "    <div class=\"colab-df-container\">\n",
              "      <div>\n",
              "<style scoped>\n",
              "    .dataframe tbody tr th:only-of-type {\n",
              "        vertical-align: middle;\n",
              "    }\n",
              "\n",
              "    .dataframe tbody tr th {\n",
              "        vertical-align: top;\n",
              "    }\n",
              "\n",
              "    .dataframe thead th {\n",
              "        text-align: right;\n",
              "    }\n",
              "</style>\n",
              "<table border=\"1\" class=\"dataframe\">\n",
              "  <thead>\n",
              "    <tr style=\"text-align: right;\">\n",
              "      <th></th>\n",
              "      <th>Budget_resource</th>\n",
              "      <th>Issue_No</th>\n",
              "      <th>Fiscal_year</th>\n",
              "      <th>Department_code</th>\n",
              "      <th>Department</th>\n",
              "      <th>Core_budget_code</th>\n",
              "      <th>Expenditure_category</th>\n",
              "      <th>Item_name</th>\n",
              "      <th>Approved_buget</th>\n",
              "    </tr>\n",
              "  </thead>\n",
              "  <tbody>\n",
              "    <tr>\n",
              "      <th>684</th>\n",
              "      <td>งบเพิ่มเติม</td>\n",
              "      <td>1</td>\n",
              "      <td>66</td>\n",
              "      <td>50460000</td>\n",
              "      <td>สำนักงานเขตคลองสามวา</td>\n",
              "      <td>NaN</td>\n",
              "      <td>งบลงทุน</td>\n",
              "      <td>ขุดลอกคลองสองตะวันตก</td>\n",
              "      <td>9832000</td>\n",
              "    </tr>\n",
              "  </tbody>\n",
              "</table>\n",
              "</div>\n",
              "      <button class=\"colab-df-convert\" onclick=\"convertToInteractive('df-42cd0536-c9f0-429b-b158-e7b476d64232')\"\n",
              "              title=\"Convert this dataframe to an interactive table.\"\n",
              "              style=\"display:none;\">\n",
              "\n",
              "  <svg xmlns=\"http://www.w3.org/2000/svg\" height=\"24px\"viewBox=\"0 0 24 24\"\n",
              "       width=\"24px\">\n",
              "    <path d=\"M0 0h24v24H0V0z\" fill=\"none\"/>\n",
              "    <path d=\"M18.56 5.44l.94 2.06.94-2.06 2.06-.94-2.06-.94-.94-2.06-.94 2.06-2.06.94zm-11 1L8.5 8.5l.94-2.06 2.06-.94-2.06-.94L8.5 2.5l-.94 2.06-2.06.94zm10 10l.94 2.06.94-2.06 2.06-.94-2.06-.94-.94-2.06-.94 2.06-2.06.94z\"/><path d=\"M17.41 7.96l-1.37-1.37c-.4-.4-.92-.59-1.43-.59-.52 0-1.04.2-1.43.59L10.3 9.45l-7.72 7.72c-.78.78-.78 2.05 0 2.83L4 21.41c.39.39.9.59 1.41.59.51 0 1.02-.2 1.41-.59l7.78-7.78 2.81-2.81c.8-.78.8-2.07 0-2.86zM5.41 20L4 18.59l7.72-7.72 1.47 1.35L5.41 20z\"/>\n",
              "  </svg>\n",
              "      </button>\n",
              "\n",
              "\n",
              "\n",
              "    <div id=\"df-2fe3608a-48d2-493b-945c-5f6333adf3c0\">\n",
              "      <button class=\"colab-df-quickchart\" onclick=\"quickchart('df-2fe3608a-48d2-493b-945c-5f6333adf3c0')\"\n",
              "              title=\"Suggest charts.\"\n",
              "              style=\"display:none;\">\n",
              "\n",
              "<svg xmlns=\"http://www.w3.org/2000/svg\" height=\"24px\"viewBox=\"0 0 24 24\"\n",
              "     width=\"24px\">\n",
              "    <g>\n",
              "        <path d=\"M19 3H5c-1.1 0-2 .9-2 2v14c0 1.1.9 2 2 2h14c1.1 0 2-.9 2-2V5c0-1.1-.9-2-2-2zM9 17H7v-7h2v7zm4 0h-2V7h2v10zm4 0h-2v-4h2v4z\"/>\n",
              "    </g>\n",
              "</svg>\n",
              "      </button>\n",
              "    </div>\n",
              "\n",
              "<style>\n",
              "  .colab-df-quickchart {\n",
              "    background-color: #E8F0FE;\n",
              "    border: none;\n",
              "    border-radius: 50%;\n",
              "    cursor: pointer;\n",
              "    display: none;\n",
              "    fill: #1967D2;\n",
              "    height: 32px;\n",
              "    padding: 0 0 0 0;\n",
              "    width: 32px;\n",
              "  }\n",
              "\n",
              "  .colab-df-quickchart:hover {\n",
              "    background-color: #E2EBFA;\n",
              "    box-shadow: 0px 1px 2px rgba(60, 64, 67, 0.3), 0px 1px 3px 1px rgba(60, 64, 67, 0.15);\n",
              "    fill: #174EA6;\n",
              "  }\n",
              "\n",
              "  [theme=dark] .colab-df-quickchart {\n",
              "    background-color: #3B4455;\n",
              "    fill: #D2E3FC;\n",
              "  }\n",
              "\n",
              "  [theme=dark] .colab-df-quickchart:hover {\n",
              "    background-color: #434B5C;\n",
              "    box-shadow: 0px 1px 3px 1px rgba(0, 0, 0, 0.15);\n",
              "    filter: drop-shadow(0px 1px 2px rgba(0, 0, 0, 0.3));\n",
              "    fill: #FFFFFF;\n",
              "  }\n",
              "</style>\n",
              "\n",
              "    <script>\n",
              "      async function quickchart(key) {\n",
              "        const containerElement = document.querySelector('#' + key);\n",
              "        const charts = await google.colab.kernel.invokeFunction(\n",
              "            'suggestCharts', [key], {});\n",
              "      }\n",
              "    </script>\n",
              "\n",
              "      <script>\n",
              "\n",
              "function displayQuickchartButton(domScope) {\n",
              "  let quickchartButtonEl =\n",
              "    domScope.querySelector('#df-2fe3608a-48d2-493b-945c-5f6333adf3c0 button.colab-df-quickchart');\n",
              "  quickchartButtonEl.style.display =\n",
              "    google.colab.kernel.accessAllowed ? 'block' : 'none';\n",
              "}\n",
              "\n",
              "        displayQuickchartButton(document);\n",
              "      </script>\n",
              "      <style>\n",
              "    .colab-df-container {\n",
              "      display:flex;\n",
              "      flex-wrap:wrap;\n",
              "      gap: 12px;\n",
              "    }\n",
              "\n",
              "    .colab-df-convert {\n",
              "      background-color: #E8F0FE;\n",
              "      border: none;\n",
              "      border-radius: 50%;\n",
              "      cursor: pointer;\n",
              "      display: none;\n",
              "      fill: #1967D2;\n",
              "      height: 32px;\n",
              "      padding: 0 0 0 0;\n",
              "      width: 32px;\n",
              "    }\n",
              "\n",
              "    .colab-df-convert:hover {\n",
              "      background-color: #E2EBFA;\n",
              "      box-shadow: 0px 1px 2px rgba(60, 64, 67, 0.3), 0px 1px 3px 1px rgba(60, 64, 67, 0.15);\n",
              "      fill: #174EA6;\n",
              "    }\n",
              "\n",
              "    [theme=dark] .colab-df-convert {\n",
              "      background-color: #3B4455;\n",
              "      fill: #D2E3FC;\n",
              "    }\n",
              "\n",
              "    [theme=dark] .colab-df-convert:hover {\n",
              "      background-color: #434B5C;\n",
              "      box-shadow: 0px 1px 3px 1px rgba(0, 0, 0, 0.15);\n",
              "      filter: drop-shadow(0px 1px 2px rgba(0, 0, 0, 0.3));\n",
              "      fill: #FFFFFF;\n",
              "    }\n",
              "  </style>\n",
              "\n",
              "      <script>\n",
              "        const buttonEl =\n",
              "          document.querySelector('#df-42cd0536-c9f0-429b-b158-e7b476d64232 button.colab-df-convert');\n",
              "        buttonEl.style.display =\n",
              "          google.colab.kernel.accessAllowed ? 'block' : 'none';\n",
              "\n",
              "        async function convertToInteractive(key) {\n",
              "          const element = document.querySelector('#df-42cd0536-c9f0-429b-b158-e7b476d64232');\n",
              "          const dataTable =\n",
              "            await google.colab.kernel.invokeFunction('convertToInteractive',\n",
              "                                                     [key], {});\n",
              "          if (!dataTable) return;\n",
              "\n",
              "          const docLinkHtml = 'Like what you see? Visit the ' +\n",
              "            '<a target=\"_blank\" href=https://colab.research.google.com/notebooks/data_table.ipynb>data table notebook</a>'\n",
              "            + ' to learn more about interactive tables.';\n",
              "          element.innerHTML = '';\n",
              "          dataTable['output_type'] = 'display_data';\n",
              "          await google.colab.output.renderOutput(dataTable, element);\n",
              "          const docLink = document.createElement('div');\n",
              "          docLink.innerHTML = docLinkHtml;\n",
              "          element.appendChild(docLink);\n",
              "        }\n",
              "      </script>\n",
              "    </div>\n",
              "  </div>\n"
            ]
          },
          "metadata": {},
          "execution_count": 38
        }
      ]
    },
    {
      "cell_type": "markdown",
      "source": [
        "##ข้อ4"
      ],
      "metadata": {
        "id": "6fZ-QU48Afps"
      }
    },
    {
      "cell_type": "code",
      "source": [
        "nonna_data1 = data1.dropna()\n",
        "hascore_data1 = nonna_data1[nonna_data1['Core_budget_code'] != '-']\n",
        "hascore_data1_12 =hascore_data1[hascore_data1['Core_budget_code'] == '12-เงินสำรองจ่ายทั่วไป กรณีค่าใช้จ่ายต่างๆ เกี่ยวกับน้ำท่วม']\n",
        "hascore_data1_28 =hascore_data1[hascore_data1['Core_budget_code'] == '28-เงินสำรองค่าใช้จ่าย ในการพัฒนาเขต']\n",
        "hascore_data1_17 =hascore_data1[hascore_data1['Core_budget_code'] == '17-เงินสำรองจ่ายทั่วไป กรณีค่าใช้จ่ายเพื่อการพัฒนากรุงเทพมหานคร']\n",
        "corename = []\n",
        "x=set(hascore_data1['Core_budget_code'])\n",
        "for n in x:\n",
        "  corename.append(n)\n",
        "hascore_data1_12_MEAN =hascore_data1_12['Approved_buget'].mean()\n",
        "hascore_data1_17_MEAN =hascore_data1_17['Approved_buget'].mean()\n",
        "hascore_data1_28_MEAN =hascore_data1_28['Approved_buget'].mean()\n",
        "if (hascore_data1_12_MEAN > hascore_data1_17_MEAN ) & (hascore_data1_12_MEAN > hascore_data1_28_MEAN ):\n",
        "  print(f'รายการนี้ {corename[0]} มีค่าเฉลี่ยงบประมาณที่ถูกอนุมัติสูงที่สุด {hascore_data1_12_MEAN}')\n",
        "elif (hascore_data1_17_MEAN > hascore_data1_12_MEAN ) & (hascore_data1_17_MEAN > hascore_data1_28_MEAN ):\n",
        "  print(f'รายการนี้ {corename[1]} มีค่าเฉลี่ยงบประมาณที่ถูกอนุมัติสูงที่สุด {hascore_data1_17_MEAN}')\n",
        "elif (hascore_data1_28_MEAN > hascore_data1_12_MEAN ) & (hascore_data1_28_MEAN > hascore_data1_17_MEAN ):\n",
        "  print(f'รายการนี้ {corename[2]} มีค่าเฉลี่ยงบประมาณที่ถูกอนุมัติสูงที่สุด {hascore_data1_28_MEAN}')"
      ],
      "metadata": {
        "id": "PpnZyE26Aizv",
        "outputId": "50dab7d4-d102-4198-c85a-93e5304a4a99",
        "colab": {
          "base_uri": "https://localhost:8080/"
        }
      },
      "execution_count": 39,
      "outputs": [
        {
          "output_type": "stream",
          "name": "stdout",
          "text": [
            "รายการนี้ 28-เงินสำรองค่าใช้จ่าย ในการพัฒนาเขต มีค่าเฉลี่ยงบประมาณที่ถูกอนุมัติสูงที่สุด 1837500.0\n"
          ]
        }
      ]
    },
    {
      "cell_type": "markdown",
      "metadata": {
        "id": "ZbzScMVdb6U7"
      },
      "source": [
        "### การวนลูป record ในตาราง  (```.iterrows```)"
      ]
    },
    {
      "cell_type": "code",
      "metadata": {
        "id": "HuvNCoCRq1YQ"
      },
      "source": [
        "this_data = data_covid[['sex','age','province_of_onset']]\n",
        "this_data"
      ],
      "execution_count": null,
      "outputs": []
    },
    {
      "cell_type": "code",
      "metadata": {
        "id": "WekNYPgMtwxX"
      },
      "source": [
        "for each_row in this_data.iterrows():\n",
        "    # print(each_row)\n",
        "    # print(each_row[1])\n",
        "    # print(each_row[1]['sex'])\n",
        "    if (each_row[1]['age'] <= 20) and (each_row[1]['province_of_onset'] == 'ขอนแก่น'):\n",
        "        print(each_row)"
      ],
      "execution_count": null,
      "outputs": []
    },
    {
      "cell_type": "markdown",
      "metadata": {
        "id": "Rt9Sm-nGr8um"
      },
      "source": [
        "### การวนลูป แบบมองตารางแพนด้าส์(pandas dataframe) เป็น numpy array  (```.iloc```)"
      ]
    },
    {
      "cell_type": "code",
      "metadata": {
        "id": "-gT66JgMuBN0"
      },
      "source": [
        "for each_row in range(this_data.shape[0]):\n",
        "    if (this_data.iloc[each_row,1] <= 20) and (this_data.iloc[each_row,2] == 'ขอนแก่น'):  #each_row คือ ตัวเลข\n",
        "        print(each_row)\n",
        "        print(this_data.iloc[each_row,:])"
      ],
      "execution_count": null,
      "outputs": []
    },
    {
      "cell_type": "markdown",
      "metadata": {
        "id": "VlgREHOC0eXu"
      },
      "source": [
        "## Quiz ตัดตารางออกมาเฉพาะปี 2021 ```announce_date``` ในปี 2021\n",
        "\n",
        "**Hint**\n",
        "*   วนลูปหา index ของปี 2021\n",
        "*   ตัดตารางมาเฉพาะ ปี 2021\n",
        "\n"
      ]
    },
    {
      "cell_type": "code",
      "metadata": {
        "id": "E3C7RQIz8wtu"
      },
      "source": [
        "TF=list()\n",
        "for each_row in data_covid.iterrows():\n",
        "    if each_row[1]['announce_date'].split('/')[2] == '2021':\n",
        "        TF.append(True)\n",
        "    else:\n",
        "        TF.append(False)\n",
        "\n",
        "data_covid[TF].head()"
      ],
      "execution_count": null,
      "outputs": []
    },
    {
      "cell_type": "code",
      "source": [
        "TF"
      ],
      "metadata": {
        "id": "6-bZiKrFc_Yn"
      },
      "execution_count": null,
      "outputs": []
    },
    {
      "cell_type": "code",
      "source": [],
      "metadata": {
        "id": "sQSXrHg9dCYR"
      },
      "execution_count": null,
      "outputs": []
    },
    {
      "cell_type": "markdown",
      "source": [
        "### HW กลุ่ม 2 || เลือกข้อมูลมาเฉพาะวัน announce_date เป็นวันที่ 1-20  "
      ],
      "metadata": {
        "id": "nC3foO7jTFb9"
      }
    },
    {
      "cell_type": "markdown",
      "metadata": {
        "id": "gXOzi1O6BAFO"
      },
      "source": [
        "# Function ตัวช่วยใน pandas"
      ]
    },
    {
      "cell_type": "markdown",
      "metadata": {
        "id": "TvToU8hCCJL-"
      },
      "source": [
        "### ```.describe()``` คำนวณค่าทางสถิติของข้อมูลที่เป็นตัวเลข"
      ]
    },
    {
      "cell_type": "code",
      "metadata": {
        "id": "XM8qJ0o7A7ip"
      },
      "source": [
        "data_covid.describe()"
      ],
      "execution_count": null,
      "outputs": []
    },
    {
      "cell_type": "markdown",
      "metadata": {
        "id": "zXToQo4-CaPF"
      },
      "source": [
        "### ```.mean()``` คำนวณค่าเฉลี่ยของข้อมูลโดยไม่สนใจ missing"
      ]
    },
    {
      "cell_type": "code",
      "metadata": {
        "id": "TBwXJCRLBomc"
      },
      "source": [
        "data_covid[data_covid['sex']=='ชาย']['age'].mean()"
      ],
      "execution_count": null,
      "outputs": []
    },
    {
      "cell_type": "markdown",
      "metadata": {
        "id": "NuwVtwnjCpb5"
      },
      "source": [
        "### ```.isnull()```"
      ]
    },
    {
      "cell_type": "code",
      "metadata": {
        "id": "GNHkaDLMCo5t"
      },
      "source": [
        "data_covid.isnull()"
      ],
      "execution_count": null,
      "outputs": []
    },
    {
      "cell_type": "markdown",
      "metadata": {
        "id": "mkAeKL1D5HLi"
      },
      "source": [
        "# next\n",
        "\n",
        "*   ต่อตารางแกน X แกน y\n",
        "*   .groupby\n",
        "*   save table"
      ]
    },
    {
      "cell_type": "code",
      "metadata": {
        "id": "hqgXy4NYxy1W"
      },
      "source": [],
      "execution_count": null,
      "outputs": []
    }
  ]
}